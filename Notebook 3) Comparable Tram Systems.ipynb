{
 "cells": [
  {
   "cell_type": "markdown",
   "id": "1e7891e1",
   "metadata": {},
   "source": [
    "## Notebook 3) Comparable Tram Systems"
   ]
  },
  {
   "cell_type": "markdown",
   "id": "505243ab",
   "metadata": {},
   "source": [
    "#### Section 3.1: Introduction"
   ]
  },
  {
   "cell_type": "markdown",
   "id": "beee6c2e",
   "metadata": {},
   "source": [
    "As required I was asked to perform research in order to compare my preexisiting data to other data sourced from outside Ireland. \n",
    "Below I outline 3 mayor cities with differing levels of tram/light rail infrastructure, for which I have collected data. "
   ]
  },
  {
   "cell_type": "code",
   "execution_count": 113,
   "id": "52598d75",
   "metadata": {},
   "outputs": [],
   "source": [
    "# Import Libraries\n",
    "import pandas as pd\n",
    "import geopandas as gpd\n",
    "import matplotlib.pyplot as plt\n",
    "import plotly.express as px\n",
    "import scipy.stats as stats\n",
    "import seaborn as sns\n",
    "from scipy.stats import ttest_rel\n",
    "from scipy.stats import ttest_ind\n",
    "from scipy.stats import mannwhitneyu\n",
    "import dash\n",
    "from dash import html, dcc"
   ]
  },
  {
   "cell_type": "code",
   "execution_count": 47,
   "id": "bafb8b0d",
   "metadata": {},
   "outputs": [],
   "source": [
    "# Supress Warnings\n",
    "import warnings\n",
    "\n",
    "with warnings.catch_warnings():\n",
    "    warnings.simplefilter(\"ignore\")"
   ]
  },
  {
   "cell_type": "code",
   "execution_count": 48,
   "id": "67c1faa6",
   "metadata": {},
   "outputs": [],
   "source": [
    "# Install if needed\n",
    "#pip install dash"
   ]
  },
  {
   "cell_type": "markdown",
   "id": "a2d1d8e4",
   "metadata": {},
   "source": [
    "### Part 1: Edinburgh Light Rail"
   ]
  },
  {
   "cell_type": "markdown",
   "id": "1e435335",
   "metadata": {},
   "source": [
    "#### Section 3.2: Geograpghical Visualisation"
   ]
  },
  {
   "cell_type": "code",
   "execution_count": 49,
   "id": "81ffc0b0",
   "metadata": {},
   "outputs": [],
   "source": [
    "# Read GeoJSON file\n",
    "gdf = gpd.read_file('G6) Edinburgh Tram Stops.geojson')"
   ]
  },
  {
   "cell_type": "code",
   "execution_count": 50,
   "id": "6f5ad0dd",
   "metadata": {
    "scrolled": false
   },
   "outputs": [
    {
     "data": {
      "application/vnd.plotly.v1+json": {
       "config": {
        "plotlyServerURL": "https://plot.ly"
       },
       "data": [
        {
         "hovertemplate": "<b>%{hovertext}</b><br><br>name=%{text}<br>lat=%{lat}<br>lon=%{lon}<extra></extra>",
         "hovertext": [
          "Saughton",
          "Balgreen",
          "Princes Street",
          "Edinburgh Airport",
          "Edinburgh Park Central",
          "Gyle Centre",
          "St Andrew Square",
          "Murrayfield Stadium",
          "Haymarket",
          "Bankhead",
          "Edinburgh Park Station",
          "Gogarburn",
          "Ingliston Park & Ride",
          "York Place",
          "West End - Princes Street"
         ],
         "lat": [
          55.9323205,
          55.9382084,
          55.9518109,
          55.9479001,
          55.9313471,
          55.9381082,
          55.9545994,
          55.9420152,
          55.9458107,
          55.9288907,
          55.9274171,
          55.9379534,
          55.9400789,
          55.9565294,
          55.9486437
         ],
         "legendgroup": "",
         "lon": [
          -3.2756438,
          -3.2519536,
          -3.1979082,
          -3.36057,
          -3.3144825,
          -3.3183804,
          -3.1924106,
          -3.2373264,
          -3.2196004,
          -3.2938347,
          -3.3065672,
          -3.3325437,
          -3.3540458,
          -3.1887334,
          -3.2116253
         ],
         "marker": {
          "color": "#636efa"
         },
         "mode": "markers+text",
         "name": "",
         "showlegend": false,
         "subplot": "mapbox",
         "text": [
          "Saughton",
          "Balgreen",
          "Princes Street",
          "Edinburgh Airport",
          "Edinburgh Park Central",
          "Gyle Centre",
          "St Andrew Square",
          "Murrayfield Stadium",
          "Haymarket",
          "Bankhead",
          "Edinburgh Park Station",
          "Gogarburn",
          "Ingliston Park & Ride",
          "York Place",
          "West End - Princes Street"
         ],
         "type": "scattermapbox"
        }
       ],
       "layout": {
        "height": 500,
        "legend": {
         "tracegroupgap": 0
        },
        "mapbox": {
         "center": {
          "lat": 55.94144224666666,
          "lon": -3.2703750666666673
         },
         "domain": {
          "x": [
           0,
           1
          ],
          "y": [
           0,
           1
          ]
         },
         "style": "carto-positron",
         "zoom": 12
        },
        "margin": {
         "t": 60
        },
        "template": {
         "data": {
          "bar": [
           {
            "error_x": {
             "color": "#2a3f5f"
            },
            "error_y": {
             "color": "#2a3f5f"
            },
            "marker": {
             "line": {
              "color": "#E5ECF6",
              "width": 0.5
             },
             "pattern": {
              "fillmode": "overlay",
              "size": 10,
              "solidity": 0.2
             }
            },
            "type": "bar"
           }
          ],
          "barpolar": [
           {
            "marker": {
             "line": {
              "color": "#E5ECF6",
              "width": 0.5
             },
             "pattern": {
              "fillmode": "overlay",
              "size": 10,
              "solidity": 0.2
             }
            },
            "type": "barpolar"
           }
          ],
          "carpet": [
           {
            "aaxis": {
             "endlinecolor": "#2a3f5f",
             "gridcolor": "white",
             "linecolor": "white",
             "minorgridcolor": "white",
             "startlinecolor": "#2a3f5f"
            },
            "baxis": {
             "endlinecolor": "#2a3f5f",
             "gridcolor": "white",
             "linecolor": "white",
             "minorgridcolor": "white",
             "startlinecolor": "#2a3f5f"
            },
            "type": "carpet"
           }
          ],
          "choropleth": [
           {
            "colorbar": {
             "outlinewidth": 0,
             "ticks": ""
            },
            "type": "choropleth"
           }
          ],
          "contour": [
           {
            "colorbar": {
             "outlinewidth": 0,
             "ticks": ""
            },
            "colorscale": [
             [
              0,
              "#0d0887"
             ],
             [
              0.1111111111111111,
              "#46039f"
             ],
             [
              0.2222222222222222,
              "#7201a8"
             ],
             [
              0.3333333333333333,
              "#9c179e"
             ],
             [
              0.4444444444444444,
              "#bd3786"
             ],
             [
              0.5555555555555556,
              "#d8576b"
             ],
             [
              0.6666666666666666,
              "#ed7953"
             ],
             [
              0.7777777777777778,
              "#fb9f3a"
             ],
             [
              0.8888888888888888,
              "#fdca26"
             ],
             [
              1,
              "#f0f921"
             ]
            ],
            "type": "contour"
           }
          ],
          "contourcarpet": [
           {
            "colorbar": {
             "outlinewidth": 0,
             "ticks": ""
            },
            "type": "contourcarpet"
           }
          ],
          "heatmap": [
           {
            "colorbar": {
             "outlinewidth": 0,
             "ticks": ""
            },
            "colorscale": [
             [
              0,
              "#0d0887"
             ],
             [
              0.1111111111111111,
              "#46039f"
             ],
             [
              0.2222222222222222,
              "#7201a8"
             ],
             [
              0.3333333333333333,
              "#9c179e"
             ],
             [
              0.4444444444444444,
              "#bd3786"
             ],
             [
              0.5555555555555556,
              "#d8576b"
             ],
             [
              0.6666666666666666,
              "#ed7953"
             ],
             [
              0.7777777777777778,
              "#fb9f3a"
             ],
             [
              0.8888888888888888,
              "#fdca26"
             ],
             [
              1,
              "#f0f921"
             ]
            ],
            "type": "heatmap"
           }
          ],
          "heatmapgl": [
           {
            "colorbar": {
             "outlinewidth": 0,
             "ticks": ""
            },
            "colorscale": [
             [
              0,
              "#0d0887"
             ],
             [
              0.1111111111111111,
              "#46039f"
             ],
             [
              0.2222222222222222,
              "#7201a8"
             ],
             [
              0.3333333333333333,
              "#9c179e"
             ],
             [
              0.4444444444444444,
              "#bd3786"
             ],
             [
              0.5555555555555556,
              "#d8576b"
             ],
             [
              0.6666666666666666,
              "#ed7953"
             ],
             [
              0.7777777777777778,
              "#fb9f3a"
             ],
             [
              0.8888888888888888,
              "#fdca26"
             ],
             [
              1,
              "#f0f921"
             ]
            ],
            "type": "heatmapgl"
           }
          ],
          "histogram": [
           {
            "marker": {
             "pattern": {
              "fillmode": "overlay",
              "size": 10,
              "solidity": 0.2
             }
            },
            "type": "histogram"
           }
          ],
          "histogram2d": [
           {
            "colorbar": {
             "outlinewidth": 0,
             "ticks": ""
            },
            "colorscale": [
             [
              0,
              "#0d0887"
             ],
             [
              0.1111111111111111,
              "#46039f"
             ],
             [
              0.2222222222222222,
              "#7201a8"
             ],
             [
              0.3333333333333333,
              "#9c179e"
             ],
             [
              0.4444444444444444,
              "#bd3786"
             ],
             [
              0.5555555555555556,
              "#d8576b"
             ],
             [
              0.6666666666666666,
              "#ed7953"
             ],
             [
              0.7777777777777778,
              "#fb9f3a"
             ],
             [
              0.8888888888888888,
              "#fdca26"
             ],
             [
              1,
              "#f0f921"
             ]
            ],
            "type": "histogram2d"
           }
          ],
          "histogram2dcontour": [
           {
            "colorbar": {
             "outlinewidth": 0,
             "ticks": ""
            },
            "colorscale": [
             [
              0,
              "#0d0887"
             ],
             [
              0.1111111111111111,
              "#46039f"
             ],
             [
              0.2222222222222222,
              "#7201a8"
             ],
             [
              0.3333333333333333,
              "#9c179e"
             ],
             [
              0.4444444444444444,
              "#bd3786"
             ],
             [
              0.5555555555555556,
              "#d8576b"
             ],
             [
              0.6666666666666666,
              "#ed7953"
             ],
             [
              0.7777777777777778,
              "#fb9f3a"
             ],
             [
              0.8888888888888888,
              "#fdca26"
             ],
             [
              1,
              "#f0f921"
             ]
            ],
            "type": "histogram2dcontour"
           }
          ],
          "mesh3d": [
           {
            "colorbar": {
             "outlinewidth": 0,
             "ticks": ""
            },
            "type": "mesh3d"
           }
          ],
          "parcoords": [
           {
            "line": {
             "colorbar": {
              "outlinewidth": 0,
              "ticks": ""
             }
            },
            "type": "parcoords"
           }
          ],
          "pie": [
           {
            "automargin": true,
            "type": "pie"
           }
          ],
          "scatter": [
           {
            "fillpattern": {
             "fillmode": "overlay",
             "size": 10,
             "solidity": 0.2
            },
            "type": "scatter"
           }
          ],
          "scatter3d": [
           {
            "line": {
             "colorbar": {
              "outlinewidth": 0,
              "ticks": ""
             }
            },
            "marker": {
             "colorbar": {
              "outlinewidth": 0,
              "ticks": ""
             }
            },
            "type": "scatter3d"
           }
          ],
          "scattercarpet": [
           {
            "marker": {
             "colorbar": {
              "outlinewidth": 0,
              "ticks": ""
             }
            },
            "type": "scattercarpet"
           }
          ],
          "scattergeo": [
           {
            "marker": {
             "colorbar": {
              "outlinewidth": 0,
              "ticks": ""
             }
            },
            "type": "scattergeo"
           }
          ],
          "scattergl": [
           {
            "marker": {
             "colorbar": {
              "outlinewidth": 0,
              "ticks": ""
             }
            },
            "type": "scattergl"
           }
          ],
          "scattermapbox": [
           {
            "marker": {
             "colorbar": {
              "outlinewidth": 0,
              "ticks": ""
             }
            },
            "type": "scattermapbox"
           }
          ],
          "scatterpolar": [
           {
            "marker": {
             "colorbar": {
              "outlinewidth": 0,
              "ticks": ""
             }
            },
            "type": "scatterpolar"
           }
          ],
          "scatterpolargl": [
           {
            "marker": {
             "colorbar": {
              "outlinewidth": 0,
              "ticks": ""
             }
            },
            "type": "scatterpolargl"
           }
          ],
          "scatterternary": [
           {
            "marker": {
             "colorbar": {
              "outlinewidth": 0,
              "ticks": ""
             }
            },
            "type": "scatterternary"
           }
          ],
          "surface": [
           {
            "colorbar": {
             "outlinewidth": 0,
             "ticks": ""
            },
            "colorscale": [
             [
              0,
              "#0d0887"
             ],
             [
              0.1111111111111111,
              "#46039f"
             ],
             [
              0.2222222222222222,
              "#7201a8"
             ],
             [
              0.3333333333333333,
              "#9c179e"
             ],
             [
              0.4444444444444444,
              "#bd3786"
             ],
             [
              0.5555555555555556,
              "#d8576b"
             ],
             [
              0.6666666666666666,
              "#ed7953"
             ],
             [
              0.7777777777777778,
              "#fb9f3a"
             ],
             [
              0.8888888888888888,
              "#fdca26"
             ],
             [
              1,
              "#f0f921"
             ]
            ],
            "type": "surface"
           }
          ],
          "table": [
           {
            "cells": {
             "fill": {
              "color": "#EBF0F8"
             },
             "line": {
              "color": "white"
             }
            },
            "header": {
             "fill": {
              "color": "#C8D4E3"
             },
             "line": {
              "color": "white"
             }
            },
            "type": "table"
           }
          ]
         },
         "layout": {
          "annotationdefaults": {
           "arrowcolor": "#2a3f5f",
           "arrowhead": 0,
           "arrowwidth": 1
          },
          "autotypenumbers": "strict",
          "coloraxis": {
           "colorbar": {
            "outlinewidth": 0,
            "ticks": ""
           }
          },
          "colorscale": {
           "diverging": [
            [
             0,
             "#8e0152"
            ],
            [
             0.1,
             "#c51b7d"
            ],
            [
             0.2,
             "#de77ae"
            ],
            [
             0.3,
             "#f1b6da"
            ],
            [
             0.4,
             "#fde0ef"
            ],
            [
             0.5,
             "#f7f7f7"
            ],
            [
             0.6,
             "#e6f5d0"
            ],
            [
             0.7,
             "#b8e186"
            ],
            [
             0.8,
             "#7fbc41"
            ],
            [
             0.9,
             "#4d9221"
            ],
            [
             1,
             "#276419"
            ]
           ],
           "sequential": [
            [
             0,
             "#0d0887"
            ],
            [
             0.1111111111111111,
             "#46039f"
            ],
            [
             0.2222222222222222,
             "#7201a8"
            ],
            [
             0.3333333333333333,
             "#9c179e"
            ],
            [
             0.4444444444444444,
             "#bd3786"
            ],
            [
             0.5555555555555556,
             "#d8576b"
            ],
            [
             0.6666666666666666,
             "#ed7953"
            ],
            [
             0.7777777777777778,
             "#fb9f3a"
            ],
            [
             0.8888888888888888,
             "#fdca26"
            ],
            [
             1,
             "#f0f921"
            ]
           ],
           "sequentialminus": [
            [
             0,
             "#0d0887"
            ],
            [
             0.1111111111111111,
             "#46039f"
            ],
            [
             0.2222222222222222,
             "#7201a8"
            ],
            [
             0.3333333333333333,
             "#9c179e"
            ],
            [
             0.4444444444444444,
             "#bd3786"
            ],
            [
             0.5555555555555556,
             "#d8576b"
            ],
            [
             0.6666666666666666,
             "#ed7953"
            ],
            [
             0.7777777777777778,
             "#fb9f3a"
            ],
            [
             0.8888888888888888,
             "#fdca26"
            ],
            [
             1,
             "#f0f921"
            ]
           ]
          },
          "colorway": [
           "#636efa",
           "#EF553B",
           "#00cc96",
           "#ab63fa",
           "#FFA15A",
           "#19d3f3",
           "#FF6692",
           "#B6E880",
           "#FF97FF",
           "#FECB52"
          ],
          "font": {
           "color": "#2a3f5f"
          },
          "geo": {
           "bgcolor": "white",
           "lakecolor": "white",
           "landcolor": "#E5ECF6",
           "showlakes": true,
           "showland": true,
           "subunitcolor": "white"
          },
          "hoverlabel": {
           "align": "left"
          },
          "hovermode": "closest",
          "mapbox": {
           "style": "light"
          },
          "paper_bgcolor": "white",
          "plot_bgcolor": "#E5ECF6",
          "polar": {
           "angularaxis": {
            "gridcolor": "white",
            "linecolor": "white",
            "ticks": ""
           },
           "bgcolor": "#E5ECF6",
           "radialaxis": {
            "gridcolor": "white",
            "linecolor": "white",
            "ticks": ""
           }
          },
          "scene": {
           "xaxis": {
            "backgroundcolor": "#E5ECF6",
            "gridcolor": "white",
            "gridwidth": 2,
            "linecolor": "white",
            "showbackground": true,
            "ticks": "",
            "zerolinecolor": "white"
           },
           "yaxis": {
            "backgroundcolor": "#E5ECF6",
            "gridcolor": "white",
            "gridwidth": 2,
            "linecolor": "white",
            "showbackground": true,
            "ticks": "",
            "zerolinecolor": "white"
           },
           "zaxis": {
            "backgroundcolor": "#E5ECF6",
            "gridcolor": "white",
            "gridwidth": 2,
            "linecolor": "white",
            "showbackground": true,
            "ticks": "",
            "zerolinecolor": "white"
           }
          },
          "shapedefaults": {
           "line": {
            "color": "#2a3f5f"
           }
          },
          "ternary": {
           "aaxis": {
            "gridcolor": "white",
            "linecolor": "white",
            "ticks": ""
           },
           "baxis": {
            "gridcolor": "white",
            "linecolor": "white",
            "ticks": ""
           },
           "bgcolor": "#E5ECF6",
           "caxis": {
            "gridcolor": "white",
            "linecolor": "white",
            "ticks": ""
           }
          },
          "title": {
           "x": 0.05
          },
          "xaxis": {
           "automargin": true,
           "gridcolor": "white",
           "linecolor": "white",
           "ticks": "",
           "title": {
            "standoff": 15
           },
           "zerolinecolor": "white",
           "zerolinewidth": 2
          },
          "yaxis": {
           "automargin": true,
           "gridcolor": "white",
           "linecolor": "white",
           "ticks": "",
           "title": {
            "standoff": 15
           },
           "zerolinecolor": "white",
           "zerolinewidth": 2
          }
         }
        },
        "title": {
         "text": "Edinburgh Tram System"
        },
        "width": 700
       }
      },
      "text/html": [
       "<div>                            <div id=\"0e6efd93-ea6e-4a0c-8e36-d936c96e5307\" class=\"plotly-graph-div\" style=\"height:500px; width:700px;\"></div>            <script type=\"text/javascript\">                require([\"plotly\"], function(Plotly) {                    window.PLOTLYENV=window.PLOTLYENV || {};                                    if (document.getElementById(\"0e6efd93-ea6e-4a0c-8e36-d936c96e5307\")) {                    Plotly.newPlot(                        \"0e6efd93-ea6e-4a0c-8e36-d936c96e5307\",                        [{\"hovertemplate\":\"<b>%{hovertext}</b><br><br>name=%{text}<br>lat=%{lat}<br>lon=%{lon}<extra></extra>\",\"hovertext\":[\"Saughton\",\"Balgreen\",\"Princes Street\",\"Edinburgh Airport\",\"Edinburgh Park Central\",\"Gyle Centre\",\"St Andrew Square\",\"Murrayfield Stadium\",\"Haymarket\",\"Bankhead\",\"Edinburgh Park Station\",\"Gogarburn\",\"Ingliston Park & Ride\",\"York Place\",\"West End - Princes Street\"],\"lat\":[55.9323205,55.9382084,55.9518109,55.9479001,55.9313471,55.9381082,55.9545994,55.9420152,55.9458107,55.9288907,55.9274171,55.9379534,55.9400789,55.9565294,55.9486437],\"legendgroup\":\"\",\"lon\":[-3.2756438,-3.2519536,-3.1979082,-3.36057,-3.3144825,-3.3183804,-3.1924106,-3.2373264,-3.2196004,-3.2938347,-3.3065672,-3.3325437,-3.3540458,-3.1887334,-3.2116253],\"marker\":{\"color\":\"#636efa\"},\"mode\":\"markers+text\",\"name\":\"\",\"showlegend\":false,\"subplot\":\"mapbox\",\"text\":[\"Saughton\",\"Balgreen\",\"Princes Street\",\"Edinburgh Airport\",\"Edinburgh Park Central\",\"Gyle Centre\",\"St Andrew Square\",\"Murrayfield Stadium\",\"Haymarket\",\"Bankhead\",\"Edinburgh Park Station\",\"Gogarburn\",\"Ingliston Park & Ride\",\"York Place\",\"West End - Princes Street\"],\"type\":\"scattermapbox\"}],                        {\"template\":{\"data\":{\"histogram2dcontour\":[{\"type\":\"histogram2dcontour\",\"colorbar\":{\"outlinewidth\":0,\"ticks\":\"\"},\"colorscale\":[[0.0,\"#0d0887\"],[0.1111111111111111,\"#46039f\"],[0.2222222222222222,\"#7201a8\"],[0.3333333333333333,\"#9c179e\"],[0.4444444444444444,\"#bd3786\"],[0.5555555555555556,\"#d8576b\"],[0.6666666666666666,\"#ed7953\"],[0.7777777777777778,\"#fb9f3a\"],[0.8888888888888888,\"#fdca26\"],[1.0,\"#f0f921\"]]}],\"choropleth\":[{\"type\":\"choropleth\",\"colorbar\":{\"outlinewidth\":0,\"ticks\":\"\"}}],\"histogram2d\":[{\"type\":\"histogram2d\",\"colorbar\":{\"outlinewidth\":0,\"ticks\":\"\"},\"colorscale\":[[0.0,\"#0d0887\"],[0.1111111111111111,\"#46039f\"],[0.2222222222222222,\"#7201a8\"],[0.3333333333333333,\"#9c179e\"],[0.4444444444444444,\"#bd3786\"],[0.5555555555555556,\"#d8576b\"],[0.6666666666666666,\"#ed7953\"],[0.7777777777777778,\"#fb9f3a\"],[0.8888888888888888,\"#fdca26\"],[1.0,\"#f0f921\"]]}],\"heatmap\":[{\"type\":\"heatmap\",\"colorbar\":{\"outlinewidth\":0,\"ticks\":\"\"},\"colorscale\":[[0.0,\"#0d0887\"],[0.1111111111111111,\"#46039f\"],[0.2222222222222222,\"#7201a8\"],[0.3333333333333333,\"#9c179e\"],[0.4444444444444444,\"#bd3786\"],[0.5555555555555556,\"#d8576b\"],[0.6666666666666666,\"#ed7953\"],[0.7777777777777778,\"#fb9f3a\"],[0.8888888888888888,\"#fdca26\"],[1.0,\"#f0f921\"]]}],\"heatmapgl\":[{\"type\":\"heatmapgl\",\"colorbar\":{\"outlinewidth\":0,\"ticks\":\"\"},\"colorscale\":[[0.0,\"#0d0887\"],[0.1111111111111111,\"#46039f\"],[0.2222222222222222,\"#7201a8\"],[0.3333333333333333,\"#9c179e\"],[0.4444444444444444,\"#bd3786\"],[0.5555555555555556,\"#d8576b\"],[0.6666666666666666,\"#ed7953\"],[0.7777777777777778,\"#fb9f3a\"],[0.8888888888888888,\"#fdca26\"],[1.0,\"#f0f921\"]]}],\"contourcarpet\":[{\"type\":\"contourcarpet\",\"colorbar\":{\"outlinewidth\":0,\"ticks\":\"\"}}],\"contour\":[{\"type\":\"contour\",\"colorbar\":{\"outlinewidth\":0,\"ticks\":\"\"},\"colorscale\":[[0.0,\"#0d0887\"],[0.1111111111111111,\"#46039f\"],[0.2222222222222222,\"#7201a8\"],[0.3333333333333333,\"#9c179e\"],[0.4444444444444444,\"#bd3786\"],[0.5555555555555556,\"#d8576b\"],[0.6666666666666666,\"#ed7953\"],[0.7777777777777778,\"#fb9f3a\"],[0.8888888888888888,\"#fdca26\"],[1.0,\"#f0f921\"]]}],\"surface\":[{\"type\":\"surface\",\"colorbar\":{\"outlinewidth\":0,\"ticks\":\"\"},\"colorscale\":[[0.0,\"#0d0887\"],[0.1111111111111111,\"#46039f\"],[0.2222222222222222,\"#7201a8\"],[0.3333333333333333,\"#9c179e\"],[0.4444444444444444,\"#bd3786\"],[0.5555555555555556,\"#d8576b\"],[0.6666666666666666,\"#ed7953\"],[0.7777777777777778,\"#fb9f3a\"],[0.8888888888888888,\"#fdca26\"],[1.0,\"#f0f921\"]]}],\"mesh3d\":[{\"type\":\"mesh3d\",\"colorbar\":{\"outlinewidth\":0,\"ticks\":\"\"}}],\"scatter\":[{\"fillpattern\":{\"fillmode\":\"overlay\",\"size\":10,\"solidity\":0.2},\"type\":\"scatter\"}],\"parcoords\":[{\"type\":\"parcoords\",\"line\":{\"colorbar\":{\"outlinewidth\":0,\"ticks\":\"\"}}}],\"scatterpolargl\":[{\"type\":\"scatterpolargl\",\"marker\":{\"colorbar\":{\"outlinewidth\":0,\"ticks\":\"\"}}}],\"bar\":[{\"error_x\":{\"color\":\"#2a3f5f\"},\"error_y\":{\"color\":\"#2a3f5f\"},\"marker\":{\"line\":{\"color\":\"#E5ECF6\",\"width\":0.5},\"pattern\":{\"fillmode\":\"overlay\",\"size\":10,\"solidity\":0.2}},\"type\":\"bar\"}],\"scattergeo\":[{\"type\":\"scattergeo\",\"marker\":{\"colorbar\":{\"outlinewidth\":0,\"ticks\":\"\"}}}],\"scatterpolar\":[{\"type\":\"scatterpolar\",\"marker\":{\"colorbar\":{\"outlinewidth\":0,\"ticks\":\"\"}}}],\"histogram\":[{\"marker\":{\"pattern\":{\"fillmode\":\"overlay\",\"size\":10,\"solidity\":0.2}},\"type\":\"histogram\"}],\"scattergl\":[{\"type\":\"scattergl\",\"marker\":{\"colorbar\":{\"outlinewidth\":0,\"ticks\":\"\"}}}],\"scatter3d\":[{\"type\":\"scatter3d\",\"line\":{\"colorbar\":{\"outlinewidth\":0,\"ticks\":\"\"}},\"marker\":{\"colorbar\":{\"outlinewidth\":0,\"ticks\":\"\"}}}],\"scattermapbox\":[{\"type\":\"scattermapbox\",\"marker\":{\"colorbar\":{\"outlinewidth\":0,\"ticks\":\"\"}}}],\"scatterternary\":[{\"type\":\"scatterternary\",\"marker\":{\"colorbar\":{\"outlinewidth\":0,\"ticks\":\"\"}}}],\"scattercarpet\":[{\"type\":\"scattercarpet\",\"marker\":{\"colorbar\":{\"outlinewidth\":0,\"ticks\":\"\"}}}],\"carpet\":[{\"aaxis\":{\"endlinecolor\":\"#2a3f5f\",\"gridcolor\":\"white\",\"linecolor\":\"white\",\"minorgridcolor\":\"white\",\"startlinecolor\":\"#2a3f5f\"},\"baxis\":{\"endlinecolor\":\"#2a3f5f\",\"gridcolor\":\"white\",\"linecolor\":\"white\",\"minorgridcolor\":\"white\",\"startlinecolor\":\"#2a3f5f\"},\"type\":\"carpet\"}],\"table\":[{\"cells\":{\"fill\":{\"color\":\"#EBF0F8\"},\"line\":{\"color\":\"white\"}},\"header\":{\"fill\":{\"color\":\"#C8D4E3\"},\"line\":{\"color\":\"white\"}},\"type\":\"table\"}],\"barpolar\":[{\"marker\":{\"line\":{\"color\":\"#E5ECF6\",\"width\":0.5},\"pattern\":{\"fillmode\":\"overlay\",\"size\":10,\"solidity\":0.2}},\"type\":\"barpolar\"}],\"pie\":[{\"automargin\":true,\"type\":\"pie\"}]},\"layout\":{\"autotypenumbers\":\"strict\",\"colorway\":[\"#636efa\",\"#EF553B\",\"#00cc96\",\"#ab63fa\",\"#FFA15A\",\"#19d3f3\",\"#FF6692\",\"#B6E880\",\"#FF97FF\",\"#FECB52\"],\"font\":{\"color\":\"#2a3f5f\"},\"hovermode\":\"closest\",\"hoverlabel\":{\"align\":\"left\"},\"paper_bgcolor\":\"white\",\"plot_bgcolor\":\"#E5ECF6\",\"polar\":{\"bgcolor\":\"#E5ECF6\",\"angularaxis\":{\"gridcolor\":\"white\",\"linecolor\":\"white\",\"ticks\":\"\"},\"radialaxis\":{\"gridcolor\":\"white\",\"linecolor\":\"white\",\"ticks\":\"\"}},\"ternary\":{\"bgcolor\":\"#E5ECF6\",\"aaxis\":{\"gridcolor\":\"white\",\"linecolor\":\"white\",\"ticks\":\"\"},\"baxis\":{\"gridcolor\":\"white\",\"linecolor\":\"white\",\"ticks\":\"\"},\"caxis\":{\"gridcolor\":\"white\",\"linecolor\":\"white\",\"ticks\":\"\"}},\"coloraxis\":{\"colorbar\":{\"outlinewidth\":0,\"ticks\":\"\"}},\"colorscale\":{\"sequential\":[[0.0,\"#0d0887\"],[0.1111111111111111,\"#46039f\"],[0.2222222222222222,\"#7201a8\"],[0.3333333333333333,\"#9c179e\"],[0.4444444444444444,\"#bd3786\"],[0.5555555555555556,\"#d8576b\"],[0.6666666666666666,\"#ed7953\"],[0.7777777777777778,\"#fb9f3a\"],[0.8888888888888888,\"#fdca26\"],[1.0,\"#f0f921\"]],\"sequentialminus\":[[0.0,\"#0d0887\"],[0.1111111111111111,\"#46039f\"],[0.2222222222222222,\"#7201a8\"],[0.3333333333333333,\"#9c179e\"],[0.4444444444444444,\"#bd3786\"],[0.5555555555555556,\"#d8576b\"],[0.6666666666666666,\"#ed7953\"],[0.7777777777777778,\"#fb9f3a\"],[0.8888888888888888,\"#fdca26\"],[1.0,\"#f0f921\"]],\"diverging\":[[0,\"#8e0152\"],[0.1,\"#c51b7d\"],[0.2,\"#de77ae\"],[0.3,\"#f1b6da\"],[0.4,\"#fde0ef\"],[0.5,\"#f7f7f7\"],[0.6,\"#e6f5d0\"],[0.7,\"#b8e186\"],[0.8,\"#7fbc41\"],[0.9,\"#4d9221\"],[1,\"#276419\"]]},\"xaxis\":{\"gridcolor\":\"white\",\"linecolor\":\"white\",\"ticks\":\"\",\"title\":{\"standoff\":15},\"zerolinecolor\":\"white\",\"automargin\":true,\"zerolinewidth\":2},\"yaxis\":{\"gridcolor\":\"white\",\"linecolor\":\"white\",\"ticks\":\"\",\"title\":{\"standoff\":15},\"zerolinecolor\":\"white\",\"automargin\":true,\"zerolinewidth\":2},\"scene\":{\"xaxis\":{\"backgroundcolor\":\"#E5ECF6\",\"gridcolor\":\"white\",\"linecolor\":\"white\",\"showbackground\":true,\"ticks\":\"\",\"zerolinecolor\":\"white\",\"gridwidth\":2},\"yaxis\":{\"backgroundcolor\":\"#E5ECF6\",\"gridcolor\":\"white\",\"linecolor\":\"white\",\"showbackground\":true,\"ticks\":\"\",\"zerolinecolor\":\"white\",\"gridwidth\":2},\"zaxis\":{\"backgroundcolor\":\"#E5ECF6\",\"gridcolor\":\"white\",\"linecolor\":\"white\",\"showbackground\":true,\"ticks\":\"\",\"zerolinecolor\":\"white\",\"gridwidth\":2}},\"shapedefaults\":{\"line\":{\"color\":\"#2a3f5f\"}},\"annotationdefaults\":{\"arrowcolor\":\"#2a3f5f\",\"arrowhead\":0,\"arrowwidth\":1},\"geo\":{\"bgcolor\":\"white\",\"landcolor\":\"#E5ECF6\",\"subunitcolor\":\"white\",\"showland\":true,\"showlakes\":true,\"lakecolor\":\"white\"},\"title\":{\"x\":0.05},\"mapbox\":{\"style\":\"light\"}}},\"mapbox\":{\"domain\":{\"x\":[0.0,1.0],\"y\":[0.0,1.0]},\"center\":{\"lat\":55.94144224666666,\"lon\":-3.2703750666666673},\"zoom\":12,\"style\":\"carto-positron\"},\"legend\":{\"tracegroupgap\":0},\"margin\":{\"t\":60},\"title\":{\"text\":\"Edinburgh Tram System\"},\"width\":700,\"height\":500},                        {\"responsive\": true}                    ).then(function(){\n",
       "                            \n",
       "var gd = document.getElementById('0e6efd93-ea6e-4a0c-8e36-d936c96e5307');\n",
       "var x = new MutationObserver(function (mutations, observer) {{\n",
       "        var display = window.getComputedStyle(gd).display;\n",
       "        if (!display || display === 'none') {{\n",
       "            console.log([gd, 'removed!']);\n",
       "            Plotly.purge(gd);\n",
       "            observer.disconnect();\n",
       "        }}\n",
       "}});\n",
       "\n",
       "// Listen for the removal of the full notebook cells\n",
       "var notebookContainer = gd.closest('#notebook-container');\n",
       "if (notebookContainer) {{\n",
       "    x.observe(notebookContainer, {childList: true});\n",
       "}}\n",
       "\n",
       "// Listen for the clearing of the current output cell\n",
       "var outputEl = gd.closest('.output');\n",
       "if (outputEl) {{\n",
       "    x.observe(outputEl, {childList: true});\n",
       "}}\n",
       "\n",
       "                        })                };                });            </script>        </div>"
      ]
     },
     "metadata": {},
     "output_type": "display_data"
    }
   ],
   "source": [
    "# Create a scatter map using plotly express\n",
    "fig = px.scatter_mapbox(gdf, \n",
    "                        lat=gdf.geometry.y, \n",
    "                        lon=gdf.geometry.x,\n",
    "                        text=gdf['name'],\n",
    "                        hover_name=gdf['name'],\n",
    "                        mapbox_style=\"carto-positron\", \n",
    "                        zoom=12)\n",
    "# Display\n",
    "fig.update_layout(\n",
    "    title_text=\"Edinburgh Tram System\",\n",
    "    width=700,  \n",
    "    height=500, \n",
    ")\n",
    "fig.show()"
   ]
  },
  {
   "cell_type": "markdown",
   "id": "eb4d32a3",
   "metadata": {},
   "source": [
    "#### Section 3.3: No. of Passengers"
   ]
  },
  {
   "cell_type": "markdown",
   "id": "00a52c2d",
   "metadata": {},
   "source": [
    "Source: https://www.gov.uk/government/statistical-data-sets/light-rail-and-tram-statistics-lrt"
   ]
  },
  {
   "cell_type": "code",
   "execution_count": 51,
   "id": "823c51ca",
   "metadata": {},
   "outputs": [
    {
     "name": "stdout",
     "output_type": "stream",
     "text": [
      "    Financial year ending March Edinburgh Trams\n",
      "31                         2015             4.1\n",
      "32                         2016             5.3\n",
      "33                         2017             5.8\n",
      "34                         2018             6.8\n",
      "35                         2019             7.5\n",
      "36                         2020             7.1\n",
      "37                         2021             0.9\n",
      "38                         2022             2.8\n",
      "39                         2023             5.3\n"
     ]
    }
   ],
   "source": [
    "# Read CSV file (no. of Passengers)\n",
    "Ed_df = pd.read_csv('DS7) Edinburgh Trams.csv')\n",
    "\n",
    "# Filter\n",
    "Ed_df = Ed_df[['Financial year ending March', 'Edinburgh Trams']]\n",
    "Ed_df = Ed_df[Ed_df['Financial year ending March'] >= 2015]\n",
    "\n",
    "print(Ed_df)"
   ]
  },
  {
   "cell_type": "code",
   "execution_count": 54,
   "id": "d68ce5b4",
   "metadata": {},
   "outputs": [
    {
     "name": "stdout",
     "output_type": "stream",
     "text": [
      "['Length of line' 'Journey time' 'Trams' 'Length of tram'\n",
      " 'Capacity of tram' 'Passengers carried' 'Vehicle kilometres'\n",
      " 'Passenger kilometres' 'Average length of journey'\n",
      " 'Average number of stops per passenger'\n",
      " 'Timeliness (% services to timetable)']\n",
      "    Year   Luas Line     VALUE\n",
      "50  2018    Red line  21837268\n",
      "51  2018  Green line  19999700\n",
      "52  2019    Red line  24045744\n",
      "53  2019  Green line  24301487\n",
      "54  2020    Red line   9727187\n",
      "55  2020  Green line   9448869\n",
      "56  2021    Red line  10040293\n",
      "57  2021  Green line   9441025\n",
      "58  2022    Red line  20275075\n",
      "59  2022  Green line  18392800\n"
     ]
    }
   ],
   "source": [
    "# Read CSV file (no. of Passengers)\n",
    "luas_df = pd.read_csv('DS5) TOA10 - Luas infrastructure.csv')\n",
    "print(luas_df['Statistic Label'].unique())\n",
    "\n",
    "# Filter\n",
    "luas_df = luas_df[luas_df['Statistic Label'] == 'Passengers carried']\n",
    "columns_to_keep = ['Year', 'Luas Line', 'VALUE']\n",
    "luas_df = luas_df[columns_to_keep]\n",
    "\n",
    "print(luas_df)"
   ]
  },
  {
   "cell_type": "code",
   "execution_count": 55,
   "id": "7b11fde9",
   "metadata": {},
   "outputs": [
    {
     "name": "stdout",
     "output_type": "stream",
     "text": [
      "   Year     VALUE\n",
      "0  2018  41836968\n",
      "1  2019  48347231\n",
      "2  2020  19176056\n",
      "3  2021  19481318\n",
      "4  2022  38667875\n"
     ]
    }
   ],
   "source": [
    "# Group by 'Year' and sum the values\n",
    "luas_df['VALUE'] = pd.to_numeric(luas_df['VALUE'], errors='coerce')\n",
    "luas_df = luas_df.groupby('Year')['VALUE'].sum().reset_index()\n",
    "\n",
    "# Display\n",
    "print(luas_df)"
   ]
  },
  {
   "cell_type": "code",
   "execution_count": 56,
   "id": "503b73df",
   "metadata": {},
   "outputs": [
    {
     "name": "stdout",
     "output_type": "stream",
     "text": [
      "   Year  VALUE\n",
      "0  2018   41.8\n",
      "1  2019   48.3\n",
      "2  2020   19.2\n",
      "3  2021   19.5\n",
      "4  2022   38.7\n"
     ]
    }
   ],
   "source": [
    "# Convert\n",
    "luas_df['VALUE'] = (luas_df['VALUE'] / 1000000).round(1)\n",
    "\n",
    "# Display\n",
    "print(luas_df)"
   ]
  },
  {
   "cell_type": "code",
   "execution_count": 57,
   "id": "8b16e70f",
   "metadata": {},
   "outputs": [
    {
     "name": "stdout",
     "output_type": "stream",
     "text": [
      "   Year  Dublin Edinburgh\n",
      "0  2018    41.8       6.8\n",
      "1  2019    48.3       7.5\n",
      "2  2020    19.2       7.1\n",
      "3  2021    19.5       0.9\n",
      "4  2022    38.7       2.8\n"
     ]
    }
   ],
   "source": [
    "# Merge\n",
    "df = pd.merge(luas_df, Ed_df, left_on='Year', right_on='Financial year ending March', how='left')\n",
    "\n",
    "# Drop column\n",
    "df = df.drop('Financial year ending March', axis=1)\n",
    "df.rename(columns={'VALUE': 'Dublin', 'Edinburgh Trams': 'Edinburgh'}, inplace=True)\n",
    "\n",
    "# Display the combined DataFrame\n",
    "print(df)"
   ]
  },
  {
   "cell_type": "code",
   "execution_count": 58,
   "id": "06ed1fc7",
   "metadata": {},
   "outputs": [
    {
     "data": {
      "image/png": "[encoded data removed]",
      "text/plain": [
       "<Figure size 1200x600 with 2 Axes>"
      ]
     },
     "metadata": {},
     "output_type": "display_data"
    }
   ],
   "source": [
    "# Create figure and axis objects\n",
    "fig, ax1 = plt.subplots(figsize=(12, 6))\n",
    "\n",
    "# Plot the first axis\n",
    "ax1.plot(df['Year'], df['Dublin'], label='Dublin', marker='o', color='b')\n",
    "ax1.set_xlabel('Year')\n",
    "ax1.set_ylabel('Dublin', color='b')\n",
    "ax1.tick_params('y', colors='b')\n",
    "\n",
    "# Create a twin Axes\n",
    "ax2 = ax1.twinx()\n",
    "\n",
    "# Plot the second axis\n",
    "ax2.plot(df['Year'], df['Edinburgh'], label='Edinburgh Trams', marker='o', color='r')\n",
    "ax2.set_ylabel('Edinburgh Trams', color='r')\n",
    "ax2.tick_params('y', colors='r')\n",
    "\n",
    "# Adding labels and title\n",
    "plt.title('Dublin and Edinburgh Passengers Carried')\n",
    "plt.show()"
   ]
  },
  {
   "cell_type": "markdown",
   "id": "3682b49c",
   "metadata": {},
   "source": [
    "#### Section 3.4: Revenue"
   ]
  },
  {
   "cell_type": "code",
   "execution_count": 59,
   "id": "6acc1d6b",
   "metadata": {},
   "outputs": [],
   "source": [
    "# Read CSV file (no. of Passengers)\n",
    "df = pd.read_csv('DS8) Edinburgh Revenue.csv')"
   ]
  },
  {
   "cell_type": "code",
   "execution_count": 60,
   "id": "1924ec83",
   "metadata": {},
   "outputs": [
    {
     "name": "stdout",
     "output_type": "stream",
     "text": [
      "    Financial year ending March Edinburgh Trams\n",
      "31                       2015.0             7.0\n",
      "32                       2016.0             9.6\n",
      "33                       2017.0            11.2\n",
      "34                       2018.0            13.2\n",
      "35                       2019.0            15.7\n",
      "36                       2020.0            15.9\n",
      "37                       2021.0             2.1\n",
      "38                       2022.0             7.3\n",
      "39                       2023.0            15.5\n"
     ]
    }
   ],
   "source": [
    "# Keep only the relevant columns\n",
    "df = df[['Financial year ending March', 'Edinburgh Trams']]\n",
    "df = df[df['Financial year ending March'] >= 2015]\n",
    "\n",
    "# Display\n",
    "print(df)"
   ]
  },
  {
   "cell_type": "markdown",
   "id": "21e3e509",
   "metadata": {},
   "source": [
    "#### Section 3.5: Passenger Kilometres"
   ]
  },
  {
   "cell_type": "code",
   "execution_count": 61,
   "id": "4b0fd406",
   "metadata": {},
   "outputs": [],
   "source": [
    "# Read CSV file (no. of Passengers)\n",
    "df = pd.read_csv('DS9) Edinburgh Kilometres.csv')"
   ]
  },
  {
   "cell_type": "code",
   "execution_count": 62,
   "id": "0daac260",
   "metadata": {},
   "outputs": [
    {
     "name": "stdout",
     "output_type": "stream",
     "text": [
      "    Financial year ending March Edinburgh Trams\n",
      "31                       2015.0            33.0\n",
      "32                       2016.0            42.7\n",
      "33                       2017.0            46.7\n",
      "34                       2018.0            54.7\n",
      "35                       2019.0            60.1\n",
      "36                       2020.0            57.3\n",
      "37                       2021.0             7.3\n",
      "38                       2022.0            25.6\n",
      "39                       2023.0            42.9\n"
     ]
    }
   ],
   "source": [
    "# Keep only the relevant columns\n",
    "df = df[['Financial year ending March', 'Edinburgh Trams']]\n",
    "df = df[df['Financial year ending March'] >= 2015]\n",
    "\n",
    "# Display\n",
    "print(df)"
   ]
  },
  {
   "cell_type": "markdown",
   "id": "aaf3329c",
   "metadata": {},
   "source": [
    "After researching the Edinburgh light rail tramline, I found it incredibly difficult to find detailed, granular data and statisitics I would need to compare to Dublin's Luas lines. However, I did take away some key points from my research. \n",
    "\n",
    "- Firstly, Edinburgh's tram system is less focused on worker commutes and more focused on tourism and events. Directly linking to the airport and Murrayfield stadium. Dublin's Luas system could potentially learn from this and link to major hubs like Dublin Airport, Aviva Stadium, Croke Park etc... \n",
    "- This may not be evident on the choropleth map earlier as these hubs may not contain a huge number of residents."
   ]
  },
  {
   "cell_type": "markdown",
   "id": "36a22696",
   "metadata": {},
   "source": [
    "### Part 2: Melbourne"
   ]
  },
  {
   "cell_type": "markdown",
   "id": "256ff5f8",
   "metadata": {},
   "source": [
    "#### Section 3.6: Introduction"
   ]
  },
  {
   "cell_type": "markdown",
   "id": "b9618a4a",
   "metadata": {},
   "source": [
    "After finding a disapointing lack of data on the Edinburgh tram system I decided to turn my attention to alternative tram systems. I soon came across the Melbourne tram system operated by VIC who place a huge emphasis on open data. \n",
    "\n",
    "Whilst this tram system is a lot larger than the Luas system, we can really look at this and visualise the potential of the Luas. "
   ]
  },
  {
   "cell_type": "markdown",
   "id": "c7f2e55e",
   "metadata": {},
   "source": [
    "Source: https://www.data.vic.gov.au/\n",
    "\n",
    "License: https://creativecommons.org/licenses/by/4.0/"
   ]
  },
  {
   "cell_type": "markdown",
   "id": "2bb5f8b9",
   "metadata": {},
   "source": [
    "#### Section 3.7: Geographical Visualisation"
   ]
  },
  {
   "cell_type": "code",
   "execution_count": 63,
   "id": "25fe4ca7",
   "metadata": {},
   "outputs": [],
   "source": [
    "# Read GeoJSON file\n",
    "gdf = gpd.read_file('G7) Melbounre tram.geojson')"
   ]
  },
  {
   "cell_type": "code",
   "execution_count": 64,
   "id": "9ad8a564",
   "metadata": {},
   "outputs": [],
   "source": [
    "#gdf"
   ]
  },
  {
   "cell_type": "code",
   "execution_count": 65,
   "id": "a983bae1",
   "metadata": {},
   "outputs": [
    {
     "name": "stderr",
     "output_type": "stream",
     "text": [
      "C:\\Users\\cathalnugent\\AppData\\Local\\Temp\\ipykernel_8516\\1845400511.py:2: UserWarning:\n",
      "\n",
      "Geometry is in a geographic CRS. Results from 'centroid' are likely incorrect. Use 'GeoSeries.to_crs()' to re-project geometries to a projected CRS before this operation.\n",
      "\n",
      "\n"
     ]
    },
    {
     "data": {
      "application/vnd.plotly.v1+json": {
       "config": {
        "plotlyServerURL": "https://plot.ly"
       },
       "data": [
        {
         "hovertemplate": "<b>%{hovertext}</b><br><br>lat=%{lat}<br>lon=%{lon}<extra></extra>",
         "hovertext": [
          "kml_3",
          "kml_5",
          "kml_6",
          "kml_7",
          "kml_8",
          "kml_9",
          "kml_16",
          "kml_22",
          "kml_26",
          "kml_27",
          "kml_29",
          "kml_37",
          "kml_39",
          "kml_41",
          "kml_30",
          "kml_31",
          "kml_34",
          "kml_44",
          "kml_49",
          "kml_50",
          "kml_55",
          "kml_60",
          "kml_69",
          "kml_74",
          "kml_77",
          "kml_108",
          "kml_80",
          "kml_82",
          "kml_85",
          "kml_88",
          "kml_130",
          "kml_92",
          "kml_93",
          "kml_95",
          "kml_97",
          "kml_98",
          "kml_99",
          "kml_101",
          "kml_105",
          "kml_107",
          "kml_110",
          "kml_112",
          "kml_116",
          "kml_120",
          "kml_121",
          "kml_134",
          "kml_124",
          "kml_127",
          "kml_140",
          "kml_143",
          "kml_146",
          "kml_147",
          "kml_149",
          "kml_151",
          "kml_152",
          "kml_157",
          "kml_159",
          "kml_161",
          "kml_165",
          "kml_174",
          "kml_184",
          "kml_198",
          "kml_189",
          "kml_192",
          "kml_194",
          "kml_196",
          "kml_204",
          "kml_206",
          "kml_207",
          "kml_211",
          "kml_218",
          "kml_221",
          "kml_230",
          "kml_231",
          "kml_235",
          "kml_238",
          "kml_239",
          "kml_242",
          "kml_251",
          "kml_254",
          "kml_257",
          "kml_259",
          "kml_265",
          "kml_266",
          "kml_267",
          "kml_271",
          "kml_273",
          "kml_283",
          "kml_286",
          "kml_288",
          "kml_289",
          "kml_292",
          "kml_295",
          "kml_298",
          "kml_299",
          "kml_301",
          "kml_302",
          "kml_313",
          "kml_312",
          "kml_315",
          "kml_324",
          "kml_326",
          "kml_405",
          "kml_333",
          "kml_336",
          "kml_339",
          "kml_343",
          "kml_344",
          "kml_349",
          "kml_356",
          "kml_358",
          "kml_360",
          "kml_362",
          "kml_369",
          "kml_370",
          "kml_371",
          "kml_377",
          "kml_380",
          "kml_381",
          "kml_382",
          "kml_383",
          "kml_384",
          "kml_388",
          "kml_389",
          "kml_390",
          "kml_393",
          "kml_397",
          "kml_398",
          "kml_402",
          "kml_403",
          "kml_406",
          "kml_408",
          "kml_409",
          "kml_411",
          "kml_415",
          "kml_417",
          "kml_468",
          "kml_421",
          "kml_422",
          "kml_431",
          "kml_433",
          "kml_441",
          "kml_444",
          "kml_448",
          "kml_467",
          "kml_452",
          "kml_453",
          "kml_454",
          "kml_455",
          "kml_469",
          "kml_474",
          "kml_475",
          "kml_477",
          "kml_478",
          "kml_482",
          "kml_484",
          "kml_487",
          "kml_488",
          "kml_492",
          "kml_502",
          "kml_504",
          "kml_508",
          "kml_509",
          "kml_517",
          "kml_523",
          "kml_525",
          "kml_540",
          "kml_541",
          "kml_557",
          "kml_550",
          "kml_558",
          "kml_559",
          "kml_560",
          "kml_562",
          "kml_564",
          "kml_567",
          "kml_581",
          "kml_583",
          "kml_584",
          "kml_590",
          "kml_591",
          "kml_592",
          "kml_595",
          "kml_618",
          "kml_600",
          "kml_603",
          "kml_604",
          "kml_607",
          "kml_608",
          "kml_610",
          "kml_614",
          "kml_620",
          "kml_624",
          "kml_627",
          "kml_628",
          "kml_630",
          "kml_632",
          "kml_633",
          "kml_634",
          "kml_638",
          "kml_639",
          "kml_640",
          "kml_13",
          "kml_14",
          "kml_19",
          "kml_21",
          "kml_25",
          "kml_40",
          "kml_42",
          "kml_33",
          "kml_43",
          "kml_45",
          "kml_47",
          "kml_48",
          "kml_52",
          "kml_53",
          "kml_57",
          "kml_62",
          "kml_63",
          "kml_68",
          "kml_72",
          "kml_73",
          "kml_75",
          "kml_83",
          "kml_84",
          "kml_86",
          "kml_87",
          "kml_89",
          "kml_90",
          "kml_131",
          "kml_100",
          "kml_103",
          "kml_104",
          "kml_111",
          "kml_113",
          "kml_114",
          "kml_115",
          "kml_117",
          "kml_133",
          "kml_135",
          "kml_137",
          "kml_156",
          "kml_158",
          "kml_163",
          "kml_164",
          "kml_166",
          "kml_170",
          "kml_173",
          "kml_175",
          "kml_176",
          "kml_179",
          "kml_181",
          "kml_182",
          "kml_199",
          "kml_200",
          "kml_185",
          "kml_193",
          "kml_201",
          "kml_202",
          "kml_203",
          "kml_205",
          "kml_208",
          "kml_209",
          "kml_210",
          "kml_212",
          "kml_215",
          "kml_216",
          "kml_220",
          "kml_222",
          "kml_223",
          "kml_225",
          "kml_234",
          "kml_240",
          "kml_241",
          "kml_243",
          "kml_245",
          "kml_247",
          "kml_248",
          "kml_249",
          "kml_250",
          "kml_256",
          "kml_260",
          "kml_261",
          "kml_263",
          "kml_264",
          "kml_269",
          "kml_272",
          "kml_274",
          "kml_277",
          "kml_278",
          "kml_279",
          "kml_281",
          "kml_284",
          "kml_285",
          "kml_290",
          "kml_291",
          "kml_294",
          "kml_296",
          "kml_297",
          "kml_304",
          "kml_305",
          "kml_307",
          "kml_309",
          "kml_314",
          "kml_317",
          "kml_318",
          "kml_320",
          "kml_322",
          "kml_323",
          "kml_327",
          "kml_329",
          "kml_330",
          "kml_331",
          "kml_332",
          "kml_337",
          "kml_340",
          "kml_345",
          "kml_346",
          "kml_347",
          "kml_352",
          "kml_353",
          "kml_354",
          "kml_357",
          "kml_359",
          "kml_361",
          "kml_363",
          "kml_366",
          "kml_367",
          "kml_368",
          "kml_372",
          "kml_374",
          "kml_376",
          "kml_378",
          "kml_385",
          "kml_391",
          "kml_394",
          "kml_396",
          "kml_399",
          "kml_404",
          "kml_413",
          "kml_414",
          "kml_418",
          "kml_420",
          "kml_423",
          "kml_426",
          "kml_428",
          "kml_430",
          "kml_437",
          "kml_438",
          "kml_440",
          "kml_442",
          "kml_446",
          "kml_447",
          "kml_457",
          "kml_460",
          "kml_461",
          "kml_462",
          "kml_463",
          "kml_466",
          "kml_470",
          "kml_471",
          "kml_472",
          "kml_473",
          "kml_476",
          "kml_479",
          "kml_480",
          "kml_483",
          "kml_485",
          "kml_486",
          "kml_489",
          "kml_490",
          "kml_493",
          "kml_496",
          "kml_499",
          "kml_529",
          "kml_506",
          "kml_507",
          "kml_510",
          "kml_511",
          "kml_514",
          "kml_516",
          "kml_518",
          "kml_521",
          "kml_526",
          "kml_530",
          "kml_531",
          "kml_532",
          "kml_534",
          "kml_536",
          "kml_539",
          "kml_543",
          "kml_544",
          "kml_545",
          "kml_546",
          "kml_548",
          "kml_549",
          "kml_551",
          "kml_552",
          "kml_554",
          "kml_563",
          "kml_565",
          "kml_570",
          "kml_574",
          "kml_577",
          "kml_580",
          "kml_588",
          "kml_589",
          "kml_593",
          "kml_597",
          "kml_601",
          "kml_602",
          "kml_609",
          "kml_611",
          "kml_619",
          "kml_623",
          "kml_625",
          "kml_631",
          "kml_635",
          "kml_636",
          "kml_637",
          "kml_642",
          "kml_643",
          "kml_645",
          "kml_1",
          "kml_2",
          "kml_4",
          "kml_10",
          "kml_11",
          "kml_12",
          "kml_15",
          "kml_17",
          "kml_18",
          "kml_20",
          "kml_23",
          "kml_24",
          "kml_28",
          "kml_35",
          "kml_36",
          "kml_38",
          "kml_32",
          "kml_46",
          "kml_51",
          "kml_54",
          "kml_56",
          "kml_58",
          "kml_59",
          "kml_61",
          "kml_64",
          "kml_65",
          "kml_66",
          "kml_67",
          "kml_70",
          "kml_71",
          "kml_76",
          "kml_136",
          "kml_155",
          "kml_78",
          "kml_79",
          "kml_81",
          "kml_91",
          "kml_129",
          "kml_94",
          "kml_96",
          "kml_102",
          "kml_106",
          "kml_109",
          "kml_118",
          "kml_119",
          "kml_122",
          "kml_132",
          "kml_123",
          "kml_125",
          "kml_126",
          "kml_128",
          "kml_138",
          "kml_139",
          "kml_141",
          "kml_142",
          "kml_144",
          "kml_145",
          "kml_148",
          "kml_150",
          "kml_153",
          "kml_154",
          "kml_160",
          "kml_162",
          "kml_167",
          "kml_168",
          "kml_169",
          "kml_171",
          "kml_172",
          "kml_177",
          "kml_178",
          "kml_180",
          "kml_183",
          "kml_186",
          "kml_187",
          "kml_188",
          "kml_190",
          "kml_191",
          "kml_195",
          "kml_197",
          "kml_213",
          "kml_214",
          "kml_217",
          "kml_219",
          "kml_224",
          "kml_226",
          "kml_227",
          "kml_228",
          "kml_229",
          "kml_232",
          "kml_233",
          "kml_236",
          "kml_237",
          "kml_244",
          "kml_246",
          "kml_252",
          "kml_253",
          "kml_255",
          "kml_258",
          "kml_262",
          "kml_268",
          "kml_270",
          "kml_275",
          "kml_276",
          "kml_280",
          "kml_282",
          "kml_287",
          "kml_293",
          "kml_300",
          "kml_303",
          "kml_306",
          "kml_308",
          "kml_310",
          "kml_311",
          "kml_316",
          "kml_319",
          "kml_321",
          "kml_325",
          "kml_328",
          "kml_334",
          "kml_335",
          "kml_338",
          "kml_341",
          "kml_342",
          "kml_348",
          "kml_350",
          "kml_351",
          "kml_355",
          "kml_364",
          "kml_365",
          "kml_373",
          "kml_375",
          "kml_379",
          "kml_386",
          "kml_387",
          "kml_392",
          "kml_395",
          "kml_400",
          "kml_401",
          "kml_407",
          "kml_410",
          "kml_412",
          "kml_416",
          "kml_419",
          "kml_424",
          "kml_425",
          "kml_427",
          "kml_429",
          "kml_432",
          "kml_434",
          "kml_435",
          "kml_436",
          "kml_439",
          "kml_443",
          "kml_445",
          "kml_449",
          "kml_450",
          "kml_451",
          "kml_456",
          "kml_458",
          "kml_459",
          "kml_464",
          "kml_465",
          "kml_481",
          "kml_491",
          "kml_494",
          "kml_495",
          "kml_497",
          "kml_498",
          "kml_500",
          "kml_501",
          "kml_528",
          "kml_503",
          "kml_505",
          "kml_512",
          "kml_513",
          "kml_515",
          "kml_519",
          "kml_520",
          "kml_522",
          "kml_524",
          "kml_527",
          "kml_533",
          "kml_535",
          "kml_537",
          "kml_538",
          "kml_542",
          "kml_556",
          "kml_569",
          "kml_547",
          "kml_553",
          "kml_555",
          "kml_561",
          "kml_566",
          "kml_568",
          "kml_571",
          "kml_572",
          "kml_573",
          "kml_575",
          "kml_576",
          "kml_578",
          "kml_579",
          "kml_582",
          "kml_585",
          "kml_586",
          "kml_587",
          "kml_594",
          "kml_596",
          "kml_598",
          "kml_599",
          "kml_605",
          "kml_606",
          "kml_612",
          "kml_613",
          "kml_615",
          "kml_616",
          "kml_617",
          "kml_621",
          "kml_622",
          "kml_626",
          "kml_629",
          "kml_641",
          "kml_644"
         ],
         "lat": [
          -37.78861331868605,
          -37.819185576253524,
          -37.81837971233182,
          -37.81440385390417,
          -37.816738613153454,
          -37.83646719875296,
          -37.82412832636803,
          -37.797091788559044,
          -37.79372033756351,
          -37.8348813636736,
          -37.80904726313377,
          -37.81281225334892,
          -37.81384787377029,
          -37.82421642973257,
          -37.821353200731046,
          -37.81466254633741,
          -37.82447196328505,
          -37.80594999213071,
          -37.81959745098778,
          -37.80286090298705,
          -37.85043666008879,
          -37.82240936427552,
          -37.8288007970231,
          -37.80447394273454,
          -37.85063818142471,
          -37.81679586889235,
          -37.81126435516056,
          -37.812594988894894,
          -37.81083109028132,
          -37.80844406239794,
          -37.79880784193868,
          -37.80507549481148,
          -37.78876646532481,
          -37.79971925148615,
          -37.80036399547247,
          -37.81496292619756,
          -37.833492592152055,
          -37.80873573757889,
          -37.83402659390421,
          -37.7973686517326,
          -37.818661429077565,
          -37.79652814965624,
          -37.824515332027374,
          -37.79876463709042,
          -37.81515199996832,
          -37.788881977365534,
          -37.80745475119164,
          -37.79356327137949,
          -37.809619594760925,
          -37.82757470073263,
          -37.78856985219146,
          -37.83797939210319,
          -37.82443038661168,
          -37.81705372019623,
          -37.79751188281464,
          -37.8154897209421,
          -37.809529419681915,
          -37.82761879686965,
          -37.8274863513217,
          -37.79318721030933,
          -37.794119423064835,
          -37.81907437596114,
          -37.815131101376316,
          -37.807818443405786,
          -37.8003117573685,
          -37.811855056669465,
          -37.81752131157024,
          -37.82529168557941,
          -37.8018789998995,
          -37.81369615949063,
          -37.80797145109416,
          -37.82448796366866,
          -37.816372587464194,
          -37.82608245547765,
          -37.84636523541518,
          -37.808287841541016,
          -37.80934257095215,
          -37.818182414626,
          -37.79711321846946,
          -37.80929934776048,
          -37.83821279340083,
          -37.808812471795825,
          -37.81416705164724,
          -37.81423820911377,
          -37.83050145615298,
          -37.80896077725495,
          -37.81462198667572,
          -37.8263886672322,
          -37.814045696245444,
          -37.80802260345247,
          -37.78906641105694,
          -37.8142146636456,
          -37.830646353758006,
          -37.81445283931879,
          -37.813809730034016,
          -37.81477498563876,
          -37.8148250061516,
          -37.81616555599273,
          -37.822354943322516,
          -37.8110254247042,
          -37.8161194177483,
          -37.80850961095415,
          -37.80798236426282,
          -37.82105325166662,
          -37.81228284759549,
          -37.83090738927025,
          -37.816769775936415,
          -37.8056602379296,
          -37.78927264257458,
          -37.806146827348215,
          -37.80765675563613,
          -37.837852068403045,
          -37.788150992029124,
          -37.817109057486306,
          -37.8185414524938,
          -37.81353029497798,
          -37.81900916814651,
          -37.7878287010959,
          -37.815645181904934,
          -37.814255112357884,
          -37.82809821699065,
          -37.81603735345208,
          -37.814512988432284,
          -37.81800468849671,
          -37.7768243133591,
          -37.79599110853902,
          -37.7899020619364,
          -37.83418817823534,
          -37.81244313154375,
          -37.79632044833639,
          -37.8089979683468,
          -37.81306140791501,
          -37.819308000053816,
          -37.819757082495634,
          -37.81623378889366,
          -37.818714750052564,
          -37.81421603410462,
          -37.79841723897423,
          -37.83810048822822,
          -37.808063993124755,
          -37.82433862793255,
          -37.821944383264515,
          -37.797080533634855,
          -37.79311984872834,
          -37.79652282393984,
          -37.821975619660826,
          -37.82182930067348,
          -37.82184802198551,
          -37.82008386427672,
          -37.7957828377791,
          -37.8010026064472,
          -37.80864413399843,
          -37.79691937094069,
          -37.82575911837306,
          -37.80929146679047,
          -37.82041978025081,
          -37.82098526953961,
          -37.79509950602595,
          -37.812996388379574,
          -37.82152765141866,
          -37.80976595865845,
          -37.81856091209236,
          -37.80216526497228,
          -37.80321979982874,
          -37.817133832515886,
          -37.78173960855618,
          -37.810001408423794,
          -37.813227307442936,
          -37.80640188675552,
          -37.81693262845701,
          -37.81404283282996,
          -37.813840200630764,
          -37.80154944806279,
          -37.844868012380594,
          -37.80529547097777,
          -37.80818012583804,
          -37.802549399329365,
          -37.803059237091844,
          -37.81234043444199,
          -37.80562571647932,
          -37.80788778467283,
          -37.81216520204091,
          -37.80851142031708,
          -37.81992584864532,
          -37.82006117679849,
          -37.82034639542803,
          -37.81960237827908,
          -37.819438968625846,
          -37.81194214173279,
          -37.80995904531946,
          -37.81246734483347,
          -37.81021475048793,
          -37.79729185805682,
          -37.805542439498744,
          -37.8112433817774,
          -37.797735610367184,
          -37.82109996088101,
          -37.81013023870802,
          -37.798326892378775,
          -37.82113117244896,
          -37.833097474760784,
          -37.8311302360352,
          -37.810155370387115,
          -37.81532421856633,
          -37.801184239771814,
          -37.81356919030969,
          -37.78781828742052,
          -37.817648790219586,
          -37.79239484832826,
          -37.820833513226,
          -37.80960504242399,
          -37.78461755337098,
          -37.823585218124066,
          -37.785749876166854,
          -37.80079224985466,
          -37.80583208816812,
          -37.83791533345555,
          -37.83812279692764,
          -37.837723207583,
          -37.82868056672568,
          -37.80802310647455,
          -37.80954490811353,
          -37.81773891026234,
          -37.79913453732719,
          -37.81549184979563,
          -37.79487204911321,
          -37.798359061642394,
          -37.81571019391467,
          -37.812507455765825,
          -37.805096370055985,
          -37.81567826631228,
          -37.81326154182592,
          -37.81604261642293,
          -37.81837198532915,
          -37.81134886207891,
          -37.81906265602721,
          -37.801212865694,
          -37.83907607432247,
          -37.80829367831461,
          -37.78839432510481,
          -37.80937941545079,
          -37.79690399889368,
          -37.786589704734205,
          -37.81282701598772,
          -37.80624105869908,
          -37.83559816183405,
          -37.80893529783754,
          -37.81733628905311,
          -37.795798413672664,
          -37.789905886009194,
          -37.809772803707105,
          -37.78769794316998,
          -37.810366590324705,
          -37.811564266662906,
          -37.833804187407914,
          -37.78862802301414,
          -37.81406066182521,
          -37.802499459093475,
          -37.81670182976496,
          -37.798450051517,
          -37.81846692066088,
          -37.78753527356739,
          -37.788884729492594,
          -37.81526938030506,
          -37.813679303192885,
          -37.82989903875784,
          -37.79190709436289,
          -37.80177905008115,
          -37.8058763162087,
          -37.789172279642656,
          -37.77780546439758,
          -37.82818737508437,
          -37.80600681913371,
          -37.814757592637996,
          -37.809634533095966,
          -37.823023584532955,
          -37.79695182782845,
          -37.80665019829609,
          -37.80989847776999,
          -37.80079284037803,
          -37.82548931228506,
          -37.817559118411545,
          -37.81188465382023,
          -37.81653031836812,
          -37.80878586781885,
          -37.7886641092804,
          -37.78736076533634,
          -37.821342821464484,
          -37.80924944702428,
          -37.817469903243634,
          -37.81282986321664,
          -37.78844102301043,
          -37.84528264174672,
          -37.8096811194493,
          -37.80616525273552,
          -37.81911145628374,
          -37.80288950971882,
          -37.81407765908747,
          -37.8144179773568,
          -37.81399686719868,
          -37.80888765276794,
          -37.82101451097005,
          -37.82245531995651,
          -37.81922354952514,
          -37.831248691311046,
          -37.79542820321093,
          -37.80131277902669,
          -37.81119984634188,
          -37.81783530889369,
          -37.81865077698676,
          -37.81234015178933,
          -37.81890270874259,
          -37.812093827052024,
          -37.78982844660462,
          -37.827092530187336,
          -37.81536715343981,
          -37.80016730064929,
          -37.81525812715369,
          -37.8179970994574,
          -37.83549489087966,
          -37.81684103667474,
          -37.79978507038865,
          -37.81422877531404,
          -37.804939145253066,
          -37.82440853792057,
          -37.79121331484834,
          -37.80922441998009,
          -37.8005268417748,
          -37.796462680902884,
          -37.84772512202408,
          -37.80853325378754,
          -37.81805748924856,
          -37.80817723010256,
          -37.808864841105674,
          -37.787393115397485,
          -37.81667207060559,
          -37.78795570943878,
          -37.8338517266203,
          -37.80811277287506,
          -37.81500502646429,
          -37.81800067394602,
          -37.81781367280956,
          -37.814301126983835,
          -37.82458485142583,
          -37.80418732798319,
          -37.81780826163911,
          -37.824957589441595,
          -37.815747720335395,
          -37.80578948478108,
          -37.80156043117069,
          -37.817102900843146,
          -37.80530199508407,
          -37.81371544691807,
          -37.83805344725913,
          -37.799468401192904,
          -37.80116315689172,
          -37.79231196042186,
          -37.826653568568,
          -37.81638076916372,
          -37.818025010419376,
          -37.788688317983876,
          -37.813299781191674,
          -37.81676985740952,
          -37.82631318716707,
          -37.830383685988295,
          -37.837448442634496,
          -37.82795704463473,
          -37.79796058621595,
          -37.79800591165152,
          -37.827243846864505,
          -37.817370761058896,
          -37.813367107893555,
          -37.81505976020886,
          -37.81624471028839,
          -37.80711201902813,
          -37.80457180614089,
          -37.78770570641908,
          -37.817607458050844,
          -37.80658723335579,
          -37.803339198040256,
          -37.817087790425305,
          -37.8063196963107,
          -37.80297161518615,
          -37.807038141077655,
          -37.813185652172955,
          -37.811750011150615,
          -37.81424348777966,
          -37.8163885550882,
          -37.825516305888655,
          -37.778162046466925,
          -37.8262759751925,
          -37.82726610326462,
          -37.81485104443937,
          -37.81997323151544,
          -37.78621210858249,
          -37.84302218473216,
          -37.81657223110731,
          -37.78866280235081,
          -37.80140218505425,
          -37.77994231784343,
          -37.80559095091777,
          -37.81393032474746,
          -37.81523741283953,
          -37.81318946829552,
          -37.812732947476064,
          -37.81280108660732,
          -37.81365121338239,
          -37.810410583782115,
          -37.8103400105678,
          -37.81035719203446,
          -37.811671105439395,
          -37.81154239310255,
          -37.797971596122565,
          -37.81178100908779,
          -37.80923632418461,
          -37.81319209376959,
          -37.81143027778501,
          -37.82056551840895,
          -37.811855336408605,
          -37.79757141433099,
          -37.833986879220376,
          -37.8329889950102,
          -37.82331330151206,
          -37.80607563109291,
          -37.799626571979,
          -37.788369651739124,
          -37.81057726626329,
          -37.81009407843733,
          -37.800674546303355,
          -37.81337598675978,
          -37.79343733335615,
          -37.79610873147121,
          -37.812805018986275,
          -37.81067902579816,
          -37.80493392716711,
          -37.79374473221132,
          -37.81662927208537,
          -37.81477137493706,
          -37.815724495101826,
          -37.8206561881543,
          -37.815132238803486,
          -37.809063191250615,
          -37.81208096160265,
          -37.829318354354584,
          -37.81571277810125,
          -37.7880299800388,
          -37.826639365557696,
          -37.81575615741369,
          -37.80005764943068,
          -37.789255816221306,
          -37.78848285735981,
          -37.82832381338533,
          -37.81748528765998,
          -37.78571380927657,
          -37.81496969010876,
          -37.796785910119105,
          -37.807138240378826,
          -37.79512770492241,
          -37.816733445547534,
          -37.80104071322525,
          -37.83722877498613,
          -37.81478285798049,
          -37.837809487754406,
          -37.79390858528549,
          -37.83554669676835,
          -37.81424790389756,
          -37.801747393990524,
          -37.81551337922776,
          -37.81404439372931,
          -37.79029250252253,
          -37.8083853901696,
          -37.81461170328569,
          -37.81502372825039,
          -37.82675861753466,
          -37.8156802075021,
          -37.812543736683644,
          -37.81589792840054,
          -37.826074647314414,
          -37.816671417737616,
          -37.804018267505235,
          -37.79760221573297,
          -37.81687683268807,
          -37.80625278104178,
          -37.836686049885714,
          -37.789403862595606,
          -37.80878400446829,
          -37.78217975710198,
          -37.816198270114626,
          -37.827186657109394,
          -37.797084184135066,
          -37.80129139317332,
          -37.8079500980639,
          -37.82997610929252,
          -37.81608776025647,
          -37.81566975388842,
          -37.84567092637375,
          -37.79220474400565,
          -37.81692955657728,
          -37.78852650585673,
          -37.79451810545209,
          -37.82326341992113,
          -37.79980812752099,
          -37.83374361393442,
          -37.82942897220813,
          -37.834843018380724,
          -37.81553209543023,
          -37.81749295221367,
          -37.78811513672838,
          -37.827732312688404,
          -37.80916508274641,
          -37.82049011299798,
          -37.78785765713872,
          -37.8084792755635,
          -37.835700483229374,
          -37.82482066060614,
          -37.80502500529782,
          -37.833318644348104,
          -37.83367389561767,
          -37.81561026333512,
          -37.81359028700843,
          -37.80441116416634,
          -37.81664443332881,
          -37.80808940606944,
          -37.81066985764349,
          -37.80589846317703,
          -37.79289419575787,
          -37.81388972845476,
          -37.81171525844919,
          -37.81602283200136,
          -37.80926053349894,
          -37.81355395725799,
          -37.8200379157497,
          -37.8193900059075,
          -37.82173233800721,
          -37.82252148812592,
          -37.82221253044304,
          -37.83142333122553,
          -37.808150987641675,
          -37.79449668366691,
          -37.78790617799605,
          -37.80620010337028,
          -37.818360833155566,
          -37.81944780456247,
          -37.816183140232425,
          -37.80546025130843,
          -37.83067072882942,
          -37.791026243993805,
          -37.84898101125695,
          -37.79677506676623,
          -37.81570463781361,
          -37.80928203761015,
          -37.818398317660396,
          -37.83390743655458,
          -37.81699246604183,
          -37.80403834259454,
          -37.80864598740839,
          -37.80292544652219,
          -37.850189063937975,
          -37.815496675888745,
          -37.816638399643765,
          -37.80042269188138,
          -37.813490935015864,
          -37.84020222717797,
          -37.81806474104424,
          -37.80948406021987,
          -37.80884715653978,
          -37.800945972140106,
          -37.79505334586087,
          -37.788633799789146,
          -37.799773707694925,
          -37.80110203672531,
          -37.80485514430427,
          -37.81853816876616,
          -37.81856584358261,
          -37.80049570242054,
          -37.81751804299176,
          -37.79292121685255,
          -37.7969999188379,
          -37.799309361623315,
          -37.81745176034101,
          -37.79426095535322,
          -37.81727426662573,
          -37.7894039277831,
          -37.829320246809175,
          -37.77787280863379,
          -37.80010717711763,
          -37.82358955011895,
          -37.816478211146325,
          -37.79921686789852,
          -37.802139979249645,
          -37.819249525721546,
          -37.81678096185456,
          -37.787685540046155,
          -37.80377420978394,
          -37.800933308328,
          -37.815851960915275,
          -37.8160323801695,
          -37.815687921346274,
          -37.80310460767115,
          -37.80165981204875,
          -37.81719565357219,
          -37.805210877692105,
          -37.81469938543433,
          -37.82739309185128,
          -37.80355373087717,
          -37.81674658597492,
          -37.816215897716724,
          -37.802635557574234,
          -37.82773356602829,
          -37.80649032764419,
          -37.81373606068878,
          -37.80762406898538,
          -37.80219653196235,
          -37.78472216459817,
          -37.80183141195302,
          -37.841339834488494,
          -37.7832326525099,
          -37.80274510806699,
          -37.813713869988284,
          -37.80537851271673,
          -37.81674199124885,
          -37.81808346482557,
          -37.814024972758766,
          -37.811987820373275,
          -37.80389879328451,
          -37.80671593663949,
          -37.811302201419814,
          -37.81657385337027,
          -37.80959212069309,
          -37.812777673112755,
          -37.810847667864095,
          -37.820720688538316,
          -37.80760016169446,
          -37.805708026612734,
          -37.81179598114689,
          -37.80887222984826,
          -37.813085606860035,
          -37.82009773670189,
          -37.81963795827762,
          -37.808149887562415,
          -37.81166586303269,
          -37.81104094171485,
          -37.81068765460863,
          -37.832398055502274,
          -37.821466665628506
         ],
         "legendgroup": "",
         "lon": [
          144.93461561782556,
          144.9610352542915,
          144.95945259116502,
          144.9702510191494,
          144.9699088149105,
          144.98204502621257,
          144.97049982199576,
          144.96748110523234,
          144.95828640079029,
          144.97472590308539,
          144.96357109329355,
          144.9624997786294,
          144.97420512803893,
          144.95652349585023,
          144.946130941099,
          144.94626645179602,
          144.98757602566957,
          144.95660104028866,
          144.96001429061388,
          144.96355320996017,
          144.98255938128673,
          144.96106304535996,
          144.96321020505465,
          144.9562298225159,
          144.98414023369213,
          144.98786430457363,
          144.97503630615606,
          144.95115210955552,
          144.97285553307756,
          144.9779071036116,
          144.95397493569587,
          144.9493411054433,
          144.93605422528807,
          144.95755409654618,
          144.97445714540896,
          144.9662891783184,
          144.97750865711237,
          144.96062945479272,
          144.98163054503226,
          144.97496651843173,
          144.96079267602082,
          144.94660996790856,
          144.98790512906746,
          144.9747295984343,
          144.9579718281134,
          144.94147716643403,
          144.96284409599355,
          144.94740301275286,
          144.98900526663837,
          144.96198596496168,
          144.93420678611608,
          144.98358986822572,
          144.98726221256814,
          144.9885540699743,
          144.94643506729258,
          144.97715884570468,
          144.9609933025183,
          144.95808949946888,
          144.96614752909568,
          144.95835161479602,
          144.95823796397517,
          144.95417697599316,
          144.9523445002065,
          144.9722978900719,
          144.95748218285047,
          144.97468115027306,
          144.9590565284049,
          144.95699394487414,
          144.957477046625,
          144.95169534581166,
          144.97344465141322,
          144.98750982376043,
          144.971151686723,
          144.97126671547468,
          144.97925361824858,
          144.97590429042046,
          144.986390828877,
          144.9649692779766,
          144.95787221345523,
          144.985973445907,
          144.98559232178562,
          144.96346272188626,
          144.95190004061502,
          144.95190873624017,
          144.96489491167756,
          144.97574625949923,
          144.95210933052124,
          144.96080732611415,
          144.97147211334868,
          144.96310035786357,
          144.93894894641073,
          144.96328952492982,
          144.96503745251133,
          144.9387086280104,
          144.9403330335604,
          144.9378065258281,
          144.93767170197304,
          144.94543701234943,
          144.94934645729538,
          144.96448238821688,
          144.95280028437392,
          144.97853144741342,
          144.97361342204104,
          144.94729241316114,
          144.96225660256732,
          144.9653191240639,
          144.9886992511182,
          144.95601738234615,
          144.9408879190684,
          144.95837176057492,
          144.97133827810939,
          144.98261036320176,
          144.92931507402957,
          144.95886918337467,
          144.95986610032867,
          144.96562689785426,
          144.9466836989878,
          144.9263011671016,
          144.97362274298877,
          144.96314463508452,
          144.96250232714326,
          144.9821328463559,
          144.96608267214845,
          144.95786996056594,
          144.94950718266736,
          144.96774902530242,
          144.94278347291382,
          144.98246079253826,
          144.96933223259757,
          144.96769242729175,
          144.98313300052172,
          144.96722488194496,
          144.96109337426026,
          144.95177916556824,
          144.98388749292187,
          144.95539184213388,
          144.95192190061925,
          144.95771298383323,
          144.97624195438908,
          144.97435750995368,
          144.9868583824581,
          144.9554701935576,
          144.96681437885664,
          144.97569077125485,
          144.9511071803236,
          144.9508299964265,
          144.95172266635663,
          144.95209282569368,
          144.94713429019637,
          144.94674208879394,
          144.956676029123,
          144.97306965801397,
          144.96532508788752,
          144.96023980219016,
          144.9552810302513,
          144.94948438368323,
          144.94752868597968,
          144.94686295812824,
          144.9653875325347,
          144.95359142933043,
          144.96110173830093,
          144.9539113114062,
          144.95663686656312,
          144.96349100336076,
          144.960892215493,
          144.95975867728626,
          144.96121001226857,
          144.9418656354206,
          144.96066661986535,
          144.96158670873507,
          144.944481889073,
          144.94442843024345,
          144.95673829970835,
          144.97880301053274,
          144.95073438825767,
          144.96037469372482,
          144.94561980978585,
          144.95647812387216,
          144.95668182457203,
          144.95369342087383,
          144.96966543755318,
          144.95498514579143,
          144.9675332034479,
          144.96135924364654,
          144.96138929352844,
          144.95755045350455,
          144.95440304158228,
          144.96115142865048,
          144.95650440078018,
          144.96258872541995,
          144.95392015900728,
          144.9613083063571,
          144.95207263941518,
          144.95294690644724,
          144.95819863295065,
          144.95265119572034,
          144.95506315996832,
          144.96406966142055,
          144.95337437154987,
          144.94337905094406,
          144.97445235805603,
          144.97145905494565,
          144.95567767406428,
          144.9594549143138,
          144.95678321621645,
          144.96549422218388,
          144.94048863708593,
          144.9591138882068,
          144.9683645204509,
          144.94805385278923,
          144.98886676079798,
          144.91853683692926,
          144.96866949010052,
          144.91963166250332,
          144.95646632198313,
          144.95554586059603,
          144.9830971144852,
          144.98470562743924,
          144.9819027809533,
          144.97131908448085,
          144.9739842030245,
          144.97565016934166,
          144.95915802797361,
          144.94614583771633,
          144.96653270276863,
          144.96794126797522,
          144.96433140746572,
          144.97897144874005,
          144.9742894212467,
          144.95895584337904,
          144.9789401722338,
          144.96270601315376,
          144.97237936718057,
          144.96056054646473,
          144.97300897644394,
          144.96097909776446,
          144.9743133165028,
          144.97659740911263,
          144.97648921311355,
          144.93255865298318,
          144.95540938856456,
          144.96464444785937,
          144.92044941851353,
          144.9512593433405,
          144.9594101807558,
          144.98222637970522,
          144.9825468771577,
          144.9601936080859,
          144.9580328020052,
          144.94282890660094,
          144.99046129734057,
          144.92507817269043,
          144.97276454743334,
          144.96473149169995,
          144.97992102231532,
          144.94125876780646,
          144.96587515064095,
          144.96361579734005,
          144.98806592732404,
          144.94626785553564,
          144.96012317189604,
          144.92354182379114,
          144.93716378047796,
          144.9748111251577,
          144.97271965789076,
          144.97132227192975,
          144.9684349631308,
          144.963740165873,
          144.95594589492947,
          144.93994560335986,
          144.95810033365981,
          144.95835211725716,
          144.95711228992306,
          144.97462603337192,
          144.98914561960956,
          144.95597291154732,
          144.9516456156554,
          144.96289064039783,
          144.9728681927225,
          144.95742367002572,
          144.9710903510331,
          144.95907567849682,
          144.97329950061658,
          144.9864994819283,
          144.9811300718097,
          144.96899309200785,
          144.92120214624708,
          144.9613602994948,
          144.96086516197207,
          144.9674314849563,
          144.9737500547471,
          144.93300087436626,
          144.9819933978598,
          144.9895883451337,
          144.95853617286218,
          144.96178185154704,
          144.94814414761515,
          144.93968394363523,
          144.93867544339312,
          144.94857703774954,
          144.95509583452778,
          144.94743232127033,
          144.94784460175248,
          144.94677586556904,
          144.9656354661326,
          144.97529598684116,
          144.95731390993367,
          144.9561581316964,
          144.96481860333185,
          144.96798262880156,
          144.97351022035613,
          144.96248755589187,
          144.96497427443845,
          144.95876361719613,
          144.95784744541746,
          144.97602632594266,
          144.94596175013578,
          144.9524037935695,
          144.95927620388548,
          144.9822479191366,
          144.9893651396818,
          144.97455597256268,
          144.95195121906374,
          144.95614515973526,
          144.9604387837448,
          144.94444540923737,
          144.9729725064801,
          144.9458979152028,
          144.95795162107945,
          144.97974924039954,
          144.96333488781306,
          144.94631148430935,
          144.97525101723335,
          144.9818752116282,
          144.94022636414627,
          144.98780797087488,
          144.92748799537,
          144.98028760027958,
          144.97480828490046,
          144.94499863439185,
          144.94623871568595,
          144.96625726738696,
          144.97441500371386,
          144.98846194018427,
          144.94942202189512,
          144.96474064639577,
          144.97088151714277,
          144.97930766744065,
          144.95516363088913,
          144.9457157068543,
          144.96867205549697,
          144.95608001707353,
          144.96291445189868,
          144.98415841802847,
          144.97460991921167,
          144.95693383266703,
          144.95845856770754,
          144.9713597632996,
          144.98519440513732,
          144.9676954116728,
          144.9353200519003,
          144.97390741685746,
          144.94568475071972,
          144.96650123578493,
          144.9652749895495,
          144.9818446766576,
          144.97137585501594,
          144.9463550796731,
          144.9748580731237,
          144.97142497161457,
          144.98943700589234,
          144.95074109216227,
          144.93712312052827,
          144.94552025867688,
          144.9598832324741,
          144.96325674629196,
          144.959023428021,
          144.95348688574168,
          144.9621553641654,
          144.9495713074953,
          144.95329784749006,
          144.9599290141054,
          144.9488841791515,
          144.9627224011874,
          144.9570697789935,
          144.9620121414134,
          144.9575550673043,
          144.95573219049146,
          144.95684243650064,
          144.96021096495184,
          144.95594714871783,
          144.95447001854785,
          144.94489254641078,
          144.95875527623377,
          144.95920566230896,
          144.97803487640942,
          144.96282736541934,
          144.95890588176607,
          144.9567707425709,
          144.95998495934393,
          144.9630775710097,
          144.94448303800934,
          144.96361244907823,
          144.94370641008916,
          144.9568618302912,
          144.9429617381598,
          144.94428942977808,
          144.96112367851669,
          144.96137008830607,
          144.96123162121168,
          144.95672642415596,
          144.95716625308532,
          144.95290084522694,
          144.95646357644566,
          144.96505353325873,
          144.95145240701342,
          144.95755333899038,
          144.95482356078998,
          144.95607704409193,
          144.95241552400122,
          144.97374940920977,
          144.97248496527163,
          144.97002873274852,
          144.95773128895834,
          144.95500240988994,
          144.93214126449095,
          144.96427548347162,
          144.97555748598796,
          144.9744047825231,
          144.9661530183228,
          144.9681877486605,
          144.97518045790557,
          144.96809839969052,
          144.95591823301424,
          144.94929672562014,
          144.9681349404292,
          144.98750964393156,
          144.9690026438727,
          144.97929391768668,
          144.9486670285728,
          144.96777229236187,
          144.98375397917218,
          144.9705668355572,
          144.97129279944812,
          144.9793110130821,
          144.92818456971318,
          144.9576382695195,
          144.9795848902807,
          144.97450968420816,
          144.94194689407496,
          144.93339278860944,
          144.9658946768523,
          144.96466021395796,
          144.96949904156185,
          144.96068634243073,
          144.97506547667868,
          144.9557572071218,
          144.95811426749205,
          144.98769984769424,
          144.9567757560453,
          144.9818865055325,
          144.96340401692726,
          144.98228168998386,
          144.94711029662162,
          144.97518111162668,
          144.94770963134457,
          144.9574151918185,
          144.9773718013231,
          144.9396645940791,
          144.94328982629995,
          144.97588201982407,
          144.96192170994019,
          144.93707308522303,
          144.96117631834483,
          144.95821002276574,
          144.96518026521514,
          144.98085349675213,
          144.9573786643474,
          144.98765040801862,
          144.95630954477627,
          144.96446155412997,
          144.9895960136667,
          144.95961897760927,
          144.97570988630025,
          144.94203103842247,
          144.98095863522258,
          144.91621911098724,
          144.95845148085021,
          144.96160258123743,
          144.94651122270577,
          144.9457632026112,
          144.9731646550359,
          144.96437717093502,
          144.9825845613688,
          144.9525929677729,
          144.98496543318322,
          144.94568886277878,
          144.9671921830254,
          144.9338010608367,
          144.95818932436018,
          144.96078602323263,
          144.9460257592082,
          144.97945313928983,
          144.96383733432276,
          144.98238425112226,
          144.97752523446368,
          144.95965319904246,
          144.92898094504977,
          144.9621411917084,
          144.98470771915652,
          144.96138494067623,
          144.940548851851,
          144.95552077688134,
          144.98220496426936,
          144.9669518791314,
          144.95612977306166,
          144.97616352878413,
          144.97891080936805,
          144.97824277798898,
          144.949982770774,
          144.97377104387752,
          144.95865538080767,
          144.9745918274829,
          144.97538920288665,
          144.95613839054587,
          144.946554132216,
          144.96440012585705,
          144.97181570865894,
          144.96677574678841,
          144.98561699858956,
          144.94100426330257,
          144.9508097389469,
          144.95304452841077,
          144.94761547599543,
          144.94847260605562,
          144.94989385334227,
          144.96580715957768,
          144.97516030030263,
          144.94696963574367,
          144.94060272347483,
          144.95884960788473,
          144.95662849417346,
          144.9605477353823,
          144.94546899909417,
          144.95220940378647,
          144.9652006627552,
          144.95861632323235,
          144.9802074379137,
          144.967613430905,
          144.97912030266835,
          144.96367983419916,
          144.96036014426844,
          144.98071814924762,
          144.94582236710576,
          144.9584692138485,
          144.97980869131104,
          144.95795702712462,
          144.98076047355661,
          144.9772216430405,
          144.9876048083877,
          144.96397501947504,
          144.9657616266592,
          144.97700763324107,
          144.9462902996838,
          144.98772644662947,
          144.95545558206467,
          144.97435872868658,
          144.94926371938732,
          144.94122312729874,
          144.9551874527131,
          144.96385724691575,
          144.95616176669097,
          144.96374276313628,
          144.95962461426132,
          144.95609293627774,
          144.9646100859291,
          144.96827668752198,
          144.96607019657966,
          144.9641669770584,
          144.98985020239883,
          144.97549565328927,
          144.96454558947093,
          144.94219890968904,
          144.96559383892665,
          144.95808986441952,
          144.95560475405637,
          144.9673744836894,
          144.9669851499758,
          144.9544879322871,
          144.96367788146514,
          144.96825729804402,
          144.94577103158204,
          144.94044983361835,
          144.95635137886265,
          144.9458264019424,
          144.96531089353564,
          144.9569769033873,
          144.96381915482954,
          144.94953464304706,
          144.95672500789257,
          144.96451133460377,
          144.9499833369015,
          144.95776402472558,
          144.9550118027703,
          144.95639184156065,
          144.95448013093005,
          144.96406077154464,
          144.95657245070635,
          144.9534983316748,
          144.96145921807386,
          144.94435529337918,
          144.96011897036195,
          144.94560441077888,
          144.9593879697377,
          144.9456681662414,
          144.97742202496974,
          144.9595724049466,
          144.94683529871264,
          144.9573121345535,
          144.95147639630133,
          144.96430289491465,
          144.9537009108251,
          144.94453564436728,
          144.94171854839792,
          144.96337349158475,
          144.95970046672045,
          144.96180678776324,
          144.95301008375637,
          144.96380562374847,
          144.95282272732535,
          144.96159769611134,
          144.9563215759282,
          144.97077233376172,
          144.95443273848633,
          144.95628855447504,
          144.96629674282005,
          144.9517437119392,
          144.9546274900651,
          144.9612426255413,
          144.9687686562151,
          144.95637244045514,
          144.95889705480184,
          144.96010158269797,
          144.97196740483838,
          144.96927428818776
         ],
         "marker": {
          "color": "#636efa"
         },
         "mode": "markers",
         "name": "",
         "showlegend": false,
         "subplot": "mapbox",
         "type": "scattermapbox"
        }
       ],
       "layout": {
        "height": 600,
        "legend": {
         "tracegroupgap": 0
        },
        "mapbox": {
         "center": {
          "lat": -37.811598449785734,
          "lon": 144.96153323678016
         },
         "domain": {
          "x": [
           0,
           1
          ],
          "y": [
           0,
           1
          ]
         },
         "style": "carto-positron",
         "zoom": 12
        },
        "template": {
         "data": {
          "bar": [
           {
            "error_x": {
             "color": "#2a3f5f"
            },
            "error_y": {
             "color": "#2a3f5f"
            },
            "marker": {
             "line": {
              "color": "#E5ECF6",
              "width": 0.5
             },
             "pattern": {
              "fillmode": "overlay",
              "size": 10,
              "solidity": 0.2
             }
            },
            "type": "bar"
           }
          ],
          "barpolar": [
           {
            "marker": {
             "line": {
              "color": "#E5ECF6",
              "width": 0.5
             },
             "pattern": {
              "fillmode": "overlay",
              "size": 10,
              "solidity": 0.2
             }
            },
            "type": "barpolar"
           }
          ],
          "carpet": [
           {
            "aaxis": {
             "endlinecolor": "#2a3f5f",
             "gridcolor": "white",
             "linecolor": "white",
             "minorgridcolor": "white",
             "startlinecolor": "#2a3f5f"
            },
            "baxis": {
             "endlinecolor": "#2a3f5f",
             "gridcolor": "white",
             "linecolor": "white",
             "minorgridcolor": "white",
             "startlinecolor": "#2a3f5f"
            },
            "type": "carpet"
           }
          ],
          "choropleth": [
           {
            "colorbar": {
             "outlinewidth": 0,
             "ticks": ""
            },
            "type": "choropleth"
           }
          ],
          "contour": [
           {
            "colorbar": {
             "outlinewidth": 0,
             "ticks": ""
            },
            "colorscale": [
             [
              0,
              "#0d0887"
             ],
             [
              0.1111111111111111,
              "#46039f"
             ],
             [
              0.2222222222222222,
              "#7201a8"
             ],
             [
              0.3333333333333333,
              "#9c179e"
             ],
             [
              0.4444444444444444,
              "#bd3786"
             ],
             [
              0.5555555555555556,
              "#d8576b"
             ],
             [
              0.6666666666666666,
              "#ed7953"
             ],
             [
              0.7777777777777778,
              "#fb9f3a"
             ],
             [
              0.8888888888888888,
              "#fdca26"
             ],
             [
              1,
              "#f0f921"
             ]
            ],
            "type": "contour"
           }
          ],
          "contourcarpet": [
           {
            "colorbar": {
             "outlinewidth": 0,
             "ticks": ""
            },
            "type": "contourcarpet"
           }
          ],
          "heatmap": [
           {
            "colorbar": {
             "outlinewidth": 0,
             "ticks": ""
            },
            "colorscale": [
             [
              0,
              "#0d0887"
             ],
             [
              0.1111111111111111,
              "#46039f"
             ],
             [
              0.2222222222222222,
              "#7201a8"
             ],
             [
              0.3333333333333333,
              "#9c179e"
             ],
             [
              0.4444444444444444,
              "#bd3786"
             ],
             [
              0.5555555555555556,
              "#d8576b"
             ],
             [
              0.6666666666666666,
              "#ed7953"
             ],
             [
              0.7777777777777778,
              "#fb9f3a"
             ],
             [
              0.8888888888888888,
              "#fdca26"
             ],
             [
              1,
              "#f0f921"
             ]
            ],
            "type": "heatmap"
           }
          ],
          "heatmapgl": [
           {
            "colorbar": {
             "outlinewidth": 0,
             "ticks": ""
            },
            "colorscale": [
             [
              0,
              "#0d0887"
             ],
             [
              0.1111111111111111,
              "#46039f"
             ],
             [
              0.2222222222222222,
              "#7201a8"
             ],
             [
              0.3333333333333333,
              "#9c179e"
             ],
             [
              0.4444444444444444,
              "#bd3786"
             ],
             [
              0.5555555555555556,
              "#d8576b"
             ],
             [
              0.6666666666666666,
              "#ed7953"
             ],
             [
              0.7777777777777778,
              "#fb9f3a"
             ],
             [
              0.8888888888888888,
              "#fdca26"
             ],
             [
              1,
              "#f0f921"
             ]
            ],
            "type": "heatmapgl"
           }
          ],
          "histogram": [
           {
            "marker": {
             "pattern": {
              "fillmode": "overlay",
              "size": 10,
              "solidity": 0.2
             }
            },
            "type": "histogram"
           }
          ],
          "histogram2d": [
           {
            "colorbar": {
             "outlinewidth": 0,
             "ticks": ""
            },
            "colorscale": [
             [
              0,
              "#0d0887"
             ],
             [
              0.1111111111111111,
              "#46039f"
             ],
             [
              0.2222222222222222,
              "#7201a8"
             ],
             [
              0.3333333333333333,
              "#9c179e"
             ],
             [
              0.4444444444444444,
              "#bd3786"
             ],
             [
              0.5555555555555556,
              "#d8576b"
             ],
             [
              0.6666666666666666,
              "#ed7953"
             ],
             [
              0.7777777777777778,
              "#fb9f3a"
             ],
             [
              0.8888888888888888,
              "#fdca26"
             ],
             [
              1,
              "#f0f921"
             ]
            ],
            "type": "histogram2d"
           }
          ],
          "histogram2dcontour": [
           {
            "colorbar": {
             "outlinewidth": 0,
             "ticks": ""
            },
            "colorscale": [
             [
              0,
              "#0d0887"
             ],
             [
              0.1111111111111111,
              "#46039f"
             ],
             [
              0.2222222222222222,
              "#7201a8"
             ],
             [
              0.3333333333333333,
              "#9c179e"
             ],
             [
              0.4444444444444444,
              "#bd3786"
             ],
             [
              0.5555555555555556,
              "#d8576b"
             ],
             [
              0.6666666666666666,
              "#ed7953"
             ],
             [
              0.7777777777777778,
              "#fb9f3a"
             ],
             [
              0.8888888888888888,
              "#fdca26"
             ],
             [
              1,
              "#f0f921"
             ]
            ],
            "type": "histogram2dcontour"
           }
          ],
          "mesh3d": [
           {
            "colorbar": {
             "outlinewidth": 0,
             "ticks": ""
            },
            "type": "mesh3d"
           }
          ],
          "parcoords": [
           {
            "line": {
             "colorbar": {
              "outlinewidth": 0,
              "ticks": ""
             }
            },
            "type": "parcoords"
           }
          ],
          "pie": [
           {
            "automargin": true,
            "type": "pie"
           }
          ],
          "scatter": [
           {
            "fillpattern": {
             "fillmode": "overlay",
             "size": 10,
             "solidity": 0.2
            },
            "type": "scatter"
           }
          ],
          "scatter3d": [
           {
            "line": {
             "colorbar": {
              "outlinewidth": 0,
              "ticks": ""
             }
            },
            "marker": {
             "colorbar": {
              "outlinewidth": 0,
              "ticks": ""
             }
            },
            "type": "scatter3d"
           }
          ],
          "scattercarpet": [
           {
            "marker": {
             "colorbar": {
              "outlinewidth": 0,
              "ticks": ""
             }
            },
            "type": "scattercarpet"
           }
          ],
          "scattergeo": [
           {
            "marker": {
             "colorbar": {
              "outlinewidth": 0,
              "ticks": ""
             }
            },
            "type": "scattergeo"
           }
          ],
          "scattergl": [
           {
            "marker": {
             "colorbar": {
              "outlinewidth": 0,
              "ticks": ""
             }
            },
            "type": "scattergl"
           }
          ],
          "scattermapbox": [
           {
            "marker": {
             "colorbar": {
              "outlinewidth": 0,
              "ticks": ""
             }
            },
            "type": "scattermapbox"
           }
          ],
          "scatterpolar": [
           {
            "marker": {
             "colorbar": {
              "outlinewidth": 0,
              "ticks": ""
             }
            },
            "type": "scatterpolar"
           }
          ],
          "scatterpolargl": [
           {
            "marker": {
             "colorbar": {
              "outlinewidth": 0,
              "ticks": ""
             }
            },
            "type": "scatterpolargl"
           }
          ],
          "scatterternary": [
           {
            "marker": {
             "colorbar": {
              "outlinewidth": 0,
              "ticks": ""
             }
            },
            "type": "scatterternary"
           }
          ],
          "surface": [
           {
            "colorbar": {
             "outlinewidth": 0,
             "ticks": ""
            },
            "colorscale": [
             [
              0,
              "#0d0887"
             ],
             [
              0.1111111111111111,
              "#46039f"
             ],
             [
              0.2222222222222222,
              "#7201a8"
             ],
             [
              0.3333333333333333,
              "#9c179e"
             ],
             [
              0.4444444444444444,
              "#bd3786"
             ],
             [
              0.5555555555555556,
              "#d8576b"
             ],
             [
              0.6666666666666666,
              "#ed7953"
             ],
             [
              0.7777777777777778,
              "#fb9f3a"
             ],
             [
              0.8888888888888888,
              "#fdca26"
             ],
             [
              1,
              "#f0f921"
             ]
            ],
            "type": "surface"
           }
          ],
          "table": [
           {
            "cells": {
             "fill": {
              "color": "#EBF0F8"
             },
             "line": {
              "color": "white"
             }
            },
            "header": {
             "fill": {
              "color": "#C8D4E3"
             },
             "line": {
              "color": "white"
             }
            },
            "type": "table"
           }
          ]
         },
         "layout": {
          "annotationdefaults": {
           "arrowcolor": "#2a3f5f",
           "arrowhead": 0,
           "arrowwidth": 1
          },
          "autotypenumbers": "strict",
          "coloraxis": {
           "colorbar": {
            "outlinewidth": 0,
            "ticks": ""
           }
          },
          "colorscale": {
           "diverging": [
            [
             0,
             "#8e0152"
            ],
            [
             0.1,
             "#c51b7d"
            ],
            [
             0.2,
             "#de77ae"
            ],
            [
             0.3,
             "#f1b6da"
            ],
            [
             0.4,
             "#fde0ef"
            ],
            [
             0.5,
             "#f7f7f7"
            ],
            [
             0.6,
             "#e6f5d0"
            ],
            [
             0.7,
             "#b8e186"
            ],
            [
             0.8,
             "#7fbc41"
            ],
            [
             0.9,
             "#4d9221"
            ],
            [
             1,
             "#276419"
            ]
           ],
           "sequential": [
            [
             0,
             "#0d0887"
            ],
            [
             0.1111111111111111,
             "#46039f"
            ],
            [
             0.2222222222222222,
             "#7201a8"
            ],
            [
             0.3333333333333333,
             "#9c179e"
            ],
            [
             0.4444444444444444,
             "#bd3786"
            ],
            [
             0.5555555555555556,
             "#d8576b"
            ],
            [
             0.6666666666666666,
             "#ed7953"
            ],
            [
             0.7777777777777778,
             "#fb9f3a"
            ],
            [
             0.8888888888888888,
             "#fdca26"
            ],
            [
             1,
             "#f0f921"
            ]
           ],
           "sequentialminus": [
            [
             0,
             "#0d0887"
            ],
            [
             0.1111111111111111,
             "#46039f"
            ],
            [
             0.2222222222222222,
             "#7201a8"
            ],
            [
             0.3333333333333333,
             "#9c179e"
            ],
            [
             0.4444444444444444,
             "#bd3786"
            ],
            [
             0.5555555555555556,
             "#d8576b"
            ],
            [
             0.6666666666666666,
             "#ed7953"
            ],
            [
             0.7777777777777778,
             "#fb9f3a"
            ],
            [
             0.8888888888888888,
             "#fdca26"
            ],
            [
             1,
             "#f0f921"
            ]
           ]
          },
          "colorway": [
           "#636efa",
           "#EF553B",
           "#00cc96",
           "#ab63fa",
           "#FFA15A",
           "#19d3f3",
           "#FF6692",
           "#B6E880",
           "#FF97FF",
           "#FECB52"
          ],
          "font": {
           "color": "#2a3f5f"
          },
          "geo": {
           "bgcolor": "white",
           "lakecolor": "white",
           "landcolor": "#E5ECF6",
           "showlakes": true,
           "showland": true,
           "subunitcolor": "white"
          },
          "hoverlabel": {
           "align": "left"
          },
          "hovermode": "closest",
          "mapbox": {
           "style": "light"
          },
          "paper_bgcolor": "white",
          "plot_bgcolor": "#E5ECF6",
          "polar": {
           "angularaxis": {
            "gridcolor": "white",
            "linecolor": "white",
            "ticks": ""
           },
           "bgcolor": "#E5ECF6",
           "radialaxis": {
            "gridcolor": "white",
            "linecolor": "white",
            "ticks": ""
           }
          },
          "scene": {
           "xaxis": {
            "backgroundcolor": "#E5ECF6",
            "gridcolor": "white",
            "gridwidth": 2,
            "linecolor": "white",
            "showbackground": true,
            "ticks": "",
            "zerolinecolor": "white"
           },
           "yaxis": {
            "backgroundcolor": "#E5ECF6",
            "gridcolor": "white",
            "gridwidth": 2,
            "linecolor": "white",
            "showbackground": true,
            "ticks": "",
            "zerolinecolor": "white"
           },
           "zaxis": {
            "backgroundcolor": "#E5ECF6",
            "gridcolor": "white",
            "gridwidth": 2,
            "linecolor": "white",
            "showbackground": true,
            "ticks": "",
            "zerolinecolor": "white"
           }
          },
          "shapedefaults": {
           "line": {
            "color": "#2a3f5f"
           }
          },
          "ternary": {
           "aaxis": {
            "gridcolor": "white",
            "linecolor": "white",
            "ticks": ""
           },
           "baxis": {
            "gridcolor": "white",
            "linecolor": "white",
            "ticks": ""
           },
           "bgcolor": "#E5ECF6",
           "caxis": {
            "gridcolor": "white",
            "linecolor": "white",
            "ticks": ""
           }
          },
          "title": {
           "x": 0.05
          },
          "xaxis": {
           "automargin": true,
           "gridcolor": "white",
           "linecolor": "white",
           "ticks": "",
           "title": {
            "standoff": 15
           },
           "zerolinecolor": "white",
           "zerolinewidth": 2
          },
          "yaxis": {
           "automargin": true,
           "gridcolor": "white",
           "linecolor": "white",
           "ticks": "",
           "title": {
            "standoff": 15
           },
           "zerolinecolor": "white",
           "zerolinewidth": 2
          }
         }
        },
        "title": {
         "text": "Melbourne Tram System"
        },
        "width": 600
       }
      },
      "text/html": [
       "<div>                            <div id=\"793dfdbe-2fdb-48e0-926e-3f74aec0df08\" class=\"plotly-graph-div\" style=\"height:600px; width:600px;\"></div>            <script type=\"text/javascript\">                require([\"plotly\"], function(Plotly) {                    window.PLOTLYENV=window.PLOTLYENV || {};                                    if (document.getElementById(\"793dfdbe-2fdb-48e0-926e-3f74aec0df08\")) {                    Plotly.newPlot(                        \"793dfdbe-2fdb-48e0-926e-3f74aec0df08\",                        [{\"hovertemplate\":\"<b>%{hovertext}</b><br><br>lat=%{lat}<br>lon=%{lon}<extra></extra>\",\"hovertext\":[\"kml_3\",\"kml_5\",\"kml_6\",\"kml_7\",\"kml_8\",\"kml_9\",\"kml_16\",\"kml_22\",\"kml_26\",\"kml_27\",\"kml_29\",\"kml_37\",\"kml_39\",\"kml_41\",\"kml_30\",\"kml_31\",\"kml_34\",\"kml_44\",\"kml_49\",\"kml_50\",\"kml_55\",\"kml_60\",\"kml_69\",\"kml_74\",\"kml_77\",\"kml_108\",\"kml_80\",\"kml_82\",\"kml_85\",\"kml_88\",\"kml_130\",\"kml_92\",\"kml_93\",\"kml_95\",\"kml_97\",\"kml_98\",\"kml_99\",\"kml_101\",\"kml_105\",\"kml_107\",\"kml_110\",\"kml_112\",\"kml_116\",\"kml_120\",\"kml_121\",\"kml_134\",\"kml_124\",\"kml_127\",\"kml_140\",\"kml_143\",\"kml_146\",\"kml_147\",\"kml_149\",\"kml_151\",\"kml_152\",\"kml_157\",\"kml_159\",\"kml_161\",\"kml_165\",\"kml_174\",\"kml_184\",\"kml_198\",\"kml_189\",\"kml_192\",\"kml_194\",\"kml_196\",\"kml_204\",\"kml_206\",\"kml_207\",\"kml_211\",\"kml_218\",\"kml_221\",\"kml_230\",\"kml_231\",\"kml_235\",\"kml_238\",\"kml_239\",\"kml_242\",\"kml_251\",\"kml_254\",\"kml_257\",\"kml_259\",\"kml_265\",\"kml_266\",\"kml_267\",\"kml_271\",\"kml_273\",\"kml_283\",\"kml_286\",\"kml_288\",\"kml_289\",\"kml_292\",\"kml_295\",\"kml_298\",\"kml_299\",\"kml_301\",\"kml_302\",\"kml_313\",\"kml_312\",\"kml_315\",\"kml_324\",\"kml_326\",\"kml_405\",\"kml_333\",\"kml_336\",\"kml_339\",\"kml_343\",\"kml_344\",\"kml_349\",\"kml_356\",\"kml_358\",\"kml_360\",\"kml_362\",\"kml_369\",\"kml_370\",\"kml_371\",\"kml_377\",\"kml_380\",\"kml_381\",\"kml_382\",\"kml_383\",\"kml_384\",\"kml_388\",\"kml_389\",\"kml_390\",\"kml_393\",\"kml_397\",\"kml_398\",\"kml_402\",\"kml_403\",\"kml_406\",\"kml_408\",\"kml_409\",\"kml_411\",\"kml_415\",\"kml_417\",\"kml_468\",\"kml_421\",\"kml_422\",\"kml_431\",\"kml_433\",\"kml_441\",\"kml_444\",\"kml_448\",\"kml_467\",\"kml_452\",\"kml_453\",\"kml_454\",\"kml_455\",\"kml_469\",\"kml_474\",\"kml_475\",\"kml_477\",\"kml_478\",\"kml_482\",\"kml_484\",\"kml_487\",\"kml_488\",\"kml_492\",\"kml_502\",\"kml_504\",\"kml_508\",\"kml_509\",\"kml_517\",\"kml_523\",\"kml_525\",\"kml_540\",\"kml_541\",\"kml_557\",\"kml_550\",\"kml_558\",\"kml_559\",\"kml_560\",\"kml_562\",\"kml_564\",\"kml_567\",\"kml_581\",\"kml_583\",\"kml_584\",\"kml_590\",\"kml_591\",\"kml_592\",\"kml_595\",\"kml_618\",\"kml_600\",\"kml_603\",\"kml_604\",\"kml_607\",\"kml_608\",\"kml_610\",\"kml_614\",\"kml_620\",\"kml_624\",\"kml_627\",\"kml_628\",\"kml_630\",\"kml_632\",\"kml_633\",\"kml_634\",\"kml_638\",\"kml_639\",\"kml_640\",\"kml_13\",\"kml_14\",\"kml_19\",\"kml_21\",\"kml_25\",\"kml_40\",\"kml_42\",\"kml_33\",\"kml_43\",\"kml_45\",\"kml_47\",\"kml_48\",\"kml_52\",\"kml_53\",\"kml_57\",\"kml_62\",\"kml_63\",\"kml_68\",\"kml_72\",\"kml_73\",\"kml_75\",\"kml_83\",\"kml_84\",\"kml_86\",\"kml_87\",\"kml_89\",\"kml_90\",\"kml_131\",\"kml_100\",\"kml_103\",\"kml_104\",\"kml_111\",\"kml_113\",\"kml_114\",\"kml_115\",\"kml_117\",\"kml_133\",\"kml_135\",\"kml_137\",\"kml_156\",\"kml_158\",\"kml_163\",\"kml_164\",\"kml_166\",\"kml_170\",\"kml_173\",\"kml_175\",\"kml_176\",\"kml_179\",\"kml_181\",\"kml_182\",\"kml_199\",\"kml_200\",\"kml_185\",\"kml_193\",\"kml_201\",\"kml_202\",\"kml_203\",\"kml_205\",\"kml_208\",\"kml_209\",\"kml_210\",\"kml_212\",\"kml_215\",\"kml_216\",\"kml_220\",\"kml_222\",\"kml_223\",\"kml_225\",\"kml_234\",\"kml_240\",\"kml_241\",\"kml_243\",\"kml_245\",\"kml_247\",\"kml_248\",\"kml_249\",\"kml_250\",\"kml_256\",\"kml_260\",\"kml_261\",\"kml_263\",\"kml_264\",\"kml_269\",\"kml_272\",\"kml_274\",\"kml_277\",\"kml_278\",\"kml_279\",\"kml_281\",\"kml_284\",\"kml_285\",\"kml_290\",\"kml_291\",\"kml_294\",\"kml_296\",\"kml_297\",\"kml_304\",\"kml_305\",\"kml_307\",\"kml_309\",\"kml_314\",\"kml_317\",\"kml_318\",\"kml_320\",\"kml_322\",\"kml_323\",\"kml_327\",\"kml_329\",\"kml_330\",\"kml_331\",\"kml_332\",\"kml_337\",\"kml_340\",\"kml_345\",\"kml_346\",\"kml_347\",\"kml_352\",\"kml_353\",\"kml_354\",\"kml_357\",\"kml_359\",\"kml_361\",\"kml_363\",\"kml_366\",\"kml_367\",\"kml_368\",\"kml_372\",\"kml_374\",\"kml_376\",\"kml_378\",\"kml_385\",\"kml_391\",\"kml_394\",\"kml_396\",\"kml_399\",\"kml_404\",\"kml_413\",\"kml_414\",\"kml_418\",\"kml_420\",\"kml_423\",\"kml_426\",\"kml_428\",\"kml_430\",\"kml_437\",\"kml_438\",\"kml_440\",\"kml_442\",\"kml_446\",\"kml_447\",\"kml_457\",\"kml_460\",\"kml_461\",\"kml_462\",\"kml_463\",\"kml_466\",\"kml_470\",\"kml_471\",\"kml_472\",\"kml_473\",\"kml_476\",\"kml_479\",\"kml_480\",\"kml_483\",\"kml_485\",\"kml_486\",\"kml_489\",\"kml_490\",\"kml_493\",\"kml_496\",\"kml_499\",\"kml_529\",\"kml_506\",\"kml_507\",\"kml_510\",\"kml_511\",\"kml_514\",\"kml_516\",\"kml_518\",\"kml_521\",\"kml_526\",\"kml_530\",\"kml_531\",\"kml_532\",\"kml_534\",\"kml_536\",\"kml_539\",\"kml_543\",\"kml_544\",\"kml_545\",\"kml_546\",\"kml_548\",\"kml_549\",\"kml_551\",\"kml_552\",\"kml_554\",\"kml_563\",\"kml_565\",\"kml_570\",\"kml_574\",\"kml_577\",\"kml_580\",\"kml_588\",\"kml_589\",\"kml_593\",\"kml_597\",\"kml_601\",\"kml_602\",\"kml_609\",\"kml_611\",\"kml_619\",\"kml_623\",\"kml_625\",\"kml_631\",\"kml_635\",\"kml_636\",\"kml_637\",\"kml_642\",\"kml_643\",\"kml_645\",\"kml_1\",\"kml_2\",\"kml_4\",\"kml_10\",\"kml_11\",\"kml_12\",\"kml_15\",\"kml_17\",\"kml_18\",\"kml_20\",\"kml_23\",\"kml_24\",\"kml_28\",\"kml_35\",\"kml_36\",\"kml_38\",\"kml_32\",\"kml_46\",\"kml_51\",\"kml_54\",\"kml_56\",\"kml_58\",\"kml_59\",\"kml_61\",\"kml_64\",\"kml_65\",\"kml_66\",\"kml_67\",\"kml_70\",\"kml_71\",\"kml_76\",\"kml_136\",\"kml_155\",\"kml_78\",\"kml_79\",\"kml_81\",\"kml_91\",\"kml_129\",\"kml_94\",\"kml_96\",\"kml_102\",\"kml_106\",\"kml_109\",\"kml_118\",\"kml_119\",\"kml_122\",\"kml_132\",\"kml_123\",\"kml_125\",\"kml_126\",\"kml_128\",\"kml_138\",\"kml_139\",\"kml_141\",\"kml_142\",\"kml_144\",\"kml_145\",\"kml_148\",\"kml_150\",\"kml_153\",\"kml_154\",\"kml_160\",\"kml_162\",\"kml_167\",\"kml_168\",\"kml_169\",\"kml_171\",\"kml_172\",\"kml_177\",\"kml_178\",\"kml_180\",\"kml_183\",\"kml_186\",\"kml_187\",\"kml_188\",\"kml_190\",\"kml_191\",\"kml_195\",\"kml_197\",\"kml_213\",\"kml_214\",\"kml_217\",\"kml_219\",\"kml_224\",\"kml_226\",\"kml_227\",\"kml_228\",\"kml_229\",\"kml_232\",\"kml_233\",\"kml_236\",\"kml_237\",\"kml_244\",\"kml_246\",\"kml_252\",\"kml_253\",\"kml_255\",\"kml_258\",\"kml_262\",\"kml_268\",\"kml_270\",\"kml_275\",\"kml_276\",\"kml_280\",\"kml_282\",\"kml_287\",\"kml_293\",\"kml_300\",\"kml_303\",\"kml_306\",\"kml_308\",\"kml_310\",\"kml_311\",\"kml_316\",\"kml_319\",\"kml_321\",\"kml_325\",\"kml_328\",\"kml_334\",\"kml_335\",\"kml_338\",\"kml_341\",\"kml_342\",\"kml_348\",\"kml_350\",\"kml_351\",\"kml_355\",\"kml_364\",\"kml_365\",\"kml_373\",\"kml_375\",\"kml_379\",\"kml_386\",\"kml_387\",\"kml_392\",\"kml_395\",\"kml_400\",\"kml_401\",\"kml_407\",\"kml_410\",\"kml_412\",\"kml_416\",\"kml_419\",\"kml_424\",\"kml_425\",\"kml_427\",\"kml_429\",\"kml_432\",\"kml_434\",\"kml_435\",\"kml_436\",\"kml_439\",\"kml_443\",\"kml_445\",\"kml_449\",\"kml_450\",\"kml_451\",\"kml_456\",\"kml_458\",\"kml_459\",\"kml_464\",\"kml_465\",\"kml_481\",\"kml_491\",\"kml_494\",\"kml_495\",\"kml_497\",\"kml_498\",\"kml_500\",\"kml_501\",\"kml_528\",\"kml_503\",\"kml_505\",\"kml_512\",\"kml_513\",\"kml_515\",\"kml_519\",\"kml_520\",\"kml_522\",\"kml_524\",\"kml_527\",\"kml_533\",\"kml_535\",\"kml_537\",\"kml_538\",\"kml_542\",\"kml_556\",\"kml_569\",\"kml_547\",\"kml_553\",\"kml_555\",\"kml_561\",\"kml_566\",\"kml_568\",\"kml_571\",\"kml_572\",\"kml_573\",\"kml_575\",\"kml_576\",\"kml_578\",\"kml_579\",\"kml_582\",\"kml_585\",\"kml_586\",\"kml_587\",\"kml_594\",\"kml_596\",\"kml_598\",\"kml_599\",\"kml_605\",\"kml_606\",\"kml_612\",\"kml_613\",\"kml_615\",\"kml_616\",\"kml_617\",\"kml_621\",\"kml_622\",\"kml_626\",\"kml_629\",\"kml_641\",\"kml_644\"],\"lat\":[-37.78861331868605,-37.819185576253524,-37.81837971233182,-37.81440385390417,-37.816738613153454,-37.83646719875296,-37.82412832636803,-37.797091788559044,-37.79372033756351,-37.8348813636736,-37.80904726313377,-37.81281225334892,-37.81384787377029,-37.82421642973257,-37.821353200731046,-37.81466254633741,-37.82447196328505,-37.80594999213071,-37.81959745098778,-37.80286090298705,-37.85043666008879,-37.82240936427552,-37.8288007970231,-37.80447394273454,-37.85063818142471,-37.81679586889235,-37.81126435516056,-37.812594988894894,-37.81083109028132,-37.80844406239794,-37.79880784193868,-37.80507549481148,-37.78876646532481,-37.79971925148615,-37.80036399547247,-37.81496292619756,-37.833492592152055,-37.80873573757889,-37.83402659390421,-37.7973686517326,-37.818661429077565,-37.79652814965624,-37.824515332027374,-37.79876463709042,-37.81515199996832,-37.788881977365534,-37.80745475119164,-37.79356327137949,-37.809619594760925,-37.82757470073263,-37.78856985219146,-37.83797939210319,-37.82443038661168,-37.81705372019623,-37.79751188281464,-37.8154897209421,-37.809529419681915,-37.82761879686965,-37.8274863513217,-37.79318721030933,-37.794119423064835,-37.81907437596114,-37.815131101376316,-37.807818443405786,-37.8003117573685,-37.811855056669465,-37.81752131157024,-37.82529168557941,-37.8018789998995,-37.81369615949063,-37.80797145109416,-37.82448796366866,-37.816372587464194,-37.82608245547765,-37.84636523541518,-37.808287841541016,-37.80934257095215,-37.818182414626,-37.79711321846946,-37.80929934776048,-37.83821279340083,-37.808812471795825,-37.81416705164724,-37.81423820911377,-37.83050145615298,-37.80896077725495,-37.81462198667572,-37.8263886672322,-37.814045696245444,-37.80802260345247,-37.78906641105694,-37.8142146636456,-37.830646353758006,-37.81445283931879,-37.813809730034016,-37.81477498563876,-37.8148250061516,-37.81616555599273,-37.822354943322516,-37.8110254247042,-37.8161194177483,-37.80850961095415,-37.80798236426282,-37.82105325166662,-37.81228284759549,-37.83090738927025,-37.816769775936415,-37.8056602379296,-37.78927264257458,-37.806146827348215,-37.80765675563613,-37.837852068403045,-37.788150992029124,-37.817109057486306,-37.8185414524938,-37.81353029497798,-37.81900916814651,-37.7878287010959,-37.815645181904934,-37.814255112357884,-37.82809821699065,-37.81603735345208,-37.814512988432284,-37.81800468849671,-37.7768243133591,-37.79599110853902,-37.7899020619364,-37.83418817823534,-37.81244313154375,-37.79632044833639,-37.8089979683468,-37.81306140791501,-37.819308000053816,-37.819757082495634,-37.81623378889366,-37.818714750052564,-37.81421603410462,-37.79841723897423,-37.83810048822822,-37.808063993124755,-37.82433862793255,-37.821944383264515,-37.797080533634855,-37.79311984872834,-37.79652282393984,-37.821975619660826,-37.82182930067348,-37.82184802198551,-37.82008386427672,-37.7957828377791,-37.8010026064472,-37.80864413399843,-37.79691937094069,-37.82575911837306,-37.80929146679047,-37.82041978025081,-37.82098526953961,-37.79509950602595,-37.812996388379574,-37.82152765141866,-37.80976595865845,-37.81856091209236,-37.80216526497228,-37.80321979982874,-37.817133832515886,-37.78173960855618,-37.810001408423794,-37.813227307442936,-37.80640188675552,-37.81693262845701,-37.81404283282996,-37.813840200630764,-37.80154944806279,-37.844868012380594,-37.80529547097777,-37.80818012583804,-37.802549399329365,-37.803059237091844,-37.81234043444199,-37.80562571647932,-37.80788778467283,-37.81216520204091,-37.80851142031708,-37.81992584864532,-37.82006117679849,-37.82034639542803,-37.81960237827908,-37.819438968625846,-37.81194214173279,-37.80995904531946,-37.81246734483347,-37.81021475048793,-37.79729185805682,-37.805542439498744,-37.8112433817774,-37.797735610367184,-37.82109996088101,-37.81013023870802,-37.798326892378775,-37.82113117244896,-37.833097474760784,-37.8311302360352,-37.810155370387115,-37.81532421856633,-37.801184239771814,-37.81356919030969,-37.78781828742052,-37.817648790219586,-37.79239484832826,-37.820833513226,-37.80960504242399,-37.78461755337098,-37.823585218124066,-37.785749876166854,-37.80079224985466,-37.80583208816812,-37.83791533345555,-37.83812279692764,-37.837723207583,-37.82868056672568,-37.80802310647455,-37.80954490811353,-37.81773891026234,-37.79913453732719,-37.81549184979563,-37.79487204911321,-37.798359061642394,-37.81571019391467,-37.812507455765825,-37.805096370055985,-37.81567826631228,-37.81326154182592,-37.81604261642293,-37.81837198532915,-37.81134886207891,-37.81906265602721,-37.801212865694,-37.83907607432247,-37.80829367831461,-37.78839432510481,-37.80937941545079,-37.79690399889368,-37.786589704734205,-37.81282701598772,-37.80624105869908,-37.83559816183405,-37.80893529783754,-37.81733628905311,-37.795798413672664,-37.789905886009194,-37.809772803707105,-37.78769794316998,-37.810366590324705,-37.811564266662906,-37.833804187407914,-37.78862802301414,-37.81406066182521,-37.802499459093475,-37.81670182976496,-37.798450051517,-37.81846692066088,-37.78753527356739,-37.788884729492594,-37.81526938030506,-37.813679303192885,-37.82989903875784,-37.79190709436289,-37.80177905008115,-37.8058763162087,-37.789172279642656,-37.77780546439758,-37.82818737508437,-37.80600681913371,-37.814757592637996,-37.809634533095966,-37.823023584532955,-37.79695182782845,-37.80665019829609,-37.80989847776999,-37.80079284037803,-37.82548931228506,-37.817559118411545,-37.81188465382023,-37.81653031836812,-37.80878586781885,-37.7886641092804,-37.78736076533634,-37.821342821464484,-37.80924944702428,-37.817469903243634,-37.81282986321664,-37.78844102301043,-37.84528264174672,-37.8096811194493,-37.80616525273552,-37.81911145628374,-37.80288950971882,-37.81407765908747,-37.8144179773568,-37.81399686719868,-37.80888765276794,-37.82101451097005,-37.82245531995651,-37.81922354952514,-37.831248691311046,-37.79542820321093,-37.80131277902669,-37.81119984634188,-37.81783530889369,-37.81865077698676,-37.81234015178933,-37.81890270874259,-37.812093827052024,-37.78982844660462,-37.827092530187336,-37.81536715343981,-37.80016730064929,-37.81525812715369,-37.8179970994574,-37.83549489087966,-37.81684103667474,-37.79978507038865,-37.81422877531404,-37.804939145253066,-37.82440853792057,-37.79121331484834,-37.80922441998009,-37.8005268417748,-37.796462680902884,-37.84772512202408,-37.80853325378754,-37.81805748924856,-37.80817723010256,-37.808864841105674,-37.787393115397485,-37.81667207060559,-37.78795570943878,-37.8338517266203,-37.80811277287506,-37.81500502646429,-37.81800067394602,-37.81781367280956,-37.814301126983835,-37.82458485142583,-37.80418732798319,-37.81780826163911,-37.824957589441595,-37.815747720335395,-37.80578948478108,-37.80156043117069,-37.817102900843146,-37.80530199508407,-37.81371544691807,-37.83805344725913,-37.799468401192904,-37.80116315689172,-37.79231196042186,-37.826653568568,-37.81638076916372,-37.818025010419376,-37.788688317983876,-37.813299781191674,-37.81676985740952,-37.82631318716707,-37.830383685988295,-37.837448442634496,-37.82795704463473,-37.79796058621595,-37.79800591165152,-37.827243846864505,-37.817370761058896,-37.813367107893555,-37.81505976020886,-37.81624471028839,-37.80711201902813,-37.80457180614089,-37.78770570641908,-37.817607458050844,-37.80658723335579,-37.803339198040256,-37.817087790425305,-37.8063196963107,-37.80297161518615,-37.807038141077655,-37.813185652172955,-37.811750011150615,-37.81424348777966,-37.8163885550882,-37.825516305888655,-37.778162046466925,-37.8262759751925,-37.82726610326462,-37.81485104443937,-37.81997323151544,-37.78621210858249,-37.84302218473216,-37.81657223110731,-37.78866280235081,-37.80140218505425,-37.77994231784343,-37.80559095091777,-37.81393032474746,-37.81523741283953,-37.81318946829552,-37.812732947476064,-37.81280108660732,-37.81365121338239,-37.810410583782115,-37.8103400105678,-37.81035719203446,-37.811671105439395,-37.81154239310255,-37.797971596122565,-37.81178100908779,-37.80923632418461,-37.81319209376959,-37.81143027778501,-37.82056551840895,-37.811855336408605,-37.79757141433099,-37.833986879220376,-37.8329889950102,-37.82331330151206,-37.80607563109291,-37.799626571979,-37.788369651739124,-37.81057726626329,-37.81009407843733,-37.800674546303355,-37.81337598675978,-37.79343733335615,-37.79610873147121,-37.812805018986275,-37.81067902579816,-37.80493392716711,-37.79374473221132,-37.81662927208537,-37.81477137493706,-37.815724495101826,-37.8206561881543,-37.815132238803486,-37.809063191250615,-37.81208096160265,-37.829318354354584,-37.81571277810125,-37.7880299800388,-37.826639365557696,-37.81575615741369,-37.80005764943068,-37.789255816221306,-37.78848285735981,-37.82832381338533,-37.81748528765998,-37.78571380927657,-37.81496969010876,-37.796785910119105,-37.807138240378826,-37.79512770492241,-37.816733445547534,-37.80104071322525,-37.83722877498613,-37.81478285798049,-37.837809487754406,-37.79390858528549,-37.83554669676835,-37.81424790389756,-37.801747393990524,-37.81551337922776,-37.81404439372931,-37.79029250252253,-37.8083853901696,-37.81461170328569,-37.81502372825039,-37.82675861753466,-37.8156802075021,-37.812543736683644,-37.81589792840054,-37.826074647314414,-37.816671417737616,-37.804018267505235,-37.79760221573297,-37.81687683268807,-37.80625278104178,-37.836686049885714,-37.789403862595606,-37.80878400446829,-37.78217975710198,-37.816198270114626,-37.827186657109394,-37.797084184135066,-37.80129139317332,-37.8079500980639,-37.82997610929252,-37.81608776025647,-37.81566975388842,-37.84567092637375,-37.79220474400565,-37.81692955657728,-37.78852650585673,-37.79451810545209,-37.82326341992113,-37.79980812752099,-37.83374361393442,-37.82942897220813,-37.834843018380724,-37.81553209543023,-37.81749295221367,-37.78811513672838,-37.827732312688404,-37.80916508274641,-37.82049011299798,-37.78785765713872,-37.8084792755635,-37.835700483229374,-37.82482066060614,-37.80502500529782,-37.833318644348104,-37.83367389561767,-37.81561026333512,-37.81359028700843,-37.80441116416634,-37.81664443332881,-37.80808940606944,-37.81066985764349,-37.80589846317703,-37.79289419575787,-37.81388972845476,-37.81171525844919,-37.81602283200136,-37.80926053349894,-37.81355395725799,-37.8200379157497,-37.8193900059075,-37.82173233800721,-37.82252148812592,-37.82221253044304,-37.83142333122553,-37.808150987641675,-37.79449668366691,-37.78790617799605,-37.80620010337028,-37.818360833155566,-37.81944780456247,-37.816183140232425,-37.80546025130843,-37.83067072882942,-37.791026243993805,-37.84898101125695,-37.79677506676623,-37.81570463781361,-37.80928203761015,-37.818398317660396,-37.83390743655458,-37.81699246604183,-37.80403834259454,-37.80864598740839,-37.80292544652219,-37.850189063937975,-37.815496675888745,-37.816638399643765,-37.80042269188138,-37.813490935015864,-37.84020222717797,-37.81806474104424,-37.80948406021987,-37.80884715653978,-37.800945972140106,-37.79505334586087,-37.788633799789146,-37.799773707694925,-37.80110203672531,-37.80485514430427,-37.81853816876616,-37.81856584358261,-37.80049570242054,-37.81751804299176,-37.79292121685255,-37.7969999188379,-37.799309361623315,-37.81745176034101,-37.79426095535322,-37.81727426662573,-37.7894039277831,-37.829320246809175,-37.77787280863379,-37.80010717711763,-37.82358955011895,-37.816478211146325,-37.79921686789852,-37.802139979249645,-37.819249525721546,-37.81678096185456,-37.787685540046155,-37.80377420978394,-37.800933308328,-37.815851960915275,-37.8160323801695,-37.815687921346274,-37.80310460767115,-37.80165981204875,-37.81719565357219,-37.805210877692105,-37.81469938543433,-37.82739309185128,-37.80355373087717,-37.81674658597492,-37.816215897716724,-37.802635557574234,-37.82773356602829,-37.80649032764419,-37.81373606068878,-37.80762406898538,-37.80219653196235,-37.78472216459817,-37.80183141195302,-37.841339834488494,-37.7832326525099,-37.80274510806699,-37.813713869988284,-37.80537851271673,-37.81674199124885,-37.81808346482557,-37.814024972758766,-37.811987820373275,-37.80389879328451,-37.80671593663949,-37.811302201419814,-37.81657385337027,-37.80959212069309,-37.812777673112755,-37.810847667864095,-37.820720688538316,-37.80760016169446,-37.805708026612734,-37.81179598114689,-37.80887222984826,-37.813085606860035,-37.82009773670189,-37.81963795827762,-37.808149887562415,-37.81166586303269,-37.81104094171485,-37.81068765460863,-37.832398055502274,-37.821466665628506],\"legendgroup\":\"\",\"lon\":[144.93461561782556,144.9610352542915,144.95945259116502,144.9702510191494,144.9699088149105,144.98204502621257,144.97049982199576,144.96748110523234,144.95828640079029,144.97472590308539,144.96357109329355,144.9624997786294,144.97420512803893,144.95652349585023,144.946130941099,144.94626645179602,144.98757602566957,144.95660104028866,144.96001429061388,144.96355320996017,144.98255938128673,144.96106304535996,144.96321020505465,144.9562298225159,144.98414023369213,144.98786430457363,144.97503630615606,144.95115210955552,144.97285553307756,144.9779071036116,144.95397493569587,144.9493411054433,144.93605422528807,144.95755409654618,144.97445714540896,144.9662891783184,144.97750865711237,144.96062945479272,144.98163054503226,144.97496651843173,144.96079267602082,144.94660996790856,144.98790512906746,144.9747295984343,144.9579718281134,144.94147716643403,144.96284409599355,144.94740301275286,144.98900526663837,144.96198596496168,144.93420678611608,144.98358986822572,144.98726221256814,144.9885540699743,144.94643506729258,144.97715884570468,144.9609933025183,144.95808949946888,144.96614752909568,144.95835161479602,144.95823796397517,144.95417697599316,144.9523445002065,144.9722978900719,144.95748218285047,144.97468115027306,144.9590565284049,144.95699394487414,144.957477046625,144.95169534581166,144.97344465141322,144.98750982376043,144.971151686723,144.97126671547468,144.97925361824858,144.97590429042046,144.986390828877,144.9649692779766,144.95787221345523,144.985973445907,144.98559232178562,144.96346272188626,144.95190004061502,144.95190873624017,144.96489491167756,144.97574625949923,144.95210933052124,144.96080732611415,144.97147211334868,144.96310035786357,144.93894894641073,144.96328952492982,144.96503745251133,144.9387086280104,144.9403330335604,144.9378065258281,144.93767170197304,144.94543701234943,144.94934645729538,144.96448238821688,144.95280028437392,144.97853144741342,144.97361342204104,144.94729241316114,144.96225660256732,144.9653191240639,144.9886992511182,144.95601738234615,144.9408879190684,144.95837176057492,144.97133827810939,144.98261036320176,144.92931507402957,144.95886918337467,144.95986610032867,144.96562689785426,144.9466836989878,144.9263011671016,144.97362274298877,144.96314463508452,144.96250232714326,144.9821328463559,144.96608267214845,144.95786996056594,144.94950718266736,144.96774902530242,144.94278347291382,144.98246079253826,144.96933223259757,144.96769242729175,144.98313300052172,144.96722488194496,144.96109337426026,144.95177916556824,144.98388749292187,144.95539184213388,144.95192190061925,144.95771298383323,144.97624195438908,144.97435750995368,144.9868583824581,144.9554701935576,144.96681437885664,144.97569077125485,144.9511071803236,144.9508299964265,144.95172266635663,144.95209282569368,144.94713429019637,144.94674208879394,144.956676029123,144.97306965801397,144.96532508788752,144.96023980219016,144.9552810302513,144.94948438368323,144.94752868597968,144.94686295812824,144.9653875325347,144.95359142933043,144.96110173830093,144.9539113114062,144.95663686656312,144.96349100336076,144.960892215493,144.95975867728626,144.96121001226857,144.9418656354206,144.96066661986535,144.96158670873507,144.944481889073,144.94442843024345,144.95673829970835,144.97880301053274,144.95073438825767,144.96037469372482,144.94561980978585,144.95647812387216,144.95668182457203,144.95369342087383,144.96966543755318,144.95498514579143,144.9675332034479,144.96135924364654,144.96138929352844,144.95755045350455,144.95440304158228,144.96115142865048,144.95650440078018,144.96258872541995,144.95392015900728,144.9613083063571,144.95207263941518,144.95294690644724,144.95819863295065,144.95265119572034,144.95506315996832,144.96406966142055,144.95337437154987,144.94337905094406,144.97445235805603,144.97145905494565,144.95567767406428,144.9594549143138,144.95678321621645,144.96549422218388,144.94048863708593,144.9591138882068,144.9683645204509,144.94805385278923,144.98886676079798,144.91853683692926,144.96866949010052,144.91963166250332,144.95646632198313,144.95554586059603,144.9830971144852,144.98470562743924,144.9819027809533,144.97131908448085,144.9739842030245,144.97565016934166,144.95915802797361,144.94614583771633,144.96653270276863,144.96794126797522,144.96433140746572,144.97897144874005,144.9742894212467,144.95895584337904,144.9789401722338,144.96270601315376,144.97237936718057,144.96056054646473,144.97300897644394,144.96097909776446,144.9743133165028,144.97659740911263,144.97648921311355,144.93255865298318,144.95540938856456,144.96464444785937,144.92044941851353,144.9512593433405,144.9594101807558,144.98222637970522,144.9825468771577,144.9601936080859,144.9580328020052,144.94282890660094,144.99046129734057,144.92507817269043,144.97276454743334,144.96473149169995,144.97992102231532,144.94125876780646,144.96587515064095,144.96361579734005,144.98806592732404,144.94626785553564,144.96012317189604,144.92354182379114,144.93716378047796,144.9748111251577,144.97271965789076,144.97132227192975,144.9684349631308,144.963740165873,144.95594589492947,144.93994560335986,144.95810033365981,144.95835211725716,144.95711228992306,144.97462603337192,144.98914561960956,144.95597291154732,144.9516456156554,144.96289064039783,144.9728681927225,144.95742367002572,144.9710903510331,144.95907567849682,144.97329950061658,144.9864994819283,144.9811300718097,144.96899309200785,144.92120214624708,144.9613602994948,144.96086516197207,144.9674314849563,144.9737500547471,144.93300087436626,144.9819933978598,144.9895883451337,144.95853617286218,144.96178185154704,144.94814414761515,144.93968394363523,144.93867544339312,144.94857703774954,144.95509583452778,144.94743232127033,144.94784460175248,144.94677586556904,144.9656354661326,144.97529598684116,144.95731390993367,144.9561581316964,144.96481860333185,144.96798262880156,144.97351022035613,144.96248755589187,144.96497427443845,144.95876361719613,144.95784744541746,144.97602632594266,144.94596175013578,144.9524037935695,144.95927620388548,144.9822479191366,144.9893651396818,144.97455597256268,144.95195121906374,144.95614515973526,144.9604387837448,144.94444540923737,144.9729725064801,144.9458979152028,144.95795162107945,144.97974924039954,144.96333488781306,144.94631148430935,144.97525101723335,144.9818752116282,144.94022636414627,144.98780797087488,144.92748799537,144.98028760027958,144.97480828490046,144.94499863439185,144.94623871568595,144.96625726738696,144.97441500371386,144.98846194018427,144.94942202189512,144.96474064639577,144.97088151714277,144.97930766744065,144.95516363088913,144.9457157068543,144.96867205549697,144.95608001707353,144.96291445189868,144.98415841802847,144.97460991921167,144.95693383266703,144.95845856770754,144.9713597632996,144.98519440513732,144.9676954116728,144.9353200519003,144.97390741685746,144.94568475071972,144.96650123578493,144.9652749895495,144.9818446766576,144.97137585501594,144.9463550796731,144.9748580731237,144.97142497161457,144.98943700589234,144.95074109216227,144.93712312052827,144.94552025867688,144.9598832324741,144.96325674629196,144.959023428021,144.95348688574168,144.9621553641654,144.9495713074953,144.95329784749006,144.9599290141054,144.9488841791515,144.9627224011874,144.9570697789935,144.9620121414134,144.9575550673043,144.95573219049146,144.95684243650064,144.96021096495184,144.95594714871783,144.95447001854785,144.94489254641078,144.95875527623377,144.95920566230896,144.97803487640942,144.96282736541934,144.95890588176607,144.9567707425709,144.95998495934393,144.9630775710097,144.94448303800934,144.96361244907823,144.94370641008916,144.9568618302912,144.9429617381598,144.94428942977808,144.96112367851669,144.96137008830607,144.96123162121168,144.95672642415596,144.95716625308532,144.95290084522694,144.95646357644566,144.96505353325873,144.95145240701342,144.95755333899038,144.95482356078998,144.95607704409193,144.95241552400122,144.97374940920977,144.97248496527163,144.97002873274852,144.95773128895834,144.95500240988994,144.93214126449095,144.96427548347162,144.97555748598796,144.9744047825231,144.9661530183228,144.9681877486605,144.97518045790557,144.96809839969052,144.95591823301424,144.94929672562014,144.9681349404292,144.98750964393156,144.9690026438727,144.97929391768668,144.9486670285728,144.96777229236187,144.98375397917218,144.9705668355572,144.97129279944812,144.9793110130821,144.92818456971318,144.9576382695195,144.9795848902807,144.97450968420816,144.94194689407496,144.93339278860944,144.9658946768523,144.96466021395796,144.96949904156185,144.96068634243073,144.97506547667868,144.9557572071218,144.95811426749205,144.98769984769424,144.9567757560453,144.9818865055325,144.96340401692726,144.98228168998386,144.94711029662162,144.97518111162668,144.94770963134457,144.9574151918185,144.9773718013231,144.9396645940791,144.94328982629995,144.97588201982407,144.96192170994019,144.93707308522303,144.96117631834483,144.95821002276574,144.96518026521514,144.98085349675213,144.9573786643474,144.98765040801862,144.95630954477627,144.96446155412997,144.9895960136667,144.95961897760927,144.97570988630025,144.94203103842247,144.98095863522258,144.91621911098724,144.95845148085021,144.96160258123743,144.94651122270577,144.9457632026112,144.9731646550359,144.96437717093502,144.9825845613688,144.9525929677729,144.98496543318322,144.94568886277878,144.9671921830254,144.9338010608367,144.95818932436018,144.96078602323263,144.9460257592082,144.97945313928983,144.96383733432276,144.98238425112226,144.97752523446368,144.95965319904246,144.92898094504977,144.9621411917084,144.98470771915652,144.96138494067623,144.940548851851,144.95552077688134,144.98220496426936,144.9669518791314,144.95612977306166,144.97616352878413,144.97891080936805,144.97824277798898,144.949982770774,144.97377104387752,144.95865538080767,144.9745918274829,144.97538920288665,144.95613839054587,144.946554132216,144.96440012585705,144.97181570865894,144.96677574678841,144.98561699858956,144.94100426330257,144.9508097389469,144.95304452841077,144.94761547599543,144.94847260605562,144.94989385334227,144.96580715957768,144.97516030030263,144.94696963574367,144.94060272347483,144.95884960788473,144.95662849417346,144.9605477353823,144.94546899909417,144.95220940378647,144.9652006627552,144.95861632323235,144.9802074379137,144.967613430905,144.97912030266835,144.96367983419916,144.96036014426844,144.98071814924762,144.94582236710576,144.9584692138485,144.97980869131104,144.95795702712462,144.98076047355661,144.9772216430405,144.9876048083877,144.96397501947504,144.9657616266592,144.97700763324107,144.9462902996838,144.98772644662947,144.95545558206467,144.97435872868658,144.94926371938732,144.94122312729874,144.9551874527131,144.96385724691575,144.95616176669097,144.96374276313628,144.95962461426132,144.95609293627774,144.9646100859291,144.96827668752198,144.96607019657966,144.9641669770584,144.98985020239883,144.97549565328927,144.96454558947093,144.94219890968904,144.96559383892665,144.95808986441952,144.95560475405637,144.9673744836894,144.9669851499758,144.9544879322871,144.96367788146514,144.96825729804402,144.94577103158204,144.94044983361835,144.95635137886265,144.9458264019424,144.96531089353564,144.9569769033873,144.96381915482954,144.94953464304706,144.95672500789257,144.96451133460377,144.9499833369015,144.95776402472558,144.9550118027703,144.95639184156065,144.95448013093005,144.96406077154464,144.95657245070635,144.9534983316748,144.96145921807386,144.94435529337918,144.96011897036195,144.94560441077888,144.9593879697377,144.9456681662414,144.97742202496974,144.9595724049466,144.94683529871264,144.9573121345535,144.95147639630133,144.96430289491465,144.9537009108251,144.94453564436728,144.94171854839792,144.96337349158475,144.95970046672045,144.96180678776324,144.95301008375637,144.96380562374847,144.95282272732535,144.96159769611134,144.9563215759282,144.97077233376172,144.95443273848633,144.95628855447504,144.96629674282005,144.9517437119392,144.9546274900651,144.9612426255413,144.9687686562151,144.95637244045514,144.95889705480184,144.96010158269797,144.97196740483838,144.96927428818776],\"marker\":{\"color\":\"#636efa\"},\"mode\":\"markers\",\"name\":\"\",\"showlegend\":false,\"subplot\":\"mapbox\",\"type\":\"scattermapbox\"}],                        {\"template\":{\"data\":{\"histogram2dcontour\":[{\"type\":\"histogram2dcontour\",\"colorbar\":{\"outlinewidth\":0,\"ticks\":\"\"},\"colorscale\":[[0.0,\"#0d0887\"],[0.1111111111111111,\"#46039f\"],[0.2222222222222222,\"#7201a8\"],[0.3333333333333333,\"#9c179e\"],[0.4444444444444444,\"#bd3786\"],[0.5555555555555556,\"#d8576b\"],[0.6666666666666666,\"#ed7953\"],[0.7777777777777778,\"#fb9f3a\"],[0.8888888888888888,\"#fdca26\"],[1.0,\"#f0f921\"]]}],\"choropleth\":[{\"type\":\"choropleth\",\"colorbar\":{\"outlinewidth\":0,\"ticks\":\"\"}}],\"histogram2d\":[{\"type\":\"histogram2d\",\"colorbar\":{\"outlinewidth\":0,\"ticks\":\"\"},\"colorscale\":[[0.0,\"#0d0887\"],[0.1111111111111111,\"#46039f\"],[0.2222222222222222,\"#7201a8\"],[0.3333333333333333,\"#9c179e\"],[0.4444444444444444,\"#bd3786\"],[0.5555555555555556,\"#d8576b\"],[0.6666666666666666,\"#ed7953\"],[0.7777777777777778,\"#fb9f3a\"],[0.8888888888888888,\"#fdca26\"],[1.0,\"#f0f921\"]]}],\"heatmap\":[{\"type\":\"heatmap\",\"colorbar\":{\"outlinewidth\":0,\"ticks\":\"\"},\"colorscale\":[[0.0,\"#0d0887\"],[0.1111111111111111,\"#46039f\"],[0.2222222222222222,\"#7201a8\"],[0.3333333333333333,\"#9c179e\"],[0.4444444444444444,\"#bd3786\"],[0.5555555555555556,\"#d8576b\"],[0.6666666666666666,\"#ed7953\"],[0.7777777777777778,\"#fb9f3a\"],[0.8888888888888888,\"#fdca26\"],[1.0,\"#f0f921\"]]}],\"heatmapgl\":[{\"type\":\"heatmapgl\",\"colorbar\":{\"outlinewidth\":0,\"ticks\":\"\"},\"colorscale\":[[0.0,\"#0d0887\"],[0.1111111111111111,\"#46039f\"],[0.2222222222222222,\"#7201a8\"],[0.3333333333333333,\"#9c179e\"],[0.4444444444444444,\"#bd3786\"],[0.5555555555555556,\"#d8576b\"],[0.6666666666666666,\"#ed7953\"],[0.7777777777777778,\"#fb9f3a\"],[0.8888888888888888,\"#fdca26\"],[1.0,\"#f0f921\"]]}],\"contourcarpet\":[{\"type\":\"contourcarpet\",\"colorbar\":{\"outlinewidth\":0,\"ticks\":\"\"}}],\"contour\":[{\"type\":\"contour\",\"colorbar\":{\"outlinewidth\":0,\"ticks\":\"\"},\"colorscale\":[[0.0,\"#0d0887\"],[0.1111111111111111,\"#46039f\"],[0.2222222222222222,\"#7201a8\"],[0.3333333333333333,\"#9c179e\"],[0.4444444444444444,\"#bd3786\"],[0.5555555555555556,\"#d8576b\"],[0.6666666666666666,\"#ed7953\"],[0.7777777777777778,\"#fb9f3a\"],[0.8888888888888888,\"#fdca26\"],[1.0,\"#f0f921\"]]}],\"surface\":[{\"type\":\"surface\",\"colorbar\":{\"outlinewidth\":0,\"ticks\":\"\"},\"colorscale\":[[0.0,\"#0d0887\"],[0.1111111111111111,\"#46039f\"],[0.2222222222222222,\"#7201a8\"],[0.3333333333333333,\"#9c179e\"],[0.4444444444444444,\"#bd3786\"],[0.5555555555555556,\"#d8576b\"],[0.6666666666666666,\"#ed7953\"],[0.7777777777777778,\"#fb9f3a\"],[0.8888888888888888,\"#fdca26\"],[1.0,\"#f0f921\"]]}],\"mesh3d\":[{\"type\":\"mesh3d\",\"colorbar\":{\"outlinewidth\":0,\"ticks\":\"\"}}],\"scatter\":[{\"fillpattern\":{\"fillmode\":\"overlay\",\"size\":10,\"solidity\":0.2},\"type\":\"scatter\"}],\"parcoords\":[{\"type\":\"parcoords\",\"line\":{\"colorbar\":{\"outlinewidth\":0,\"ticks\":\"\"}}}],\"scatterpolargl\":[{\"type\":\"scatterpolargl\",\"marker\":{\"colorbar\":{\"outlinewidth\":0,\"ticks\":\"\"}}}],\"bar\":[{\"error_x\":{\"color\":\"#2a3f5f\"},\"error_y\":{\"color\":\"#2a3f5f\"},\"marker\":{\"line\":{\"color\":\"#E5ECF6\",\"width\":0.5},\"pattern\":{\"fillmode\":\"overlay\",\"size\":10,\"solidity\":0.2}},\"type\":\"bar\"}],\"scattergeo\":[{\"type\":\"scattergeo\",\"marker\":{\"colorbar\":{\"outlinewidth\":0,\"ticks\":\"\"}}}],\"scatterpolar\":[{\"type\":\"scatterpolar\",\"marker\":{\"colorbar\":{\"outlinewidth\":0,\"ticks\":\"\"}}}],\"histogram\":[{\"marker\":{\"pattern\":{\"fillmode\":\"overlay\",\"size\":10,\"solidity\":0.2}},\"type\":\"histogram\"}],\"scattergl\":[{\"type\":\"scattergl\",\"marker\":{\"colorbar\":{\"outlinewidth\":0,\"ticks\":\"\"}}}],\"scatter3d\":[{\"type\":\"scatter3d\",\"line\":{\"colorbar\":{\"outlinewidth\":0,\"ticks\":\"\"}},\"marker\":{\"colorbar\":{\"outlinewidth\":0,\"ticks\":\"\"}}}],\"scattermapbox\":[{\"type\":\"scattermapbox\",\"marker\":{\"colorbar\":{\"outlinewidth\":0,\"ticks\":\"\"}}}],\"scatterternary\":[{\"type\":\"scatterternary\",\"marker\":{\"colorbar\":{\"outlinewidth\":0,\"ticks\":\"\"}}}],\"scattercarpet\":[{\"type\":\"scattercarpet\",\"marker\":{\"colorbar\":{\"outlinewidth\":0,\"ticks\":\"\"}}}],\"carpet\":[{\"aaxis\":{\"endlinecolor\":\"#2a3f5f\",\"gridcolor\":\"white\",\"linecolor\":\"white\",\"minorgridcolor\":\"white\",\"startlinecolor\":\"#2a3f5f\"},\"baxis\":{\"endlinecolor\":\"#2a3f5f\",\"gridcolor\":\"white\",\"linecolor\":\"white\",\"minorgridcolor\":\"white\",\"startlinecolor\":\"#2a3f5f\"},\"type\":\"carpet\"}],\"table\":[{\"cells\":{\"fill\":{\"color\":\"#EBF0F8\"},\"line\":{\"color\":\"white\"}},\"header\":{\"fill\":{\"color\":\"#C8D4E3\"},\"line\":{\"color\":\"white\"}},\"type\":\"table\"}],\"barpolar\":[{\"marker\":{\"line\":{\"color\":\"#E5ECF6\",\"width\":0.5},\"pattern\":{\"fillmode\":\"overlay\",\"size\":10,\"solidity\":0.2}},\"type\":\"barpolar\"}],\"pie\":[{\"automargin\":true,\"type\":\"pie\"}]},\"layout\":{\"autotypenumbers\":\"strict\",\"colorway\":[\"#636efa\",\"#EF553B\",\"#00cc96\",\"#ab63fa\",\"#FFA15A\",\"#19d3f3\",\"#FF6692\",\"#B6E880\",\"#FF97FF\",\"#FECB52\"],\"font\":{\"color\":\"#2a3f5f\"},\"hovermode\":\"closest\",\"hoverlabel\":{\"align\":\"left\"},\"paper_bgcolor\":\"white\",\"plot_bgcolor\":\"#E5ECF6\",\"polar\":{\"bgcolor\":\"#E5ECF6\",\"angularaxis\":{\"gridcolor\":\"white\",\"linecolor\":\"white\",\"ticks\":\"\"},\"radialaxis\":{\"gridcolor\":\"white\",\"linecolor\":\"white\",\"ticks\":\"\"}},\"ternary\":{\"bgcolor\":\"#E5ECF6\",\"aaxis\":{\"gridcolor\":\"white\",\"linecolor\":\"white\",\"ticks\":\"\"},\"baxis\":{\"gridcolor\":\"white\",\"linecolor\":\"white\",\"ticks\":\"\"},\"caxis\":{\"gridcolor\":\"white\",\"linecolor\":\"white\",\"ticks\":\"\"}},\"coloraxis\":{\"colorbar\":{\"outlinewidth\":0,\"ticks\":\"\"}},\"colorscale\":{\"sequential\":[[0.0,\"#0d0887\"],[0.1111111111111111,\"#46039f\"],[0.2222222222222222,\"#7201a8\"],[0.3333333333333333,\"#9c179e\"],[0.4444444444444444,\"#bd3786\"],[0.5555555555555556,\"#d8576b\"],[0.6666666666666666,\"#ed7953\"],[0.7777777777777778,\"#fb9f3a\"],[0.8888888888888888,\"#fdca26\"],[1.0,\"#f0f921\"]],\"sequentialminus\":[[0.0,\"#0d0887\"],[0.1111111111111111,\"#46039f\"],[0.2222222222222222,\"#7201a8\"],[0.3333333333333333,\"#9c179e\"],[0.4444444444444444,\"#bd3786\"],[0.5555555555555556,\"#d8576b\"],[0.6666666666666666,\"#ed7953\"],[0.7777777777777778,\"#fb9f3a\"],[0.8888888888888888,\"#fdca26\"],[1.0,\"#f0f921\"]],\"diverging\":[[0,\"#8e0152\"],[0.1,\"#c51b7d\"],[0.2,\"#de77ae\"],[0.3,\"#f1b6da\"],[0.4,\"#fde0ef\"],[0.5,\"#f7f7f7\"],[0.6,\"#e6f5d0\"],[0.7,\"#b8e186\"],[0.8,\"#7fbc41\"],[0.9,\"#4d9221\"],[1,\"#276419\"]]},\"xaxis\":{\"gridcolor\":\"white\",\"linecolor\":\"white\",\"ticks\":\"\",\"title\":{\"standoff\":15},\"zerolinecolor\":\"white\",\"automargin\":true,\"zerolinewidth\":2},\"yaxis\":{\"gridcolor\":\"white\",\"linecolor\":\"white\",\"ticks\":\"\",\"title\":{\"standoff\":15},\"zerolinecolor\":\"white\",\"automargin\":true,\"zerolinewidth\":2},\"scene\":{\"xaxis\":{\"backgroundcolor\":\"#E5ECF6\",\"gridcolor\":\"white\",\"linecolor\":\"white\",\"showbackground\":true,\"ticks\":\"\",\"zerolinecolor\":\"white\",\"gridwidth\":2},\"yaxis\":{\"backgroundcolor\":\"#E5ECF6\",\"gridcolor\":\"white\",\"linecolor\":\"white\",\"showbackground\":true,\"ticks\":\"\",\"zerolinecolor\":\"white\",\"gridwidth\":2},\"zaxis\":{\"backgroundcolor\":\"#E5ECF6\",\"gridcolor\":\"white\",\"linecolor\":\"white\",\"showbackground\":true,\"ticks\":\"\",\"zerolinecolor\":\"white\",\"gridwidth\":2}},\"shapedefaults\":{\"line\":{\"color\":\"#2a3f5f\"}},\"annotationdefaults\":{\"arrowcolor\":\"#2a3f5f\",\"arrowhead\":0,\"arrowwidth\":1},\"geo\":{\"bgcolor\":\"white\",\"landcolor\":\"#E5ECF6\",\"subunitcolor\":\"white\",\"showland\":true,\"showlakes\":true,\"lakecolor\":\"white\"},\"title\":{\"x\":0.05},\"mapbox\":{\"style\":\"light\"}}},\"mapbox\":{\"domain\":{\"x\":[0.0,1.0],\"y\":[0.0,1.0]},\"center\":{\"lat\":-37.811598449785734,\"lon\":144.96153323678016},\"zoom\":12,\"style\":\"carto-positron\"},\"legend\":{\"tracegroupgap\":0},\"title\":{\"text\":\"Melbourne Tram System\"},\"width\":600,\"height\":600},                        {\"responsive\": true}                    ).then(function(){\n",
       "                            \n",
       "var gd = document.getElementById('793dfdbe-2fdb-48e0-926e-3f74aec0df08');\n",
       "var x = new MutationObserver(function (mutations, observer) {{\n",
       "        var display = window.getComputedStyle(gd).display;\n",
       "        if (!display || display === 'none') {{\n",
       "            console.log([gd, 'removed!']);\n",
       "            Plotly.purge(gd);\n",
       "            observer.disconnect();\n",
       "        }}\n",
       "}});\n",
       "\n",
       "// Listen for the removal of the full notebook cells\n",
       "var notebookContainer = gd.closest('#notebook-container');\n",
       "if (notebookContainer) {{\n",
       "    x.observe(notebookContainer, {childList: true});\n",
       "}}\n",
       "\n",
       "// Listen for the clearing of the current output cell\n",
       "var outputEl = gd.closest('.output');\n",
       "if (outputEl) {{\n",
       "    x.observe(outputEl, {childList: true});\n",
       "}}\n",
       "\n",
       "                        })                };                });            </script>        </div>"
      ]
     },
     "metadata": {},
     "output_type": "display_data"
    }
   ],
   "source": [
    "# Extracting centroids from MultiPolygon geometries\n",
    "gdf['centroid'] = gdf['geometry'].centroid\n",
    "\n",
    "fig = px.scatter_mapbox(gdf, \n",
    "                        lat=gdf['centroid'].y, \n",
    "                        lon=gdf['centroid'].x,\n",
    "                        hover_name='name',\n",
    "                        mapbox_style=\"carto-positron\",\n",
    "                        zoom=12,\n",
    "                        title=\"Melbourne Tram System\")\n",
    "fig.update_layout(\n",
    "    width=600,  \n",
    "    height=600, \n",
    ")\n",
    "\n",
    "fig.show()"
   ]
  },
  {
   "cell_type": "markdown",
   "id": "ecb5b033",
   "metadata": {},
   "source": [
    "I can plot the above map as lines but it takes up a lot of my computer's processing power. This dotted map gives us a good visualisation and does not use too much processing power. "
   ]
  },
  {
   "cell_type": "markdown",
   "id": "eec47021",
   "metadata": {},
   "source": [
    "#### Section 3.8: Passenger Numbers by Day of the Week"
   ]
  },
  {
   "cell_type": "code",
   "execution_count": 67,
   "id": "7361f9bd",
   "metadata": {},
   "outputs": [
    {
     "name": "stdout",
     "output_type": "stream",
     "text": [
      "   _id  Year  Month Month_name Day_of_week                Day_type  Mode  \\\n",
      "0    5  2018      1        Jan      Friday  School Holiday Weekday  Tram   \n",
      "1   10  2018      1        Jan      Monday          Normal Weekday  Tram   \n",
      "2   15  2018      1        Jan      Monday  School Holiday Weekday  Tram   \n",
      "3   20  2018      1        Jan    Saturday                 Weekend  Tram   \n",
      "4   25  2018      1        Jan      Sunday                 Weekend  Tram   \n",
      "\n",
      "   Pax_daily  \n",
      "0     529250  \n",
      "1     534800  \n",
      "2     562150  \n",
      "3     393050  \n",
      "4     325900  \n",
      "227616000\n",
      "[2018 2019 2020 2021 2022 2023]\n",
      "['Tram']\n",
      "['Friday' 'Monday' 'Saturday' 'Sunday' 'Thursday' 'Tuesday' 'Wednesday']\n"
     ]
    }
   ],
   "source": [
    "# Read CSV file (no. of Passengers)\n",
    "Mel_df = pd.read_csv('DS10) Melbourne Tram Users.csv')\n",
    "\n",
    "print(Mel_df.head())\n",
    "print(Mel_df['Pax_daily'].sum())\n",
    "print(Mel_df['Year'].unique())\n",
    "print(Mel_df['Mode'].unique())\n",
    "print(Mel_df['Day_of_week'].unique())"
   ]
  },
  {
   "cell_type": "code",
   "execution_count": 68,
   "id": "521447d3",
   "metadata": {},
   "outputs": [
    {
     "name": "stdout",
     "output_type": "stream",
     "text": [
      "Monday       95\n",
      "Thursday     95\n",
      "Tuesday      94\n",
      "Wednesday    94\n",
      "Friday       91\n",
      "Saturday     66\n",
      "Sunday       66\n",
      "Name: Day_of_week, dtype: int64\n"
     ]
    }
   ],
   "source": [
    "day_of_week_counts = Mel_df['Day_of_week'].value_counts()\n",
    "print(day_of_week_counts)"
   ]
  },
  {
   "cell_type": "code",
   "execution_count": 69,
   "id": "c638d687",
   "metadata": {},
   "outputs": [
    {
     "data": {
      "text/html": [
       "<div>\n",
       "<style scoped>\n",
       "    .dataframe tbody tr th:only-of-type {\n",
       "        vertical-align: middle;\n",
       "    }\n",
       "\n",
       "    .dataframe tbody tr th {\n",
       "        vertical-align: top;\n",
       "    }\n",
       "\n",
       "    .dataframe thead th {\n",
       "        text-align: right;\n",
       "    }\n",
       "</style>\n",
       "<table border=\"1\" class=\"dataframe\">\n",
       "  <thead>\n",
       "    <tr style=\"text-align: right;\">\n",
       "      <th></th>\n",
       "      <th>Day_of_week</th>\n",
       "      <th>Pax_daily</th>\n",
       "    </tr>\n",
       "  </thead>\n",
       "  <tbody>\n",
       "    <tr>\n",
       "      <th>0</th>\n",
       "      <td>Monday</td>\n",
       "      <td>379535.789474</td>\n",
       "    </tr>\n",
       "    <tr>\n",
       "      <th>1</th>\n",
       "      <td>Tuesday</td>\n",
       "      <td>409850.531915</td>\n",
       "    </tr>\n",
       "    <tr>\n",
       "      <th>2</th>\n",
       "      <td>Wednesday</td>\n",
       "      <td>424788.829787</td>\n",
       "    </tr>\n",
       "    <tr>\n",
       "      <th>3</th>\n",
       "      <td>Thursday</td>\n",
       "      <td>415896.315789</td>\n",
       "    </tr>\n",
       "    <tr>\n",
       "      <th>4</th>\n",
       "      <td>Friday</td>\n",
       "      <td>414045.604396</td>\n",
       "    </tr>\n",
       "    <tr>\n",
       "      <th>5</th>\n",
       "      <td>Saturday</td>\n",
       "      <td>309140.151515</td>\n",
       "    </tr>\n",
       "    <tr>\n",
       "      <th>6</th>\n",
       "      <td>Sunday</td>\n",
       "      <td>235037.121212</td>\n",
       "    </tr>\n",
       "  </tbody>\n",
       "</table>\n",
       "</div>"
      ],
      "text/plain": [
       "  Day_of_week      Pax_daily\n",
       "0      Monday  379535.789474\n",
       "1     Tuesday  409850.531915\n",
       "2   Wednesday  424788.829787\n",
       "3    Thursday  415896.315789\n",
       "4      Friday  414045.604396\n",
       "5    Saturday  309140.151515\n",
       "6      Sunday  235037.121212"
      ]
     },
     "execution_count": 69,
     "metadata": {},
     "output_type": "execute_result"
    }
   ],
   "source": [
    "# Reordering\n",
    "days_order = ['Monday', 'Tuesday', 'Wednesday', 'Thursday', 'Friday', 'Saturday', 'Sunday']\n",
    "Mel_df['Day_of_week'] = pd.Categorical(Mel_df['Day_of_week'], categories=days_order, ordered=True)\n",
    "\n",
    "# Calculate average passenger number per day of the week\n",
    "Mel_day = Mel_df.groupby('Day_of_week')['Pax_daily'].mean().reset_index()\n",
    "\n",
    "# Display the new DataFrame\n",
    "Mel_day"
   ]
  },
  {
   "cell_type": "code",
   "execution_count": 70,
   "id": "2ec06618",
   "metadata": {},
   "outputs": [
    {
     "name": "stdout",
     "output_type": "stream",
     "text": [
      "  Day_of_week      Pax_daily  Percentage\n",
      "0      Monday  379535.789474   14.663548\n",
      "1     Tuesday  409850.531915   15.834773\n",
      "2   Wednesday  424788.829787   16.411921\n",
      "3    Thursday  415896.315789   16.068355\n",
      "4      Friday  414045.604396   15.996852\n",
      "5    Saturday  309140.151515   11.943779\n",
      "6      Sunday  235037.121212    9.080773\n",
      "99.99999999999999\n"
     ]
    }
   ],
   "source": [
    "# Adding a Percentage Column\n",
    "total_passengers = Mel_day['Pax_daily'].sum()\n",
    "Mel_day['Percentage'] = (Mel_day['Pax_daily'] / total_passengers) * 100\n",
    "\n",
    "print(Mel_day)\n",
    "print(Mel_day['Percentage'].sum())"
   ]
  },
  {
   "cell_type": "markdown",
   "id": "c73f4681",
   "metadata": {},
   "source": [
    "Now I will get similar statistics for Dublin's Luas system"
   ]
  },
  {
   "cell_type": "code",
   "execution_count": 72,
   "id": "3ae95df7",
   "metadata": {},
   "outputs": [
    {
     "name": "stdout",
     "output_type": "stream",
     "text": [
      "   STATISTIC     Statistic Label  TLIST(A1)  Year C02639V03196 Days of Week  \\\n",
      "80  TOA02C03  Average Total Flow       2018  2018            -     All days   \n",
      "81  TOA02C03  Average Total Flow       2018  2018            1       Sunday   \n",
      "82  TOA02C03  Average Total Flow       2018  2018            2       Monday   \n",
      "83  TOA02C03  Average Total Flow       2018  2018            3      Tuesday   \n",
      "84  TOA02C03  Average Total Flow       2018  2018            4    Wednesday   \n",
      "\n",
      "      UNIT   VALUE  \n",
      "80  Number  804557  \n",
      "81  Number   62955  \n",
      "82  Number  117267  \n",
      "83  Number  127090  \n",
      "84  Number  130399  \n",
      "['All days' 'Sunday' 'Monday' 'Tuesday' 'Wednesday' 'Thursday' 'Friday'\n",
      " 'Saturday']\n"
     ]
    }
   ],
   "source": [
    "# Read Dublin Data\n",
    "Dub_df = pd.read_csv('DS11) TOA02 - Average weekly flow of Luas passengers.csv')\n",
    "Dub_df = Dub_df[Dub_df['Statistic Label'] == 'Average Total Flow']\n",
    "\n",
    "print(Dub_df.head())\n",
    "print(Dub_df['Days of Week'].unique())"
   ]
  },
  {
   "cell_type": "code",
   "execution_count": 73,
   "id": "f3143d75",
   "metadata": {},
   "outputs": [],
   "source": [
    "# Group by 'Days of Week' and calculate the mean of 'VALUE'\n",
    "Dub_day = Dub_df.groupby('Days of Week')['VALUE'].mean().reset_index()\n",
    "\n",
    "# Rename \n",
    "Dub_day.columns = ['Day_of_week', 'Average_Passengers']\n",
    "Dub_day = Dub_day[Dub_day['Day_of_week'] != 'All days']\n",
    "\n",
    "# Display\n",
    "#Dub_day"
   ]
  },
  {
   "cell_type": "code",
   "execution_count": 74,
   "id": "0c723449",
   "metadata": {},
   "outputs": [
    {
     "name": "stdout",
     "output_type": "stream",
     "text": [
      "  Day_of_week  Average_Passengers  Percentage\n",
      "1      Friday            110272.8   17.152846\n",
      "2      Monday             91871.4   14.290523\n",
      "3    Saturday             74853.0   11.643324\n",
      "4      Sunday             53082.6    8.256956\n",
      "5    Thursday            108133.4   16.820064\n",
      "6     Tuesday            100932.0   15.699892\n",
      "7   Wednesday            103738.2   16.136394\n",
      "100.00000000000001\n"
     ]
    }
   ],
   "source": [
    "# Assuming 'Dub_day' is your DataFrame\n",
    "total_passengers = Dub_day['Average_Passengers'].sum()\n",
    "\n",
    "Dub_day['Percentage'] = (Dub_day['Average_Passengers'] / total_passengers) * 100\n",
    "\n",
    "print(Dub_day)\n",
    "print(Dub_day['Percentage'].sum())"
   ]
  },
  {
   "cell_type": "code",
   "execution_count": 75,
   "id": "1a3a79a1",
   "metadata": {},
   "outputs": [
    {
     "name": "stdout",
     "output_type": "stream",
     "text": [
      "  Day_of_week      Melbourne  Melbourne %    Dublin   Dublin %\n",
      "0      Monday  379535.789474    14.663548   91871.4  14.290523\n",
      "1     Tuesday  409850.531915    15.834773  100932.0  15.699892\n",
      "2   Wednesday  424788.829787    16.411921  103738.2  16.136394\n",
      "3    Thursday  415896.315789    16.068355  108133.4  16.820064\n",
      "4      Friday  414045.604396    15.996852  110272.8  17.152846\n",
      "5    Saturday  309140.151515    11.943779   74853.0  11.643324\n",
      "6      Sunday  235037.121212     9.080773   53082.6   8.256956\n"
     ]
    }
   ],
   "source": [
    "# Merging the DataFrames on 'Day_of_week'\n",
    "Day_df = pd.merge(Mel_day, Dub_day, on='Day_of_week', how='left')\n",
    "Day_df.columns = ['Day_of_week', 'Melbourne', 'Melbourne %', 'Dublin','Dublin %']\n",
    "\n",
    "print(Day_df)"
   ]
  },
  {
   "cell_type": "markdown",
   "id": "7bb26a16",
   "metadata": {},
   "source": [
    "We can also try to normalise the data by dividing by number of kilometres of tramline. Interestingly Dublin has more passengers per km now. "
   ]
  },
  {
   "cell_type": "code",
   "execution_count": 76,
   "id": "a876f893",
   "metadata": {},
   "outputs": [],
   "source": [
    "# Normalizing Melbourne by dividing by 250\n",
    "#Day_df['Melbourne'] = Day_df['Melbourne'] / 250\n",
    "\n",
    "# Normalizing Dublin by dividing by 44.5\n",
    "#Day_df['Dublin'] = Day_df['Dublin'] / 44.5\n",
    "\n",
    "#print(Day_df)"
   ]
  },
  {
   "cell_type": "code",
   "execution_count": 77,
   "id": "64ad1701",
   "metadata": {},
   "outputs": [
    {
     "data": {
      "image/png": "[encoded data removed]",
      "text/plain": [
       "<Figure size 1000x600 with 1 Axes>"
      ]
     },
     "metadata": {},
     "output_type": "display_data"
    }
   ],
   "source": [
    "# Set the plotting style\n",
    "sns.set(style=\"whitegrid\")\n",
    "\n",
    "# Define a color palette\n",
    "custom_palette = {'Melbourne %': 'red', 'Dublin %': 'skyblue'}\n",
    "\n",
    "# Reshape the DataFrame for Seaborn\n",
    "melted_df = pd.melt(Day_df, id_vars=['Day_of_week'], value_vars=['Melbourne %', 'Dublin %'])\n",
    "\n",
    "# Create a bar plot with custom colors\n",
    "plt.figure(figsize=(10, 6))\n",
    "sns.barplot(x='Day_of_week', y='value', hue='variable', data=melted_df, palette=custom_palette)\n",
    "\n",
    "# Set the title and labels\n",
    "plt.title('Percentage of Passengers by Day of the Week', size = 14)\n",
    "plt.xlabel('Day of the Week')\n",
    "plt.ylabel('Percentage')\n",
    "\n",
    "# Show the plot\n",
    "plt.show()"
   ]
  },
  {
   "cell_type": "markdown",
   "id": "2d6000bc",
   "metadata": {},
   "source": [
    "Mann-Whitney Test: \n",
    "- Null Hypothesis: There is no significant difference in the average number of passengers between Melbourne and Dublin for each day of the week.\n",
    "- Alternative Hypothesis: There is a significant difference in the average number of passengers between Melbourne and Dublin for each day of the week."
   ]
  },
  {
   "cell_type": "code",
   "execution_count": 78,
   "id": "37640309",
   "metadata": {},
   "outputs": [
    {
     "name": "stdout",
     "output_type": "stream",
     "text": [
      "Monday: p-value = 0.9015151515151516\n",
      "Tuesday: p-value = 0.9015151515151516\n",
      "Wednesday: p-value = 0.9015151515151516\n",
      "Thursday: p-value = 0.9015151515151516\n",
      "Friday: p-value = 0.9015151515151516\n",
      "Saturday: p-value = 0.9015151515151516\n",
      "Sunday: p-value = 0.9015151515151516\n"
     ]
    }
   ],
   "source": [
    "# Define dfs\n",
    "melbourne_passengers = Day_df['Melbourne %']\n",
    "dublin_passengers = Day_df['Dublin %']\n",
    "\n",
    "# Perform Mann-Whitney U test for each day\n",
    "for day in Day_df['Day_of_week']:\n",
    "    _, p_value = mannwhitneyu(melbourne_passengers, dublin_passengers)\n",
    "    print(f\"{day}: p-value = {p_value}\")"
   ]
  },
  {
   "cell_type": "markdown",
   "id": "e653092c",
   "metadata": {},
   "source": [
    "The p-values are consistently high across all days of the week, which suggests that there is no significant difference between the Melbourne and Dublin tram lines for each day. The high p-values indicate that we fail to reject the null hypothesis that the distributions are the same. However, it is important to note the small scale of the data. "
   ]
  },
  {
   "cell_type": "markdown",
   "id": "fd7773c7",
   "metadata": {},
   "source": [
    "#### Section 3.9: Recent Trends in Passenger Numbers"
   ]
  },
  {
   "cell_type": "code",
   "execution_count": 80,
   "id": "dbdadbe3",
   "metadata": {},
   "outputs": [],
   "source": [
    "# Read CSV file (no. of Passengers)\n",
    "Mel_df = pd.read_csv('DS12) Monthly public transport patronage by mode.csv')\n",
    "#Mel_df"
   ]
  },
  {
   "cell_type": "code",
   "execution_count": 81,
   "id": "5fcf75d4",
   "metadata": {},
   "outputs": [
    {
     "name": "stdout",
     "output_type": "stream",
     "text": [
      "[ 1  2  3  4  5  6  7  8  9 10 11 12]\n",
      "[2018 2019 2020 2021 2022 2023]\n",
      "740560374\n"
     ]
    }
   ],
   "source": [
    "# Grouping by Year and Month and summing up Pax_daily\n",
    "Mel_Month = Mel_df.groupby(['Year', 'Month'])['Metropolitan tram'].sum().reset_index()\n",
    "Mel_Month = Mel_Month.rename(columns={'Metropolitan tram': 'Melbourne'})\n",
    "Mel_Month['Melbourne'] = pd.to_numeric(Mel_Month['Melbourne'].str.replace(',', ''))\n",
    "\n",
    "# Display \n",
    "#print(Mel_Month)\n",
    "print(Mel_Month['Month'].unique())\n",
    "print(Mel_Month['Year'].unique())\n",
    "print(Mel_Month['Melbourne'].sum())"
   ]
  },
  {
   "cell_type": "code",
   "execution_count": 82,
   "id": "e422c543",
   "metadata": {},
   "outputs": [
    {
     "name": "stdout",
     "output_type": "stream",
     "text": [
      "['Red line' 'Green line' 'All Luas lines']\n",
      "['01' '02' '03' '04' '05' '06' '07' '08' '09' '10' '11' '12' '-']\n",
      "[2018 2019 2020 2021 2022]\n"
     ]
    }
   ],
   "source": [
    "Dub_Month = pd.read_csv('D6) TOA11 - Luas Passenger Numbers.csv')\n",
    "\n",
    "#print(Dub_Month)\n",
    "print(Dub_Month['Statistic Label'].unique())\n",
    "print(Dub_Month['C01885V02316'].unique())\n",
    "print(Dub_Month['Year'].unique())"
   ]
  },
  {
   "cell_type": "code",
   "execution_count": 83,
   "id": "8d5268d5",
   "metadata": {
    "scrolled": false
   },
   "outputs": [
    {
     "name": "stdout",
     "output_type": "stream",
     "text": [
      "['All Luas lines']\n",
      "['01' '02' '03' '04' '05' '06' '07' '08' '09' '10' '11' '12']\n",
      "[2018 2019 2020 2021 2022]\n",
      "['01' '02' '03' '04' '05' '06' '07' '08' '09' '10' '11' '12']\n"
     ]
    }
   ],
   "source": [
    "# Filter & Tidy df\n",
    "Dub_Month = Dub_Month[(Dub_Month['Statistic Label'] == 'All Luas lines') & \n",
    "                      (Dub_Month['C01885V02316'] != '-')]\n",
    "\n",
    "print(Dub_Month['Statistic Label'].unique())\n",
    "\n",
    "Dub_Month = Dub_Month[['Year', 'C01885V02316', 'VALUE']]\n",
    "Dub_Month = Dub_Month.rename(columns={'C01885V02316': 'Month', 'VALUE': 'Dublin'})\n",
    "\n",
    "#print(Dub_Month.head())\n",
    "print(Dub_Month['Month'].unique())\n",
    "print(Dub_Month['Year'].unique())\n",
    "print(Dub_Month['Month'].unique())"
   ]
  },
  {
   "cell_type": "code",
   "execution_count": 84,
   "id": "6a650fde",
   "metadata": {},
   "outputs": [],
   "source": [
    "# Convert 'Year' and 'Month' columns to the same data type in both dfs\n",
    "Mel_Month['Year'] = Mel_Month['Year'].astype(str)\n",
    "Mel_Month['Month'] = Mel_Month['Month'].astype(str)\n",
    "Dub_Month['Year'] = Dub_Month['Year'].astype(str)\n",
    "Dub_Month['Month'] = Dub_Month['Month'].astype(str)\n",
    "\n",
    "# Adjust the format in Melbourne DataFrame\n",
    "Mel_Month['Month'] = Mel_Month['Month'].apply(lambda x: x.zfill(2))\n",
    "\n",
    "# Merge Melbourne and Dublin DataFrames\n",
    "Month_df = pd.merge(Mel_Month, Dub_Month, on=['Year', 'Month'], how='inner')\n",
    "\n",
    "# Display the merged DataFrame\n",
    "#print(Month_df)"
   ]
  },
  {
   "cell_type": "code",
   "execution_count": 85,
   "id": "cedc9c8c",
   "metadata": {},
   "outputs": [
    {
     "data": {
      "image/png": "[encoded data removed]",
      "text/plain": [
       "<Figure size 1200x600 with 1 Axes>"
      ]
     },
     "metadata": {},
     "output_type": "display_data"
    }
   ],
   "source": [
    "# Plotting \n",
    "plt.figure(figsize=(12, 6))\n",
    "plt.plot(Month_df['Year'].astype(str) + '-' + Month_df['Month'].astype(str), Month_df['Melbourne'], label='Melbourne', color='red')\n",
    "plt.plot(Month_df['Year'].astype(str) + '-' + Month_df['Month'].astype(str), Month_df['Dublin'], label='Dublin',color='skyblue')\n",
    "\n",
    "# Adding labels and title\n",
    "plt.xlabel('Date (Year-Month)')\n",
    "plt.ylabel('Passenger Count')\n",
    "plt.title('Monthly Passenger Numbers', size = 14)\n",
    "plt.legend()\n",
    "\n",
    "# Customise the axis\n",
    "ticks = range(0, len(Month_df), 2)\n",
    "plt.xticks(ticks, Month_df['Year'].astype(str).iloc[ticks] \n",
    "           + '-' + Month_df['Month'].astype(str).iloc[ticks], rotation=45, ha='right')\n",
    "\n",
    "# Show plot\n",
    "plt.tight_layout()\n",
    "plt.show()"
   ]
  },
  {
   "cell_type": "markdown",
   "id": "74316cea",
   "metadata": {},
   "source": [
    "This is a good visualisation but it doesnt take the differing scales into account. So I will replot with differnet scales for each of our datasets. "
   ]
  },
  {
   "cell_type": "code",
   "execution_count": 86,
   "id": "8ce462a0",
   "metadata": {},
   "outputs": [
    {
     "data": {
      "image/png": "[encoded data removed]",
      "text/plain": [
       "<Figure size 1200x600 with 2 Axes>"
      ]
     },
     "metadata": {},
     "output_type": "display_data"
    }
   ],
   "source": [
    "# Create a figure and axis\n",
    "fig, ax1 = plt.subplots(figsize=(12, 6))\n",
    "\n",
    "# Plot Melbourne data \n",
    "ax1.plot(Month_df['Year'].astype(str) + '-' + Month_df['Month'].astype(str), Month_df['Melbourne'], label='Melbourne', color='red')\n",
    "ax1.set_xlabel('Date (Year-Month)')\n",
    "ax1.set_ylabel('Melbourne Passenger Count', color='red')\n",
    "ax1.tick_params(axis='y', labelcolor='red')\n",
    "ax1.set_title('Monthly Passenger Numbers', size=14)\n",
    "\n",
    "# Create a twin axis for Dublin \n",
    "ax2 = ax1.twinx()\n",
    "ax2.plot(Month_df['Year'].astype(str) + '-' + Month_df['Month'].astype(str), Month_df['Dublin'], label='Dublin', color='skyblue')\n",
    "ax2.set_ylabel('Dublin Passenger Count', color='skyblue')\n",
    "ax2.tick_params(axis='y', labelcolor='skyblue')\n",
    "\n",
    "# Customize x-axis ticks to show every 3 months\n",
    "ticks = range(0, len(Month_df), 2)\n",
    "ax1.set_xticks(ticks)\n",
    "ax1.set_xticklabels(Month_df['Year'].astype(str).iloc[ticks] + '-' + Month_df['Month'].astype(str).iloc[ticks], rotation=45, ha='right')\n",
    "\n",
    "# Show the plot\n",
    "ax2.grid(False)\n",
    "fig.tight_layout()\n",
    "plt.show()"
   ]
  },
  {
   "cell_type": "markdown",
   "id": "04a4e63f",
   "metadata": {},
   "source": [
    "T-test\n",
    "\n",
    "- Null Hypothesis: The mean passenger numbers in Melbourne and Dublin are equal.\n",
    "- Alternative Hypothesis: The mean passenger numbers in Melbourne and Dublin are not equal."
   ]
  },
  {
   "cell_type": "code",
   "execution_count": 87,
   "id": "dd907ad5",
   "metadata": {},
   "outputs": [
    {
     "name": "stdout",
     "output_type": "stream",
     "text": [
      "T-test for Melbourne vs Dublin:\n",
      "T-statistic: 13.400693540136555\n",
      "P-value: 1.4929972747501846e-19\n"
     ]
    }
   ],
   "source": [
    "# Extracting data\n",
    "melbourne = Month_df[['Year', 'Month', 'Melbourne']]\n",
    "dublin = Month_df[['Year', 'Month', 'Dublin']]\n",
    "\n",
    "# Performing t-test\n",
    "t_statistic, p_value = stats.ttest_rel(melbourne['Melbourne'], dublin['Dublin'])\n",
    "\n",
    "# Displaying t-test result\n",
    "print(\"T-test for Melbourne vs Dublin:\")\n",
    "print(\"T-statistic:\", t_statistic)\n",
    "print(\"P-value:\", p_value)"
   ]
  },
  {
   "cell_type": "markdown",
   "id": "3d810279",
   "metadata": {},
   "source": [
    "With a p-value of 0.001 (less than the typical significance level of 0.05), we reject the null hypothesis and conclude that there is a significant difference in mean passenger numbers between Melbourne and Dublin."
   ]
  },
  {
   "cell_type": "markdown",
   "id": "336d3e62",
   "metadata": {},
   "source": [
    "I also wanted to try a Kolmogorov-Smirnov test, which used to determine if two datasets are likely to come from the same underlying probability distribution."
   ]
  },
  {
   "cell_type": "code",
   "execution_count": 88,
   "id": "0a05efad",
   "metadata": {},
   "outputs": [
    {
     "name": "stdout",
     "output_type": "stream",
     "text": [
      "Reject the null hypothesis. The datasets do not follow the same pattern.\n"
     ]
    }
   ],
   "source": [
    "# Perform Kolmogorov-Smirnov test\n",
    "statistic, p_value = stats.ks_2samp(melbourne['Melbourne'], dublin['Dublin'])\n",
    "\n",
    "# Choose significance level\n",
    "alpha = 0.05\n",
    "if p_value < alpha:\n",
    "    print(\"Reject the null hypothesis. The datasets do not follow the same pattern.\")\n",
    "else:\n",
    "    print(\"Fail to reject the null hypothesis. The datasets follow the same pattern.\")"
   ]
  },
  {
   "cell_type": "markdown",
   "id": "0e787349",
   "metadata": {},
   "source": [
    "#### Section 3.10: Average Passengers by Month"
   ]
  },
  {
   "cell_type": "code",
   "execution_count": 90,
   "id": "5bef0ab2",
   "metadata": {},
   "outputs": [],
   "source": [
    "Mel_df = pd.read_csv('DS10) Melbourne Tram Users.csv')"
   ]
  },
  {
   "cell_type": "code",
   "execution_count": 91,
   "id": "743d31bd",
   "metadata": {},
   "outputs": [
    {
     "name": "stdout",
     "output_type": "stream",
     "text": [
      "['Jan' 'Feb' 'Mar' 'Apr' 'May' 'Jun' 'Jul' 'Aug' 'Sep' 'Oct' 'Nov' 'Dec']\n",
      "   Month_name      Pax_daily\n",
      "0         Apr  410209.027778\n",
      "1         Aug  335241.428571\n",
      "2         Dec  364354.716981\n",
      "3         Feb  443267.857143\n",
      "4         Jan  395848.181818\n",
      "5         Jul  358968.333333\n",
      "6         Jun  334890.178571\n",
      "7         Mar  432786.170213\n",
      "8         May  377134.523810\n",
      "9         Nov  382328.571429\n",
      "10        Oct  382588.297872\n",
      "11        Sep  330036.842105\n"
     ]
    }
   ],
   "source": [
    "# Data for Melbourne\n",
    "#print(Mel_df.head())\n",
    "print(Mel_df['Month_name'].unique())\n",
    "\n",
    "Mel_Month = Mel_df.groupby('Month_name')['Pax_daily'].mean().reset_index()\n",
    "print(Mel_Month)"
   ]
  },
  {
   "cell_type": "code",
   "execution_count": 92,
   "id": "05f0b7cf",
   "metadata": {},
   "outputs": [],
   "source": [
    "Dub_df = pd.read_csv('D6) TOA11 - Luas Passenger Numbers.csv')\n",
    "Dub_df = Dub_df[Dub_df['Statistic Label'] == 'All Luas lines']\n",
    "\n",
    "#Dub_df"
   ]
  },
  {
   "cell_type": "code",
   "execution_count": 93,
   "id": "dd53d49d",
   "metadata": {},
   "outputs": [
    {
     "name": "stdout",
     "output_type": "stream",
     "text": [
      "   Month      VALUE\n",
      "1    Apr  2213024.2\n",
      "2    Aug  2757950.0\n",
      "3    Dec  3187709.8\n",
      "4    Feb  2698388.8\n",
      "5    Jan  2623058.0\n",
      "6    Jul  2799725.8\n",
      "7    Jun  2557865.8\n",
      "8    Mar  2526392.0\n",
      "9    May  2482662.2\n",
      "10   Nov  3312108.4\n",
      "11   Oct  3298511.2\n",
      "12   Sep  3044493.8\n"
     ]
    }
   ],
   "source": [
    "Dub_Month = Dub_df.groupby('Month')['VALUE'].mean().reset_index()\n",
    "Dub_Month = Dub_Month[Dub_Month['Month'] != 'All months']\n",
    "Dub_Month['Month'] = Dub_Month['Month'].str[:3]\n",
    "\n",
    "# Display the merged DataFrame\n",
    "print(Dub_Month)"
   ]
  },
  {
   "cell_type": "code",
   "execution_count": 94,
   "id": "95a0e175",
   "metadata": {},
   "outputs": [
    {
     "data": {
      "text/html": [
       "<div>\n",
       "<style scoped>\n",
       "    .dataframe tbody tr th:only-of-type {\n",
       "        vertical-align: middle;\n",
       "    }\n",
       "\n",
       "    .dataframe tbody tr th {\n",
       "        vertical-align: top;\n",
       "    }\n",
       "\n",
       "    .dataframe thead th {\n",
       "        text-align: right;\n",
       "    }\n",
       "</style>\n",
       "<table border=\"1\" class=\"dataframe\">\n",
       "  <thead>\n",
       "    <tr style=\"text-align: right;\">\n",
       "      <th></th>\n",
       "      <th>Month</th>\n",
       "      <th>Dublin</th>\n",
       "      <th>Melbourne</th>\n",
       "    </tr>\n",
       "  </thead>\n",
       "  <tbody>\n",
       "    <tr>\n",
       "      <th>0</th>\n",
       "      <td>Apr</td>\n",
       "      <td>2213024.2</td>\n",
       "      <td>410209.027778</td>\n",
       "    </tr>\n",
       "    <tr>\n",
       "      <th>1</th>\n",
       "      <td>Aug</td>\n",
       "      <td>2757950.0</td>\n",
       "      <td>335241.428571</td>\n",
       "    </tr>\n",
       "    <tr>\n",
       "      <th>2</th>\n",
       "      <td>Dec</td>\n",
       "      <td>3187709.8</td>\n",
       "      <td>364354.716981</td>\n",
       "    </tr>\n",
       "    <tr>\n",
       "      <th>3</th>\n",
       "      <td>Feb</td>\n",
       "      <td>2698388.8</td>\n",
       "      <td>443267.857143</td>\n",
       "    </tr>\n",
       "    <tr>\n",
       "      <th>4</th>\n",
       "      <td>Jan</td>\n",
       "      <td>2623058.0</td>\n",
       "      <td>395848.181818</td>\n",
       "    </tr>\n",
       "    <tr>\n",
       "      <th>5</th>\n",
       "      <td>Jul</td>\n",
       "      <td>2799725.8</td>\n",
       "      <td>358968.333333</td>\n",
       "    </tr>\n",
       "    <tr>\n",
       "      <th>6</th>\n",
       "      <td>Jun</td>\n",
       "      <td>2557865.8</td>\n",
       "      <td>334890.178571</td>\n",
       "    </tr>\n",
       "    <tr>\n",
       "      <th>7</th>\n",
       "      <td>Mar</td>\n",
       "      <td>2526392.0</td>\n",
       "      <td>432786.170213</td>\n",
       "    </tr>\n",
       "    <tr>\n",
       "      <th>8</th>\n",
       "      <td>May</td>\n",
       "      <td>2482662.2</td>\n",
       "      <td>377134.523810</td>\n",
       "    </tr>\n",
       "    <tr>\n",
       "      <th>9</th>\n",
       "      <td>Nov</td>\n",
       "      <td>3312108.4</td>\n",
       "      <td>382328.571429</td>\n",
       "    </tr>\n",
       "    <tr>\n",
       "      <th>10</th>\n",
       "      <td>Oct</td>\n",
       "      <td>3298511.2</td>\n",
       "      <td>382588.297872</td>\n",
       "    </tr>\n",
       "    <tr>\n",
       "      <th>11</th>\n",
       "      <td>Sep</td>\n",
       "      <td>3044493.8</td>\n",
       "      <td>330036.842105</td>\n",
       "    </tr>\n",
       "  </tbody>\n",
       "</table>\n",
       "</div>"
      ],
      "text/plain": [
       "   Month     Dublin      Melbourne\n",
       "0    Apr  2213024.2  410209.027778\n",
       "1    Aug  2757950.0  335241.428571\n",
       "2    Dec  3187709.8  364354.716981\n",
       "3    Feb  2698388.8  443267.857143\n",
       "4    Jan  2623058.0  395848.181818\n",
       "5    Jul  2799725.8  358968.333333\n",
       "6    Jun  2557865.8  334890.178571\n",
       "7    Mar  2526392.0  432786.170213\n",
       "8    May  2482662.2  377134.523810\n",
       "9    Nov  3312108.4  382328.571429\n",
       "10   Oct  3298511.2  382588.297872\n",
       "11   Sep  3044493.8  330036.842105"
      ]
     },
     "execution_count": 94,
     "metadata": {},
     "output_type": "execute_result"
    }
   ],
   "source": [
    "# Merge the dfs\n",
    "Month = pd.merge(Dub_Month, Mel_Month, left_on='Month', right_on='Month_name')\n",
    "Month = Month.drop('Month_name', axis=1)\n",
    "Month = Month.rename(columns={'VALUE': 'Dublin', 'Pax_daily': 'Melbourne'})\n",
    "\n",
    "Month"
   ]
  },
  {
   "cell_type": "code",
   "execution_count": 95,
   "id": "a41b0ac1",
   "metadata": {},
   "outputs": [
    {
     "data": {
      "text/html": [
       "<div>\n",
       "<style scoped>\n",
       "    .dataframe tbody tr th:only-of-type {\n",
       "        vertical-align: middle;\n",
       "    }\n",
       "\n",
       "    .dataframe tbody tr th {\n",
       "        vertical-align: top;\n",
       "    }\n",
       "\n",
       "    .dataframe thead th {\n",
       "        text-align: right;\n",
       "    }\n",
       "</style>\n",
       "<table border=\"1\" class=\"dataframe\">\n",
       "  <thead>\n",
       "    <tr style=\"text-align: right;\">\n",
       "      <th></th>\n",
       "      <th>Month</th>\n",
       "      <th>Dublin</th>\n",
       "      <th>Melbourne</th>\n",
       "    </tr>\n",
       "  </thead>\n",
       "  <tbody>\n",
       "    <tr>\n",
       "      <th>0</th>\n",
       "      <td>Apr</td>\n",
       "      <td>2213024.2</td>\n",
       "      <td>410209.027778</td>\n",
       "    </tr>\n",
       "    <tr>\n",
       "      <th>1</th>\n",
       "      <td>Aug</td>\n",
       "      <td>2757950.0</td>\n",
       "      <td>335241.428571</td>\n",
       "    </tr>\n",
       "    <tr>\n",
       "      <th>2</th>\n",
       "      <td>Dec</td>\n",
       "      <td>3187709.8</td>\n",
       "      <td>364354.716981</td>\n",
       "    </tr>\n",
       "    <tr>\n",
       "      <th>3</th>\n",
       "      <td>Feb</td>\n",
       "      <td>2698388.8</td>\n",
       "      <td>443267.857143</td>\n",
       "    </tr>\n",
       "    <tr>\n",
       "      <th>4</th>\n",
       "      <td>Jan</td>\n",
       "      <td>2623058.0</td>\n",
       "      <td>395848.181818</td>\n",
       "    </tr>\n",
       "    <tr>\n",
       "      <th>5</th>\n",
       "      <td>Jul</td>\n",
       "      <td>2799725.8</td>\n",
       "      <td>358968.333333</td>\n",
       "    </tr>\n",
       "    <tr>\n",
       "      <th>6</th>\n",
       "      <td>Jun</td>\n",
       "      <td>2557865.8</td>\n",
       "      <td>334890.178571</td>\n",
       "    </tr>\n",
       "    <tr>\n",
       "      <th>7</th>\n",
       "      <td>Mar</td>\n",
       "      <td>2526392.0</td>\n",
       "      <td>432786.170213</td>\n",
       "    </tr>\n",
       "    <tr>\n",
       "      <th>8</th>\n",
       "      <td>May</td>\n",
       "      <td>2482662.2</td>\n",
       "      <td>377134.523810</td>\n",
       "    </tr>\n",
       "    <tr>\n",
       "      <th>9</th>\n",
       "      <td>Nov</td>\n",
       "      <td>3312108.4</td>\n",
       "      <td>382328.571429</td>\n",
       "    </tr>\n",
       "    <tr>\n",
       "      <th>10</th>\n",
       "      <td>Oct</td>\n",
       "      <td>3298511.2</td>\n",
       "      <td>382588.297872</td>\n",
       "    </tr>\n",
       "    <tr>\n",
       "      <th>11</th>\n",
       "      <td>Sep</td>\n",
       "      <td>3044493.8</td>\n",
       "      <td>330036.842105</td>\n",
       "    </tr>\n",
       "  </tbody>\n",
       "</table>\n",
       "</div>"
      ],
      "text/plain": [
       "   Month     Dublin      Melbourne\n",
       "0    Apr  2213024.2  410209.027778\n",
       "1    Aug  2757950.0  335241.428571\n",
       "2    Dec  3187709.8  364354.716981\n",
       "3    Feb  2698388.8  443267.857143\n",
       "4    Jan  2623058.0  395848.181818\n",
       "5    Jul  2799725.8  358968.333333\n",
       "6    Jun  2557865.8  334890.178571\n",
       "7    Mar  2526392.0  432786.170213\n",
       "8    May  2482662.2  377134.523810\n",
       "9    Nov  3312108.4  382328.571429\n",
       "10   Oct  3298511.2  382588.297872\n",
       "11   Sep  3044493.8  330036.842105"
      ]
     },
     "execution_count": 95,
     "metadata": {},
     "output_type": "execute_result"
    }
   ],
   "source": [
    "Month"
   ]
  },
  {
   "cell_type": "code",
   "execution_count": 96,
   "id": "332867df",
   "metadata": {},
   "outputs": [],
   "source": [
    "# Define the order of months\n",
    "month_order = ['Jan', 'Feb', 'Mar', 'Apr', 'May', 'Jun', 'Jul', 'Aug', 'Sep', 'Oct', 'Nov', 'Dec']\n",
    "Month['Month'] = pd.Categorical(Month['Month'], categories = month_order, ordered=True)\n",
    "Month = Month.sort_values('Month')"
   ]
  },
  {
   "cell_type": "code",
   "execution_count": 97,
   "id": "fb944073",
   "metadata": {},
   "outputs": [
    {
     "name": "stdout",
     "output_type": "stream",
     "text": [
      "   Month     Dublin      Melbourne  Dublin %  Melbourne %\n",
      "4    Jan  2623058.0  395848.181818  7.829582     8.704448\n",
      "3    Feb  2698388.8  443267.857143  8.054438     9.747176\n",
      "7    Mar  2526392.0  432786.170213  7.541043     9.516691\n",
      "0    Apr  2213024.2  410209.027778  6.605670     9.020234\n",
      "8    May  2482662.2  377134.523810  7.410514     8.292946\n",
      "6    Jun  2557865.8  334890.178571  7.634990     7.364020\n",
      "5    Jul  2799725.8  358968.333333  8.356919     7.893484\n",
      "1    Aug  2757950.0  335241.428571  8.232222     7.371744\n",
      "11   Sep  3044493.8  330036.842105  9.087528     7.257299\n",
      "10   Oct  3298511.2  382588.297872  9.845747     8.412871\n",
      "9    Nov  3312108.4  382328.571429  9.886333     8.407160\n",
      "2    Dec  3187709.8  364354.716981  9.515015     8.011927\n",
      "99.99999999999999\n",
      "100.00000000000001\n"
     ]
    }
   ],
   "source": [
    "# Calculate percentage column\n",
    "Month['Dublin %'] = (Month['Dublin'] / Month['Dublin'].sum()) * 100\n",
    "Month['Melbourne %'] = (Month['Melbourne'] / Month['Melbourne'].sum()) * 100\n",
    "\n",
    "# Display\n",
    "print(Month)\n",
    "print(Month['Dublin %'].sum())\n",
    "print(Month['Melbourne %'].sum())"
   ]
  },
  {
   "cell_type": "code",
   "execution_count": 98,
   "id": "3bca4e39",
   "metadata": {},
   "outputs": [
    {
     "data": {
      "image/png": "[encoded data removed]",
      "text/plain": [
       "<Figure size 1000x600 with 1 Axes>"
      ]
     },
     "metadata": {},
     "output_type": "display_data"
    }
   ],
   "source": [
    "# Set the plotting style\n",
    "sns.set(style=\"whitegrid\")\n",
    "\n",
    "# Define colours\n",
    "custom_palette = {'Melbourne %': 'red', 'Dublin %': 'skyblue'}\n",
    "\n",
    "# Reshape the df\n",
    "melted_df = pd.melt(Month, id_vars=['Month'], value_vars=['Melbourne %', 'Dublin %'])\n",
    "\n",
    "# Create a bar plot \n",
    "plt.figure(figsize=(10, 6))\n",
    "sns.barplot(x='Month', y='value', hue='variable', data=melted_df, palette=custom_palette)\n",
    "\n",
    "# Title and labels\n",
    "plt.title('Percentage of Passengers by Month', size = 14)\n",
    "plt.xlabel('Month')\n",
    "plt.ylabel('Percentage')\n",
    "plt.legend(loc='upper right')\n",
    "plt.show()"
   ]
  },
  {
   "cell_type": "markdown",
   "id": "2d7f3105",
   "metadata": {},
   "source": [
    "#### Section 3.11 Reliability"
   ]
  },
  {
   "cell_type": "markdown",
   "id": "f1eb96a4",
   "metadata": {},
   "source": [
    "Source: https://www.ptv.vic.gov.au/footer/data-and-reporting/track-record/"
   ]
  },
  {
   "cell_type": "code",
   "execution_count": 100,
   "id": "0db2fe24",
   "metadata": {},
   "outputs": [],
   "source": [
    "Mel_Time = pd.read_csv('DS13) Melbourne Timeliness.csv')\n",
    "Dub_Time = pd.read_csv('DS5) TOA10 - Luas infrastructure.csv')\n",
    "Dub_Time = Dub_Time[Dub_Time['Statistic Label'] == 'Timeliness (% services to timetable)']\n",
    "Dub_Time = Dub_Time[['Year', 'Luas Line', 'VALUE']]"
   ]
  },
  {
   "cell_type": "code",
   "execution_count": 101,
   "id": "3d0e59e2",
   "metadata": {},
   "outputs": [
    {
     "name": "stdout",
     "output_type": "stream",
     "text": [
      "Melbourne Average % On time: 80.79999999999998\n"
     ]
    }
   ],
   "source": [
    "# Calculate the average for Melbourne\n",
    "Mel_Time['% On time'] = Mel_Time['% On time'].str.rstrip('%').astype('float')\n",
    "average_on_time = Mel_Time['% On time'].mean()\n",
    "print(\"Melbourne Average % On time:\", average_on_time)"
   ]
  },
  {
   "cell_type": "code",
   "execution_count": 102,
   "id": "50ffa411",
   "metadata": {
    "scrolled": false
   },
   "outputs": [
    {
     "name": "stdout",
     "output_type": "stream",
     "text": [
      "Dublin Average % On time: 96.48100000000001\n"
     ]
    }
   ],
   "source": [
    "# Separate the concatenated values\n",
    "Dub_Time['VALUE'] = Dub_Time['VALUE'].str.extract('(\\d+\\.\\d+)').astype('float')\n",
    "\n",
    "# Calculate the average for Dublin\n",
    "average_on_time = Dub_Time['VALUE'].mean()\n",
    "print(\"Dublin Average % On time:\", average_on_time)"
   ]
  },
  {
   "cell_type": "markdown",
   "id": "3c0f793c",
   "metadata": {},
   "source": [
    "## Part 3) UN Tram and Light Rail Data"
   ]
  },
  {
   "cell_type": "markdown",
   "id": "fc409f99",
   "metadata": {},
   "source": [
    "After performing additional reserach I found this UN dataset which details numberous light rail systems in multiple cities around the world. "
   ]
  },
  {
   "cell_type": "markdown",
   "id": "19b1e689",
   "metadata": {},
   "source": [
    "#### Section 3.12: Data Manipulation"
   ]
  },
  {
   "cell_type": "markdown",
   "id": "3e67718b",
   "metadata": {},
   "source": [
    "Source: https://unece.org/tram-and-metro-data"
   ]
  },
  {
   "cell_type": "code",
   "execution_count": 114,
   "id": "64aca654",
   "metadata": {},
   "outputs": [],
   "source": [
    "# Read in data\n",
    "UN_df = pd.read_csv('DS14) UN Tram Dataset.csv')\n",
    "#UN_df"
   ]
  },
  {
   "cell_type": "code",
   "execution_count": 115,
   "id": "b6652a99",
   "metadata": {},
   "outputs": [],
   "source": [
    "# Removing columns\n",
    "UN_df = UN_df.drop(['Countrycode', 'Note'], axis=1)"
   ]
  },
  {
   "cell_type": "code",
   "execution_count": 116,
   "id": "e4ed112c",
   "metadata": {},
   "outputs": [
    {
     "name": "stdout",
     "output_type": "stream",
     "text": [
      "   City   Type Quarter Variable    Value\n",
      "0  Baku  Metro  1Q2020     Pass  50855.0\n",
      "1  Baku  Metro  2Q2020     Pass  13251.6\n",
      "2  Baku  Metro  3Q2020     Pass   5502.4\n",
      "3  Baku  Metro  4Q2020     Pass   5100.3\n",
      "4  Baku  Metro  1Q2021     Pass      0.0\n",
      "['Pass' 'PKM']\n",
      "137891153.27300495\n"
     ]
    }
   ],
   "source": [
    "print(UN_df.head())\n",
    "print(UN_df['Variable'].unique())\n",
    "print(UN_df['Value'].sum())"
   ]
  },
  {
   "cell_type": "markdown",
   "id": "acb8e5c3",
   "metadata": {},
   "source": [
    "Some cities have multiple light rail systems, like Sofia for example, which has both a metro and a tram system. Therefore I have taken the decision to group by city. Alternatively, I could have filtered by only \"Tram\" systems but this reduces the dataset significantly. \n",
    "\n",
    "Also, I think it is a fair comparison to make as we are discussing inner city light rail transport. "
   ]
  },
  {
   "cell_type": "code",
   "execution_count": 117,
   "id": "14b0b3ed",
   "metadata": {},
   "outputs": [
    {
     "name": "stdout",
     "output_type": "stream",
     "text": [
      "                 City Quarter Variable    Value\n",
      "0              Aarhus  1Q2018      PKM   2000.0\n",
      "1              Aarhus  1Q2018     Pass    683.0\n",
      "2              Aarhus  1Q2019      PKM   7000.0\n",
      "3              Aarhus  1Q2019     Pass   1156.0\n",
      "4              Aarhus  1Q2020      PKM  11000.0\n",
      "...               ...     ...      ...      ...\n",
      "2091  Zhytomyr region  3Q2021      PKM   3430.3\n",
      "2092  Zhytomyr region  3Q2021     Pass   1225.1\n",
      "2093  Zhytomyr region  4Q2019     Pass   1782.7\n",
      "2094  Zhytomyr region  4Q2020      PKM   3765.1\n",
      "2095  Zhytomyr region  4Q2020     Pass   1344.7\n",
      "\n",
      "[2096 rows x 4 columns]\n",
      "(2096, 4)\n",
      "['PKM' 'Pass']\n",
      "137891153.27300495\n"
     ]
    }
   ],
   "source": [
    "# Define the aggregation functions\n",
    "aggregation_functions = {'Value': 'sum',}\n",
    "\n",
    "# Group by 'City', 'Quarter', and 'Variable' and apply the aggregation functions\n",
    "UN_df = UN_df.groupby(['City', 'Quarter', 'Variable'], as_index=False).agg(aggregation_functions)\n",
    "\n",
    "# Alternatively, only include tram systems\n",
    "#UN_df = UN_df[UN_df['Type'] == 'Tram']\n",
    "\n",
    "# Display\n",
    "print(UN_df)\n",
    "print(UN_df.shape)\n",
    "print(UN_df['Variable'].unique())\n",
    "print(UN_df['Value'].sum())"
   ]
  },
  {
   "cell_type": "code",
   "execution_count": 118,
   "id": "2df24072",
   "metadata": {},
   "outputs": [],
   "source": [
    "# Alternatively, only include tram systems\n",
    "#UN_df = UN_df[UN_df['Type'] == 'Tram']\n",
    "\n",
    "# Display\n",
    "#print(UN_df)\n",
    "#print(UN_df.shape)\n",
    "#print(UN_df['Variable'].unique())\n",
    "#print(UN_df['Value'].sum())"
   ]
  },
  {
   "cell_type": "code",
   "execution_count": 119,
   "id": "bd54ae17",
   "metadata": {},
   "outputs": [],
   "source": [
    "# Split the df into 2\n",
    "pass_df = UN_df[UN_df['Variable'] == 'Pass']\n",
    "pkm_df = UN_df[UN_df['Variable'] == 'PKM']"
   ]
  },
  {
   "cell_type": "markdown",
   "id": "72fa2a93",
   "metadata": {},
   "source": [
    "#### Section 3.13: Passenger Volumes Dashboard"
   ]
  },
  {
   "cell_type": "code",
   "execution_count": 120,
   "id": "e43620db",
   "metadata": {},
   "outputs": [
    {
     "name": "stderr",
     "output_type": "stream",
     "text": [
      "C:\\Users\\cathalnugent\\AppData\\Local\\Temp\\ipykernel_8516\\588412643.py:7: FutureWarning:\n",
      "\n",
      "The default value of regex will change from True to False in a future version.\n",
      "\n"
     ]
    }
   ],
   "source": [
    "# Tidying df\n",
    "pass_df = pass_df.drop('Variable', axis=1)\n",
    "pass_df = pass_df.rename(columns={'Value': 'No. of Passengers'})\n",
    "pass_df['No. of Passengers'] = pass_df['No. of Passengers'] * 1000\n",
    "\n",
    "# Editing the Quarter column\n",
    "pass_df['Quarter'] = pass_df['Quarter'].str.replace(r'(\\d)Q(\\d{4})', r'Q\\1 \\2')"
   ]
  },
  {
   "cell_type": "code",
   "execution_count": 121,
   "id": "1b196e8e",
   "metadata": {},
   "outputs": [],
   "source": [
    "#pass_df"
   ]
  },
  {
   "cell_type": "code",
   "execution_count": 122,
   "id": "29aec22d",
   "metadata": {
    "scrolled": false
   },
   "outputs": [
    {
     "data": {
      "text/html": [
       "\n",
       "        <iframe\n",
       "            width=\"100%\"\n",
       "            height=\"650\"\n",
       "            src=\"http://127.0.0.1:8050/\"\n",
       "            frameborder=\"0\"\n",
       "            allowfullscreen\n",
       "            \n",
       "        ></iframe>\n",
       "        "
      ],
      "text/plain": [
       "<IPython.lib.display.IFrame at 0x193e8a67220>"
      ]
     },
     "metadata": {},
     "output_type": "display_data"
    }
   ],
   "source": [
    "# Initialize\n",
    "app = dash.Dash(__name__)\n",
    "\n",
    "# Define the layout\n",
    "app.layout = html.Div([\n",
    "    html.H1(\"Passenger Volumes\", style={'font-family': 'Arial, sans-serif'}),\n",
    "    \n",
    "    dcc.Dropdown(\n",
    "        id='city-dropdown',\n",
    "        options=[{'label': city, 'value': city} for city in pass_df['City'].unique()],\n",
    "        value=pass_df['City'].unique()[0],\n",
    "        multi=False,\n",
    "        style={'width': '50%'}\n",
    "    ),\n",
    "    \n",
    "    dcc.Graph(id='passenger-chart'),\n",
    "])\n",
    "\n",
    "# Define callback to update the chart\n",
    "@app.callback(\n",
    "    dash.dependencies.Output('passenger-chart', 'figure'),\n",
    "    [dash.dependencies.Input('city-dropdown', 'value')]\n",
    ")\n",
    "def update_chart(selected_city):\n",
    "    filtered_df = pass_df[pass_df['City'] == selected_city]\n",
    "    \n",
    "    figure = {\n",
    "        'data': [\n",
    "            {'x': filtered_df['Quarter'], 'y': filtered_df['No. of Passengers'], 'type': 'bar', 'name': 'Passengers'},\n",
    "        ],\n",
    "        'layout': {\n",
    "            'title': f'Passenger Volumnes for {selected_city}',\n",
    "            'xaxis': {'title': 'Quarter'},\n",
    "            'yaxis': {'title': 'No. of Passengers'},\n",
    "        }\n",
    "    }\n",
    "    return figure\n",
    "\n",
    "# Run\n",
    "if __name__ == '__main__':\n",
    "    app.run_server(debug=True)"
   ]
  },
  {
   "cell_type": "markdown",
   "id": "cb45dda0",
   "metadata": {},
   "source": [
    "I like the above dashboard but I wanted to enhance it in order to compare different cities, so I wanted to create a second dash with this ability."
   ]
  },
  {
   "cell_type": "code",
   "execution_count": 123,
   "id": "05a76bf1",
   "metadata": {
    "scrolled": false
   },
   "outputs": [
    {
     "data": {
      "text/html": [
       "\n",
       "        <iframe\n",
       "            width=\"100%\"\n",
       "            height=\"650\"\n",
       "            src=\"http://127.0.0.1:8051/\"\n",
       "            frameborder=\"0\"\n",
       "            allowfullscreen\n",
       "            \n",
       "        ></iframe>\n",
       "        "
      ],
      "text/plain": [
       "<IPython.lib.display.IFrame at 0x193e71a9c00>"
      ]
     },
     "metadata": {},
     "output_type": "display_data"
    }
   ],
   "source": [
    "# Initialise the app\n",
    "app2 = dash.Dash(__name__)\n",
    "\n",
    "# Define the layout \n",
    "app2.layout = html.Div([\n",
    "    html.H1(\"Passenger Volumes\", style={'font-family': 'Arial, sans-serif'}),\n",
    "    \n",
    "    dcc.Dropdown(\n",
    "        id='city-dropdown2',\n",
    "        options=[{'label': city, 'value': city} for city in pass_df['City'].unique()],\n",
    "        value=['Dublin'],  # Set Dublin as default\n",
    "        multi=True,\n",
    "        style={'width': '50%'}\n",
    "    ),\n",
    "    \n",
    "    dcc.Graph(id='passenger-chart2'),\n",
    "])\n",
    "\n",
    "# Define callback \n",
    "@app2.callback(\n",
    "    dash.dependencies.Output('passenger-chart2', 'figure'),\n",
    "    [dash.dependencies.Input('city-dropdown2', 'value')]\n",
    ")\n",
    "def update_chart2(selected_cities):\n",
    "    if not selected_cities:\n",
    "        figure = {\n",
    "            'data': [],\n",
    "            'layout': {\n",
    "                'title': 'Passenger Volumes (App 2)',\n",
    "                'xaxis': {'title': 'Quarter'},\n",
    "                'yaxis': {'title': 'No. of Passengers'},\n",
    "            }\n",
    "        }\n",
    "    else:\n",
    "        traces = []\n",
    "        for city in selected_cities:\n",
    "            filtered_df = pass_df[pass_df['City'] == city]\n",
    "            trace = {'x': filtered_df['Quarter'], 'y': filtered_df['No. of Passengers'], 'type': 'scatter', 'name': city}\n",
    "            traces.append(trace)\n",
    "\n",
    "        figure = {\n",
    "            'data': traces,\n",
    "            'layout': {\n",
    "                'title': f'Passenger Volumes for {\", \".join(selected_cities)}',\n",
    "                'xaxis': {'title': 'Quarter'},\n",
    "                'yaxis': {'title': 'No. of Passengers'},\n",
    "            }\n",
    "        }\n",
    "    return figure\n",
    "\n",
    "# Run\n",
    "if __name__ == '__main__':\n",
    "    app2.run_server(debug=True, port=8051)"
   ]
  },
  {
   "cell_type": "markdown",
   "id": "a41420bb",
   "metadata": {},
   "source": [
    "#### Section 3.14: Passenger Volumes Welch's t-test"
   ]
  },
  {
   "cell_type": "code",
   "execution_count": 124,
   "id": "e7b4231e",
   "metadata": {},
   "outputs": [],
   "source": [
    "Dublin_data  = pass_df[(pass_df['City'] == 'Dublin')]['No. of Passengers']\n",
    "Tallinn_data = pass_df[(pass_df['City'] == 'Tallinn')]['No. of Passengers']\n",
    "\n",
    "t_stat, p_value = ttest_ind(Dublin_data, Tallinn_data)"
   ]
  },
  {
   "cell_type": "markdown",
   "id": "41f80a8c",
   "metadata": {},
   "source": [
    "The ttest_ind function assumes that the two samples have the same length and are drawn from populations with the same variance. \n",
    "\n",
    "As our datasets have differing lengths, I have set the equal_var parameter to False in the ttest_ind function, which performs Welch's t-test. Welch's t-test is a modification of the t-test that does not assume equal variances or sample sizes."
   ]
  },
  {
   "cell_type": "code",
   "execution_count": 125,
   "id": "c0ed82ca",
   "metadata": {},
   "outputs": [
    {
     "name": "stdout",
     "output_type": "stream",
     "text": [
      "T-Statistic: -0.28028305730303077\n",
      "P-Value: 0.7837283023792551\n",
      "Fail to reject the null hypothesis. No significant difference.\n"
     ]
    }
   ],
   "source": [
    "# Extract data\n",
    "Dublin_data = pass_df[(pass_df['City'] == 'Dublin')]['No. of Passengers']\n",
    "Tallinn_data = pass_df[(pass_df['City'] == 'Tallinn')]['No. of Passengers']\n",
    "\n",
    "# Perform Welch's t-test\n",
    "t_stat, p_value = ttest_ind(Dublin_data, Tallinn_data, equal_var=False)\n",
    "\n",
    "# Display the results\n",
    "print(f'T-Statistic: {t_stat}')\n",
    "print(f'P-Value: {p_value}')\n",
    "\n",
    "# Interpret the results\n",
    "alpha = 0.05  # Set your significance level\n",
    "if p_value <= alpha:\n",
    "    print('Reject the null hypothesis. There is a significant difference.')\n",
    "else:\n",
    "    print('Fail to reject the null hypothesis. No significant difference.')"
   ]
  },
  {
   "cell_type": "markdown",
   "id": "078d906d",
   "metadata": {},
   "source": [
    "#### Section 3.15: Passenger Kilometres Mann-Whitney test"
   ]
  },
  {
   "cell_type": "code",
   "execution_count": 126,
   "id": "635e10be",
   "metadata": {},
   "outputs": [],
   "source": [
    "#pkm_df"
   ]
  },
  {
   "cell_type": "code",
   "execution_count": 127,
   "id": "1fec2293",
   "metadata": {},
   "outputs": [],
   "source": [
    "# Extract data \n",
    "Sofia_data = pkm_df[(pkm_df['City'] == 'Sofia')]['Value']\n",
    "Tallin_data = pkm_df[(pkm_df['City'] == 'Tallinn')]['Value']"
   ]
  },
  {
   "cell_type": "code",
   "execution_count": null,
   "id": "099db1c8",
   "metadata": {},
   "outputs": [],
   "source": [
    "# Perform Mann-Whitney U test\n",
    "u_stat, p_value = mannwhitneyu(Sofia_data, Tallin_data)"
   ]
  },
  {
   "cell_type": "code",
   "execution_count": 128,
   "id": "8bc49c4e",
   "metadata": {},
   "outputs": [
    {
     "name": "stdout",
     "output_type": "stream",
     "text": [
      "U-Statistic: 121.0\n",
      "P-Value: 8.151536127743244e-05\n",
      "Reject the null hypothesis. There is a significant difference.\n"
     ]
    }
   ],
   "source": [
    "# Display the results\n",
    "print(f'U-Statistic: {u_stat}')\n",
    "print(f'P-Value: {p_value}')\n",
    "\n",
    "# Interpret the results\n",
    "alpha = 0.05  # Set your significance level\n",
    "if p_value <= alpha:\n",
    "    print('Reject the null hypothesis. There is a significant difference.')\n",
    "else:\n",
    "    print('Fail to reject the null hypothesis. No significant difference.')"
   ]
  },
  {
   "cell_type": "markdown",
   "id": "c2dc2da7",
   "metadata": {},
   "source": [
    "The End"
   ]
  }
 ],
 "metadata": {
  "kernelspec": {
   "display_name": "Python 3 (ipykernel)",
   "language": "python",
   "name": "python3"
  },
  "language_info": {
   "codemirror_mode": {
    "name": "ipython",
    "version": 3
   },
   "file_extension": ".py",
   "mimetype": "text/x-python",
   "name": "python",
   "nbconvert_exporter": "python",
   "pygments_lexer": "ipython3",
   "version": "3.10.9"
  }
 },
 "nbformat": 4,
 "nbformat_minor": 5
}
