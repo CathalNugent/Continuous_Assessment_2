{
 "cells": [
  {
   "cell_type": "markdown",
   "id": "e57cdfd6",
   "metadata": {},
   "source": [
    "## Notebook 1) Current State of Irish Rail"
   ]
  },
  {
   "cell_type": "markdown",
   "id": "5191493d",
   "metadata": {},
   "source": [
    "#### Section 1.1: Introduction"
   ]
  },
  {
   "cell_type": "code",
   "execution_count": null,
   "id": "215bcccc",
   "metadata": {},
   "outputs": [],
   "source": [
    "# Read in Libraries\n",
    "import pandas as pd\n",
    "import matplotlib.pyplot as plt\n",
    "import plotly.express as px\n",
    "import geopandas as gpd\n",
    "import shapely.geometry\n",
    "import numpy as np\n",
    "import plotly.graph_objects as go"
   ]
  },
  {
   "cell_type": "code",
   "execution_count": null,
   "id": "359c3194",
   "metadata": {},
   "outputs": [],
   "source": [
    "# Supress warnings\n",
    "import warnings\n",
    "warnings.filterwarnings(\"ignore\")"
   ]
  },
  {
   "cell_type": "markdown",
   "id": "30885c23",
   "metadata": {},
   "source": [
    "#### Section 1.2: Data Analytics"
   ]
  },
  {
   "cell_type": "markdown",
   "id": "9ab88804",
   "metadata": {},
   "source": [
    "Source: https://data.gov.ie/dataset/tca01-passenger-journeys-by-rail-thousand"
   ]
  },
  {
   "cell_type": "code",
   "execution_count": null,
   "id": "16e23082",
   "metadata": {},
   "outputs": [],
   "source": [
    "# Read in data\n",
    "df = pd.read_csv(\"DS1) TCA01 - Passenger Journeys by Rail.csv\")\n",
    "df = df.drop(['STATISTIC Label', 'UNIT'], axis=1)\n",
    "df"
   ]
  },
  {
   "cell_type": "code",
   "execution_count": null,
   "id": "126a0408",
   "metadata": {},
   "outputs": [],
   "source": [
    "# Assess data\n",
    "df.info()"
   ]
  },
  {
   "cell_type": "code",
   "execution_count": null,
   "id": "e2b557c2",
   "metadata": {},
   "outputs": [],
   "source": [
    "# Filter data \n",
    "df['Year'] = pd.to_numeric(df['Year'], errors='coerce')\n",
    "df_filtered = df[df['Year'] >= 2005]\n",
    "df_filtered = df_filtered[df_filtered['Type of Journey'] != 'All journeys']\n",
    "#df_filtered"
   ]
  },
  {
   "cell_type": "code",
   "execution_count": null,
   "id": "80226832",
   "metadata": {},
   "outputs": [],
   "source": [
    "#Pivot the df\n",
    "df_pivot = df_filtered.pivot(index='Year', columns='Type of Journey', values='VALUE')\n",
    "\n",
    "#This pivot funtion is a very good alternative to the more manual data manipulation.\n",
    "\n",
    "# Plot the line chart\n",
    "df_pivot.plot(kind='line', marker='o', figsize=(18, 8))\n",
    "plt.title('Passenger Journeys by Rail', size = 16)\n",
    "plt.xlabel('Year', size = 12)\n",
    "plt.ylabel('Number of Journeys', size = 12)\n",
    "plt.legend(title='Type of Journey', bbox_to_anchor=(1, 1), loc='upper right')\n",
    "plt.xticks(df_pivot.index[::5])\n",
    "plt.grid(True)\n",
    "plt.show()"
   ]
  },
  {
   "cell_type": "markdown",
   "id": "59e873ea",
   "metadata": {},
   "source": [
    "We can clearly see the dramatic impact that COVID had on the number of people using the rail network. "
   ]
  },
  {
   "cell_type": "markdown",
   "id": "74bdd5f0",
   "metadata": {},
   "source": [
    "#### Section 1.3: Geographical Visualisation"
   ]
  },
  {
   "cell_type": "markdown",
   "id": "95b992e8",
   "metadata": {},
   "source": [
    "Source: https://data.gov.ie/en_GB/dataset/rail-network-national-250k-map-of-ireland/resource/b8af1c61-2211-4668-937b-4953ee0c5402"
   ]
  },
  {
   "cell_type": "code",
   "execution_count": null,
   "id": "fd56e5ce",
   "metadata": {},
   "outputs": [],
   "source": [
    "# Read the Rail Network GeoJSON file\n",
    "rn_gdf = gpd.read_file(\"G1) Rail_Network.geojson\")#\n",
    "#rn_gdf"
   ]
  },
  {
   "cell_type": "code",
   "execution_count": null,
   "id": "b131db2c",
   "metadata": {},
   "outputs": [],
   "source": [
    "# Test Plot\n",
    "#rn_gdf.plot(color='red', linewidth = 0.75)"
   ]
  },
  {
   "cell_type": "markdown",
   "id": "0ba685b4",
   "metadata": {},
   "source": [
    "Source: https://data.gov.ie/dataset/counties-national-statutory-boundaries-2019/resource/9f1da952-46ee-474a-a005-544b129bc970"
   ]
  },
  {
   "cell_type": "code",
   "execution_count": null,
   "id": "2b62fad0",
   "metadata": {
    "scrolled": false
   },
   "outputs": [],
   "source": [
    "# Read the GeoJSON file\n",
    "c_gdf = gpd.read_file(\"G2) Counties.geojson\")\n",
    "#c_gdf"
   ]
  },
  {
   "cell_type": "markdown",
   "id": "9753902f",
   "metadata": {},
   "source": [
    "Source: https://data.gov.ie/en_GB/dataset/railway-stations-national-250k-map-of-ireland2"
   ]
  },
  {
   "cell_type": "code",
   "execution_count": null,
   "id": "fac26e4d",
   "metadata": {},
   "outputs": [],
   "source": [
    "# Read the GeoJSON file\n",
    "s_gdf = gpd.read_file(\"G3) Railway_Stations.geojson\")\n",
    "#s_gdf"
   ]
  },
  {
   "cell_type": "code",
   "execution_count": null,
   "id": "c7f0da8e",
   "metadata": {},
   "outputs": [],
   "source": [
    "# Plotting Rail map of Ireland\n",
    "fig, ax = plt.subplots(figsize=(8,8))\n",
    "c_gdf.boundary.plot(ax=ax, color='black', linewidth=0.5)\n",
    "rn_gdf.plot(ax=ax, color='red', linewidth=0.75, label='Rail Network')\n",
    "s_gdf.plot(ax=ax, color='blue', markersize=10, label='Railway Stations')\n",
    "ax.set_axis_off()\n",
    "plt.title('Irish Rail Network')\n",
    "plt.legend(loc = 'upper left')\n",
    "plt.show()"
   ]
  },
  {
   "cell_type": "markdown",
   "id": "6d753b84",
   "metadata": {},
   "source": [
    "Whilst this map is a good depiction of the Irish rail network I wanted to further this by creating an interactive map. "
   ]
  },
  {
   "cell_type": "markdown",
   "id": "ddd72b3b",
   "metadata": {},
   "source": [
    "#### Section 1.4: Interactive Map"
   ]
  },
  {
   "cell_type": "code",
   "execution_count": null,
   "id": "fe90d73a",
   "metadata": {},
   "outputs": [],
   "source": [
    "# Outline variables\n",
    "lats = []\n",
    "lons = []\n",
    "names = []\n",
    "\n",
    "for feature, name in zip(rn_gdf.geometry, rn_gdf.index):\n",
    "    if isinstance(feature, shapely.geometry.linestring.LineString):\n",
    "        linestrings = [feature]\n",
    "    elif isinstance(feature, shapely.geometry.multilinestring.MultiLineString):\n",
    "        linestrings = feature.geoms\n",
    "    else:\n",
    "        continue\n",
    "    for linestring in linestrings:\n",
    "        x, y = linestring.xy\n",
    "        lats = np.append(lats, y)\n",
    "        lons = np.append(lons, x)\n",
    "        names = np.append(names, [name] * len(y))\n",
    "        lats = np.append(lats, None)\n",
    "        lons = np.append(lons, None)\n",
    "        names = np.append(names, None)\n",
    "\n",
    "# Set the center for Ireland\n",
    "center_coordinates = dict(lat=53.5, lon=-7.8)\n",
    "\n",
    "# Create choropleth map \n",
    "fig = px.choropleth_mapbox(\n",
    "    rn_gdf,\n",
    "    geojson=c_gdf,\n",
    "    locations=rn_gdf.index,\n",
    "    color_discrete_sequence=['lightgrey'],\n",
    "    opacity=0.5,\n",
    "    mapbox_style=\"carto-positron\",\n",
    "    center=center_coordinates,\n",
    "    zoom=6,\n",
    "    title='Ireland Rail Network'\n",
    "    \n",
    ")\n",
    "\n",
    "# Overlay rail network lines\n",
    "fig.add_trace(go.Scattermapbox(\n",
    "    lat=lats,\n",
    "    lon=lons,\n",
    "    mode='lines',\n",
    "    text=names,\n",
    "    hoverinfo='text',\n",
    "    line=dict(color='red', width=2),  # Adjust line color and width as needed\n",
    "    \n",
    "))\n",
    "\n",
    "# Plotting stations\n",
    "lats_stations = s_gdf.geometry.y\n",
    "lons_stations = s_gdf.geometry.x\n",
    "\n",
    "# Overlay rail stations\n",
    "stations_trace = go.Scattermapbox(\n",
    "    lat=lats_stations,\n",
    "    lon=lons_stations,\n",
    "    mode='markers',\n",
    "    marker=dict(size=8, color='blue'), \n",
    "    text=s_gdf['NAMN1'],\n",
    "    hoverinfo='text'\n",
    ")\n",
    "\n",
    "# Add the trace to the existing figure\n",
    "fig.add_trace(stations_trace)\n",
    "fig.update_layout(showlegend=False)\n",
    "\n",
    "# Set the size of the window\n",
    "fig.update_layout(\n",
    "    width=900, \n",
    "    height=800,  \n",
    ")\n",
    "fig.show()"
   ]
  },
  {
   "cell_type": "markdown",
   "id": "afa16fa1",
   "metadata": {},
   "source": [
    "#### Section 1.5: Choropleth Map"
   ]
  },
  {
   "cell_type": "markdown",
   "id": "7103c928",
   "metadata": {},
   "source": [
    "Source: https://www.cso.ie/en/releasesandpublications/ep/p-lfs/labourforcesurveyquarter12021/labourforce/"
   ]
  },
  {
   "cell_type": "code",
   "execution_count": null,
   "id": "025d226d",
   "metadata": {},
   "outputs": [],
   "source": [
    "# Read in data\n",
    "df = pd.read_csv(\"DS2) F7001 - Population in the Labour Force.csv\")\n",
    "#df"
   ]
  },
  {
   "cell_type": "code",
   "execution_count": null,
   "id": "e13974c8",
   "metadata": {},
   "outputs": [],
   "source": [
    "#Merge Dublin Values\n",
    "dublin_value = (\n",
    "    df.loc[df['County of Usual Residence'] == 'Dublin City', 'VALUE'].values[0] +\n",
    "    df.loc[df['County of Usual Residence'] == 'Dún Laoghaire-Rathdown', 'VALUE'].values[0] + \n",
    "    df.loc[df['County of Usual Residence'] == 'South Dublin', 'VALUE'].values[0] + \n",
    "    df.loc[df['County of Usual Residence'] == 'Fingal', 'VALUE'].values[0]\n",
    ")\n",
    "\n",
    "# Create a new row for Dublin\n",
    "dublin_row = {\n",
    "    'Statistic Label': 'Population aged 15 Years and Over in the Labour Force',\n",
    "    'Census Year': 2022,\n",
    "    'Sex': 'Both sexes',\n",
    "    'County of Usual Residence': 'Dublin',\n",
    "    'Age Group': 'All ages',\n",
    "    'Labour Force': 'All persons',\n",
    "    'UNIT': 'Number',\n",
    "    'VALUE': dublin_value,\n",
    "}\n",
    "\n",
    "# Append the new row to the DataFrame\n",
    "df = df.append(dublin_row, ignore_index=True)\n",
    "\n",
    "# Drop the original Dublin rows\n",
    "df = df[~df['County of Usual Residence'].isin(['Dublin City', 'Dún Laoghaire-Rathdown', 'South Dublin', 'Fingal'])]"
   ]
  },
  {
   "cell_type": "code",
   "execution_count": null,
   "id": "71e765cf",
   "metadata": {},
   "outputs": [],
   "source": [
    "# Calculate Galway counties\n",
    "galway_value = (\n",
    "    df.loc[df['County of Usual Residence'] == 'Galway City', 'VALUE'].values[0] +\n",
    "    df.loc[df['County of Usual Residence'] == 'Galway County', 'VALUE'].values[0]\n",
    ")\n",
    "\n",
    "# Create a new row for Galway\n",
    "galway_row = {\n",
    "    'Statistic Label': 'Population aged 15 Years and Over in the Labour Force',\n",
    "    'Census Year': 2022,\n",
    "    'Sex': 'Both sexes',\n",
    "    'County of Usual Residence': 'Galway',\n",
    "    'Age Group': 'All ages',\n",
    "    'Labour Force': 'All persons',\n",
    "    'UNIT': 'Number',\n",
    "    'VALUE': galway_value,\n",
    "}\n",
    "\n",
    "# Append the new row to the DataFrame\n",
    "df = df.append(galway_row, ignore_index=True)\n",
    "\n",
    "# Drop the original Galway rows\n",
    "df = df[~df['County of Usual Residence'].isin(['Galway City', 'Galway County'])]"
   ]
  },
  {
   "cell_type": "code",
   "execution_count": null,
   "id": "b036eb1b",
   "metadata": {},
   "outputs": [],
   "source": [
    "# Replace \"X City and X County\" with \"X\" in the DataFrame\n",
    "df.loc[df['County of Usual Residence'] == 'Cork City and Cork County', 'County of Usual Residence'] = 'Cork'\n",
    "df.loc[df['County of Usual Residence'] == 'Limerick City and County', 'County of Usual Residence'] = 'Limerick'\n",
    "df.loc[df['County of Usual Residence'] == 'Waterford City and County', 'County of Usual Residence'] = 'Waterford'"
   ]
  },
  {
   "cell_type": "code",
   "execution_count": null,
   "id": "431f88d6",
   "metadata": {},
   "outputs": [],
   "source": [
    "#df"
   ]
  },
  {
   "cell_type": "code",
   "execution_count": null,
   "id": "1addb393",
   "metadata": {},
   "outputs": [],
   "source": [
    "# Convert county names to uppercase for both dataframes\n",
    "c_gdf['COUNTY'] = c_gdf['COUNTY'].str.upper()\n",
    "df['County of Usual Residence'] = df['County of Usual Residence'].str.upper()\n",
    "\n",
    "# Merge the population data\n",
    "merged_gdf = c_gdf.merge(df[['County of Usual Residence', 'VALUE']], \n",
    "                          left_on='COUNTY', \n",
    "                          right_on='County of Usual Residence', \n",
    "                          how='left')\n",
    "\n",
    "# Rename the column\n",
    "merged_gdf.rename(columns={'VALUE': 'Population'}, inplace=True)\n",
    "\n",
    "# Drop unnecessary columns\n",
    "merged_gdf.drop(['County of Usual Residence'], axis=1, inplace=True)"
   ]
  },
  {
   "cell_type": "code",
   "execution_count": null,
   "id": "2fc5f77c",
   "metadata": {},
   "outputs": [],
   "source": [
    "#merged_gdf"
   ]
  },
  {
   "cell_type": "code",
   "execution_count": null,
   "id": "46a7f0a2",
   "metadata": {},
   "outputs": [],
   "source": [
    "# Set the range for the colour scale\n",
    "color_scale_range = [0, 200000]\n",
    "\n",
    "# Create choropleth map for population density\n",
    "fig_density = px.choropleth_mapbox(\n",
    "    merged_gdf,\n",
    "    geojson=merged_gdf.geometry,\n",
    "    locations=merged_gdf.index,\n",
    "    color='Population',\n",
    "    color_continuous_scale=\"RdBu_r\",\n",
    "    opacity=0.7,\n",
    "    mapbox_style=\"carto-positron\",\n",
    "    center=center_coordinates,\n",
    "    zoom=6,\n",
    "    title='Ireland Population Density',\n",
    "    range_color=color_scale_range,  # Set the color scale range\n",
    ")\n",
    "\n",
    "# Overlay rail network map\n",
    "fig_density.add_trace(go.Scattermapbox(\n",
    "    lat=lats,\n",
    "    lon=lons,\n",
    "    mode='lines',\n",
    "    text=names,\n",
    "    hoverinfo='text',\n",
    "    line=dict(color='#FFD700', width=2), \n",
    "))\n",
    "\n",
    "# Set the size of the window\n",
    "fig_density.update_layout(\n",
    "    width=900, \n",
    "    height=800,  \n",
    ")\n",
    "\n",
    "fig_density.update_layout(showlegend=False)\n",
    "fig_density.show()"
   ]
  },
  {
   "cell_type": "markdown",
   "id": "b19cb165",
   "metadata": {},
   "source": [
    "I appeciate the size of this notebook is very large but I have taken a number of steps to reduce the size and processing power required to display the above visualisations. I also didn't wanted to remove any of the GeoJSON's above simply as I throught the visualisations were at a good level of detail and I didn't want to remove any of this detail. "
   ]
  },
  {
   "cell_type": "markdown",
   "id": "2e57f058",
   "metadata": {},
   "source": [
    "#### The End"
   ]
  }
 ],
 "metadata": {
  "kernelspec": {
   "display_name": "Python 3 (ipykernel)",
   "language": "python",
   "name": "python3"
  },
  "language_info": {
   "codemirror_mode": {
    "name": "ipython",
    "version": 3
   },
   "file_extension": ".py",
   "mimetype": "text/x-python",
   "name": "python",
   "nbconvert_exporter": "python",
   "pygments_lexer": "ipython3",
   "version": "3.10.9"
  }
 },
 "nbformat": 4,
 "nbformat_minor": 5
}
